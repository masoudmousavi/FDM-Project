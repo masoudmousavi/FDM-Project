{
  "nbformat": 4,
  "nbformat_minor": 0,
  "metadata": {
    "colab": {
      "name": "FDM-Project-Phase 2.ipynb",
      "provenance": [],
      "collapsed_sections": [
        "LCMkGb62T59Y",
        "pqlt02xvOHt7",
        "7tVVb_Q-EhhT",
        "aN6z-QY--v2w",
        "ESTOv5gikuHS",
        "ZwkE5RB3PvqT",
        "EosAd3pM_Tq4",
        "1pCxa7Cm_hKB",
        "uaCQivms_kSy",
        "vaqquHlFABt8",
        "JRvCh6ZPAoSW",
        "-PtvqGy9BH_6",
        "WYXylSZCDaad",
        "2KkPTsJjBNvq",
        "H9raXGT0ICiV",
        "_boz6OzJMGSx",
        "7AbN690U1Bf8",
        "WSVxN6ZU31rH",
        "3jVNeMiv88A5",
        "DKDacVYm9Pzf"
      ]
    },
    "kernelspec": {
      "name": "python3",
      "display_name": "Python 3"
    },
    "language_info": {
      "name": "python"
    }
  },
  "cells": [
    {
      "cell_type": "markdown",
      "source": [
        "# External\n"
      ],
      "metadata": {
        "id": "LCMkGb62T59Y"
      }
    },
    {
      "cell_type": "code",
      "execution_count": null,
      "metadata": {
        "id": "0qQyLclr7T5u",
        "colab": {
          "base_uri": "https://localhost:8080/"
        },
        "outputId": "97b7230e-2a41-40c9-c486-f2c852e71f48"
      },
      "outputs": [
        {
          "output_type": "stream",
          "name": "stdout",
          "text": [
            "Looking in indexes: https://pypi.org/simple, https://us-python.pkg.dev/colab-wheels/public/simple/\n",
            "Requirement already satisfied: pandasql in /usr/local/lib/python3.7/dist-packages (0.7.3)\n",
            "Requirement already satisfied: pandas in /usr/local/lib/python3.7/dist-packages (from pandasql) (1.3.5)\n",
            "Requirement already satisfied: numpy in /usr/local/lib/python3.7/dist-packages (from pandasql) (1.21.6)\n",
            "Requirement already satisfied: sqlalchemy in /usr/local/lib/python3.7/dist-packages (from pandasql) (1.4.36)\n",
            "Requirement already satisfied: pytz>=2017.3 in /usr/local/lib/python3.7/dist-packages (from pandas->pandasql) (2022.1)\n",
            "Requirement already satisfied: python-dateutil>=2.7.3 in /usr/local/lib/python3.7/dist-packages (from pandas->pandasql) (2.8.2)\n",
            "Requirement already satisfied: six>=1.5 in /usr/local/lib/python3.7/dist-packages (from python-dateutil>=2.7.3->pandas->pandasql) (1.15.0)\n",
            "Requirement already satisfied: greenlet!=0.4.17 in /usr/local/lib/python3.7/dist-packages (from sqlalchemy->pandasql) (1.1.2)\n",
            "Requirement already satisfied: importlib-metadata in /usr/local/lib/python3.7/dist-packages (from sqlalchemy->pandasql) (4.11.4)\n",
            "Requirement already satisfied: typing-extensions>=3.6.4 in /usr/local/lib/python3.7/dist-packages (from importlib-metadata->sqlalchemy->pandasql) (4.2.0)\n",
            "Requirement already satisfied: zipp>=0.5 in /usr/local/lib/python3.7/dist-packages (from importlib-metadata->sqlalchemy->pandasql) (3.8.0)\n"
          ]
        }
      ],
      "source": [
        "! pip install -U pandasql\n",
        "import torch\n",
        "import pandas as pd\n",
        "import pandasql as ps\n",
        "import numpy as np"
      ]
    },
    {
      "cell_type": "code",
      "source": [
        "from google.colab import drive "
      ],
      "metadata": {
        "id": "rDHcukpG7Xlo"
      },
      "execution_count": null,
      "outputs": []
    },
    {
      "cell_type": "code",
      "source": [
        "drive.mount('/content/drive')"
      ],
      "metadata": {
        "id": "P8vGbNYo7rqP",
        "colab": {
          "base_uri": "https://localhost:8080/"
        },
        "outputId": "54794d13-066f-4a79-aa37-29caffcfe368"
      },
      "execution_count": null,
      "outputs": [
        {
          "output_type": "stream",
          "name": "stdout",
          "text": [
            "Drive already mounted at /content/drive; to attempt to forcibly remount, call drive.mount(\"/content/drive\", force_remount=True).\n"
          ]
        }
      ]
    },
    {
      "cell_type": "code",
      "source": [
        "%cd drive/MyDrive/tarak/Players-Block-20211116T025030Z-001/Players-Block/GNN/data/"
      ],
      "metadata": {
        "id": "4JaP2LuO7xIF",
        "colab": {
          "base_uri": "https://localhost:8080/"
        },
        "outputId": "d651aaf3-eeff-4d0e-ba6a-e1282dd20ea5"
      },
      "execution_count": null,
      "outputs": [
        {
          "output_type": "stream",
          "name": "stdout",
          "text": [
            "[Errno 2] No such file or directory: 'drive/MyDrive/tarak/Players-Block-20211116T025030Z-001/Players-Block/GNN/data/'\n",
            "/content/drive/.shortcut-targets-by-id/1MeacoHD16_nfxfWKec4Nch65B3Nxp4K-/tarak/Players-Block-20211116T025030Z-001/Players-Block/GNN/data\n"
          ]
        }
      ]
    },
    {
      "cell_type": "code",
      "source": [
        "!ls"
      ],
      "metadata": {
        "id": "QX7pbXIn_eh1",
        "colab": {
          "base_uri": "https://localhost:8080/"
        },
        "outputId": "2ef3aee8-4df0-48db-ff78-35dcb865105e"
      },
      "execution_count": null,
      "outputs": [
        {
          "output_type": "stream",
          "name": "stdout",
          "text": [
            " Competes_in_edges.csv\n",
            " Comp_season_nodes.csv\n",
            " dataset_lineup_6feat_no_agg_box_score.csv\n",
            " dataset_lineup_agg_box_score_features.csv\n",
            " Field_player_nodes.csv\n",
            " field_players_plus_features.csv\n",
            " GK_nodes.csv\n",
            " gnn_data.docx\n",
            " gnn_data.pdf\n",
            " goal_keepers_plus_features.csv\n",
            " Hosts_edges.csv\n",
            " Manager_nodes.csv\n",
            " Manages_edges.csv\n",
            " matches.csv\n",
            " matches_lineup_6feat_no_agg_box_score.csv\n",
            " matches_lineup_agg_box_score_features.csv\n",
            " player_6feat_no_agg_box_score.csv\n",
            " Plays_for_edges.csv\n",
            " Plays_with_edges.csv\n",
            " sa_model1.pth\n",
            " sa_model2.pth\n",
            " sa_model3.pth\n",
            " sa_model4.pth\n",
            " sa_model5.pth\n",
            " SetAggModel.pth\n",
            "'Team_nodes(1).csv'\n",
            " Team_nodes.csv\n",
            " team_nodes_plus_features.csv\n",
            " team_players_game_6feat_no_agg_box_score.csv\n",
            " team_players_game_agg_box_score_features.csv\n"
          ]
        }
      ]
    },
    {
      "cell_type": "markdown",
      "source": [
        "# Data Prep"
      ],
      "metadata": {
        "id": "uJ6v75mx4B15"
      }
    },
    {
      "cell_type": "markdown",
      "source": [
        "## Data for BC\n"
      ],
      "metadata": {
        "id": "pqlt02xvOHt7"
      }
    },
    {
      "cell_type": "code",
      "source": [
        "PlaysWithEdgesDf = pd.read_csv('./Plays_with_edges.csv')\n",
        "CompetesInEdgesDf = pd.read_csv('./Competes_in_edges.csv')\n",
        "CompSeasonNodesDf = pd.read_csv ('Comp_season_nodes.csv')\n",
        "FieldPlayerNodesDf = pd.read_csv('Field_player_nodes.csv')\n",
        "GKNodesDf = pd.read_csv('GK_nodes.csv')\n",
        "HostsEdgesDf = pd.read_csv('Hosts_edges.csv')\n",
        "ManagerNodesDf = pd.read_csv('Manager_nodes.csv')\n",
        "ManagesEdgesDf = pd.read_csv('Manages_edges.csv')\n",
        "PlaysForEdgesDf = pd.read_csv('Plays_for_edges.csv')\n",
        "TeamNodesDf = pd.read_csv('Team_nodes.csv')\n",
        "\n",
        "# %cd ../../../../../../../../\n",
        "# !ls\n",
        "FeatureTeamNodesDf = pd.read_csv('team_nodes_plus_features.csv')"
      ],
      "metadata": {
        "id": "tHnLfUYt9iq3"
      },
      "execution_count": null,
      "outputs": []
    },
    {
      "cell_type": "code",
      "source": [
        "FeatureTeamNodesDf = FeatureTeamNodesDf.fillna(0).reset_index()"
      ],
      "metadata": {
        "id": "BnVBjh5sWl28"
      },
      "execution_count": null,
      "outputs": []
    },
    {
      "cell_type": "code",
      "source": [
        "HostsEdgesDf.columns"
      ],
      "metadata": {
        "colab": {
          "base_uri": "https://localhost:8080/"
        },
        "id": "ngtKmAbUvFYx",
        "outputId": "5d0cb831-c785-4b1c-e5b7-03225eb0c8bf"
      },
      "execution_count": null,
      "outputs": [
        {
          "output_type": "execute_result",
          "data": {
            "text/plain": [
              "Index(['gameId', 'homeTeamId', 'awayTeamId', 'gameDate', 'seasonId',\n",
              "       'competitionId', 'competitionName', 'homeTeamName', 'awayTeamName',\n",
              "       'preGame_venueId', 'preGame_city', 'preGame_country', 'preGame_lat',\n",
              "       'preGame_long', 'preGame_field_length_m', 'preGame_field_width_m',\n",
              "       'preGame_capacity', 'preGame_surface', 'preGame_is_behind_closed_doors',\n",
              "       'preGame_homeTeamDominance', 'preGame_awayTeamDominance',\n",
              "       'preGame_venueName', 'postGame_tgt_half_gd', 'postGame_tgt_gd',\n",
              "       'postGame_tgt_homeTeamGoals', 'postGame_tgt_awayTeamGoals',\n",
              "       'postGame_tgt_half_homeTeamGoals', 'postGame_tgt_half_awayTeamGoals',\n",
              "       'postGame_tgt_outcome', 'postGame_tgt_half_outcome', 'preGame_odds1',\n",
              "       'preGame_odds2', 'preGame_oddsX', 'src_nodeId', 'src_nodeName',\n",
              "       'edge_type', 'dest_nodeId', 'dest_nodeName'],\n",
              "      dtype='object')"
            ]
          },
          "metadata": {},
          "execution_count": 40
        }
      ]
    },
    {
      "cell_type": "code",
      "source": [
        "query = \"\"\" \n",
        "  select preGame_steph, preGame_quality_overall,\n",
        "          preGame_quality_attack, preGame_quality_midfield,\n",
        "          preGame_quality_defence, preGame_proportion_pts,\n",
        "          agg_postGame_goals_scored,\n",
        "          agg_postGame_goals_conceded,\n",
        "          agg_postGame_index,\n",
        "          agg_postGame_total_shots,\n",
        "          agg_postGame_total_xg,\n",
        "          agg_postGame_total_big_chances,\n",
        "          agg_postGame_total_key_passes,\n",
        "          preGame_odds1,\n",
        "          preGame_odds2,\n",
        "          preGame_oddsX,\n",
        "          preGame_homeTeamDominance,\n",
        "          preGame_awayTeamDominance\n",
        "  from FeatureTeamNodesDf T inner join HostsEdgesDf H\n",
        "    on T.nodeName = H.dest_nodeName\n",
        "  order by T.gameDate, T.gameId\n",
        "\"\"\"\n",
        "away_features = ps.sqldf(query)\n",
        "query = \"\"\" \n",
        "  select preGame_steph, preGame_quality_overall,\n",
        "          preGame_quality_attack, preGame_quality_midfield,\n",
        "          preGame_quality_defence, preGame_proportion_pts,\n",
        "          agg_postGame_goals_scored,\n",
        "          agg_postGame_goals_conceded,\n",
        "          agg_postGame_index,\n",
        "          agg_postGame_total_shots,\n",
        "          agg_postGame_total_xg,\n",
        "          agg_postGame_total_big_chances,\n",
        "          agg_postGame_total_key_passes,\n",
        "          preGame_odds1,\n",
        "          preGame_odds2,\n",
        "          preGame_oddsX,\n",
        "          preGame_homeTeamDominance,\n",
        "          preGame_awayTeamDominance\n",
        "  from FeatureTeamNodesDf T inner join HostsEdgesDf H\n",
        "    on T.nodeName = H.src_nodeName\n",
        "  order by T.gameDate, T.gameId\n",
        "\"\"\"\n",
        "home_features = ps.sqldf(query)\n",
        "ps.sqldf(query)\n",
        "\n",
        "query = \"\"\"\n",
        "  select postGame_tgt_gd\n",
        "  from HostsEdgesDf H inner join FeatureTeamNodesDf T\n",
        "    on H.src_nodeName = T.nodeName\n",
        "  order by T.gameDate, T.gameId\n",
        "\"\"\"\n",
        "bc_results = ps.sqldf(query)"
      ],
      "metadata": {
        "id": "BK6x8O95fvyR"
      },
      "execution_count": null,
      "outputs": []
    },
    {
      "cell_type": "code",
      "source": [
        "bc_odds = home_features[['preGame_odds1', 'preGame_odds2', 'preGame_oddsX']].copy()\n",
        "bo_array = bc_odds.to_numpy()\n",
        "bc_odds.loc[:,:] = (1 / bo_array) / np.sum(1 / bo_array, axis=1, keepdims=True)"
      ],
      "metadata": {
        "id": "Se6QYZzGG61Y"
      },
      "execution_count": null,
      "outputs": []
    },
    {
      "cell_type": "code",
      "source": [
        "bc_results = torch.from_numpy(bc_results.values).view(-1)\n",
        "dummy = 6\n",
        "bc_results[bc_results > 0] = dummy + 2\n",
        "bc_results[bc_results == 0] = dummy + 1\n",
        "bc_results[bc_results < 0] = dummy + 0\n",
        "bc_results -= dummy\n",
        "bc_y = bc_results[:]\n",
        "\n",
        "bc_home_features = torch.from_numpy(home_features.values)\n",
        "bc_away_features = torch.from_numpy(away_features.values)"
      ],
      "metadata": {
        "id": "nXp30dLOiTaQ"
      },
      "execution_count": null,
      "outputs": []
    },
    {
      "cell_type": "code",
      "source": [
        "FeatureTeamNodesDf.columns"
      ],
      "metadata": {
        "colab": {
          "base_uri": "https://localhost:8080/"
        },
        "id": "1pfjlQmD9cyj",
        "outputId": "7952926e-d5ba-488c-a88e-6ad84e5c3e80"
      },
      "execution_count": null,
      "outputs": [
        {
          "output_type": "execute_result",
          "data": {
            "text/plain": [
              "Index(['index', 'Unnamed: 0', 'teamName', 'postGame_side', 'competitionId',\n",
              "       'gameId', 'teamId', 'preGame_steph', 'preGame_quality_overall',\n",
              "       'preGame_quality_attack', 'preGame_quality_midfield',\n",
              "       'preGame_quality_defence', 'preGame_proportion_pts', 'gameDate',\n",
              "       'teamName.1', 'competitionName', 'nodeId', 'nodeName', 'year', 'month',\n",
              "       'postGame_goals_scored', 'agg_postGame_goals_scored',\n",
              "       'postGame_goals_conceded', 'agg_postGame_goals_conceded',\n",
              "       'postGame_index', 'agg_postGame_index', 'postGame_total_shots',\n",
              "       'agg_postGame_total_shots', 'postGame_total_xg',\n",
              "       'agg_postGame_total_xg', 'postGame_total_big_chances',\n",
              "       'agg_postGame_total_big_chances', 'postGame_total_key_passes',\n",
              "       'agg_postGame_total_key_passes'],\n",
              "      dtype='object')"
            ]
          },
          "metadata": {},
          "execution_count": 44
        }
      ]
    },
    {
      "cell_type": "markdown",
      "source": [
        "## Lineup + Agg. Box Score Features"
      ],
      "metadata": {
        "id": "7tVVb_Q-EhhT"
      }
    },
    {
      "cell_type": "code",
      "source": [
        "PlaysWithEdgesDf = pd.read_csv('./Plays_with_edges.csv')\n",
        "CompetesInEdgesDf = pd.read_csv('./Competes_in_edges.csv')\n",
        "CompSeasonNodesDf = pd.read_csv ('Comp_season_nodes.csv')\n",
        "FieldPlayerNodesDf = pd.read_csv('Field_player_nodes.csv')\n",
        "GKNodesDf = pd.read_csv('GK_nodes.csv')\n",
        "HostsEdgesDf = pd.read_csv('Hosts_edges.csv')\n",
        "ManagerNodesDf = pd.read_csv('Manager_nodes.csv')\n",
        "ManagesEdgesDf = pd.read_csv('Manages_edges.csv')\n",
        "PlaysForEdgesDf = pd.read_csv('Plays_for_edges.csv')\n",
        "TeamNodesDf = pd.read_csv('Team_nodes.csv')\n",
        "\n",
        "# %cd ../../../../../../../../\n",
        "# !ls\n",
        "FeatureTeamNodesDf = pd.read_csv('team_nodes_plus_features.csv')"
      ],
      "metadata": {
        "id": "i3YWOP69g17c"
      },
      "execution_count": null,
      "outputs": []
    },
    {
      "cell_type": "code",
      "source": [
        "fpDf = pd.read_csv('./field_players_plus_features.csv')\n",
        "gkDf = pd.read_csv('./goal_keepers_plus_features.csv')"
      ],
      "metadata": {
        "id": "IWLcgv1gEjp6"
      },
      "execution_count": null,
      "outputs": []
    },
    {
      "cell_type": "code",
      "source": [
        "fpDf.columns"
      ],
      "metadata": {
        "colab": {
          "base_uri": "https://localhost:8080/"
        },
        "id": "_frRXpE_FMVz",
        "outputId": "1b66b6d8-ab0d-47f2-f76b-48844efb819c"
      },
      "execution_count": null,
      "outputs": [
        {
          "output_type": "execute_result",
          "data": {
            "text/plain": [
              "Index(['Unnamed: 0', 'name', 'nodeName', 'player_optaId', 'postGame_subbedOut',\n",
              "       'postGame_RedCard', 'postGame_minPlayed', 'preGame_side',\n",
              "       'preGame_line', 'preGame_position', 'playerId', 'postGame_positions',\n",
              "       'preGame_overall', 'preGame_potential', 'preGame_marketValueMilEuro',\n",
              "       'preGame_preferredFoot', 'preGame_ageDays', 'gameId', 'preGame_xgpm',\n",
              "       'preGame_xppm', 'teamId', 'teamName', 'gameDate', 'nodeId',\n",
              "       'postGame_error', 'agg_postGame_error', 'postGame_clearance',\n",
              "       'agg_postGame_clearance', 'postGame_index', 'agg_postGame_index',\n",
              "       'postGame_shots', 'agg_postGame_shots', 'postGame_shots_on_target',\n",
              "       'agg_postGame_shots_on_target', 'postGame_shots_left_foot',\n",
              "       'agg_postGame_shots_left_foot', 'postGame_shots_right_foot',\n",
              "       'agg_postGame_shots_right_foot', 'postGame_shots_head',\n",
              "       'agg_postGame_shots_head', 'postGame_shots_other',\n",
              "       'agg_postGame_shots_other', 'postGame_goals', 'agg_postGame_goals',\n",
              "       'postGame_goals_left_foot', 'agg_postGame_goals_left_foot',\n",
              "       'postGame_goals_right_foot', 'agg_postGame_goals_right_foot',\n",
              "       'postGame_goals_head', 'agg_postGame_goals_head',\n",
              "       'postGame_goals_other', 'agg_postGame_goals_other', 'postGame_xG',\n",
              "       'agg_postGame_xG', 'postGame_cross', 'agg_postGame_cross',\n",
              "       'postGame_cross_success', 'agg_postGame_cross_success', 'postGame_pass',\n",
              "       'agg_postGame_pass', 'postGame_pass_success',\n",
              "       'agg_postGame_pass_success', 'postGame_pass_final_third',\n",
              "       'agg_postGame_pass_final_third', 'postGame_pass_final_third_success',\n",
              "       'agg_postGame_pass_final_third_success', 'postGame_pass_forward',\n",
              "       'agg_postGame_pass_forward', 'postGame_pass_forward_success',\n",
              "       'agg_postGame_pass_forward_success', 'postGame_dribble',\n",
              "       'agg_postGame_dribble', 'postGame_dribble_success',\n",
              "       'agg_postGame_dribble_success', 'postGame_tackle',\n",
              "       'agg_postGame_tackle', 'postGame_tackle_success',\n",
              "       'agg_postGame_tackle_success', 'postGame_interception',\n",
              "       'agg_postGame_interception', 'postGame_challenge',\n",
              "       'agg_postGame_challenge', 'postGame_ball_recovery',\n",
              "       'agg_postGame_ball_recovery', 'postGame_ball_lost',\n",
              "       'agg_postGame_ball_lost', 'postGame_key_pass', 'agg_postGame_key_pass'],\n",
              "      dtype='object')"
            ]
          },
          "metadata": {},
          "execution_count": 47
        }
      ]
    },
    {
      "cell_type": "code",
      "source": [
        "gkDf.columns"
      ],
      "metadata": {
        "colab": {
          "base_uri": "https://localhost:8080/"
        },
        "id": "TSkEWwjPFN2N",
        "outputId": "f4a73cab-6caf-4b6d-c8d6-781efb489697"
      },
      "execution_count": null,
      "outputs": [
        {
          "output_type": "execute_result",
          "data": {
            "text/plain": [
              "Index(['Unnamed: 0', 'name', 'nodeName', 'player_optaId', 'postGame_subbedOut',\n",
              "       'postGame_RedCard', 'postGame_minPlayed', 'preGame_side',\n",
              "       'preGame_line', 'preGame_position', 'playerId', 'preGame_overall',\n",
              "       'preGame_potential', 'preGame_marketValueMilEuro',\n",
              "       'preGame_preferredFoot', 'preGame_ageDays', 'preGame_xgpm',\n",
              "       'preGame_xppm', 'gameId', 'teamId', 'teamName', 'gameDate', 'nodeId',\n",
              "       'postGame_error', 'agg_postGame_error', 'postGame_clearance',\n",
              "       'agg_postGame_clearance', 'postGame_index', 'agg_postGame_index',\n",
              "       'postGame_pickUp', 'agg_postGame_pickUp', 'postGame_punch',\n",
              "       'agg_postGame_punch', 'postGame_save', 'agg_postGame_save'],\n",
              "      dtype='object')"
            ]
          },
          "metadata": {},
          "execution_count": 48
        }
      ]
    },
    {
      "cell_type": "code",
      "source": [
        "fp_agg_columns = [\n",
        " 'agg_postGame_shots',\n",
        " 'agg_postGame_shots_on_target',\n",
        " 'agg_postGame_shots_left_foot',\n",
        " 'agg_postGame_shots_right_foot',\n",
        " 'agg_postGame_shots_head',\n",
        " 'agg_postGame_shots_other',\n",
        " 'agg_postGame_goals',\n",
        " 'agg_postGame_goals_left_foot',\n",
        " 'agg_postGame_goals_right_foot',\n",
        " 'agg_postGame_goals_head',\n",
        " 'agg_postGame_goals_other',\n",
        " 'agg_postGame_xG',\n",
        " 'agg_postGame_cross',\n",
        " 'agg_postGame_cross_success',\n",
        " 'agg_postGame_pass',\n",
        " 'agg_postGame_pass_success',\n",
        " 'agg_postGame_pass_final_third',\n",
        " 'agg_postGame_pass_final_third_success',\n",
        " 'agg_postGame_pass_forward',\n",
        " 'agg_postGame_pass_forward_success',\n",
        " 'agg_postGame_dribble',\n",
        " 'agg_postGame_dribble_success',\n",
        " 'agg_postGame_tackle',\n",
        " 'agg_postGame_tackle_success',\n",
        " 'agg_postGame_interception',\n",
        " 'agg_postGame_challenge',\n",
        " 'agg_postGame_ball_recovery',\n",
        " 'agg_postGame_ball_lost',\n",
        " 'agg_postGame_key_pass'\n",
        "]\n",
        "\n",
        "gk_agg_columns = [\n",
        " 'agg_postGame_pickUp',\n",
        " 'agg_postGame_punch',\n",
        " 'agg_postGame_save'\n",
        "]\n",
        "\n",
        "common_columns = [\n",
        " 'agg_postGame_error',\n",
        " 'agg_postGame_clearance',\n",
        " 'agg_postGame_index',\n",
        " 'name',\n",
        " 'preGame_overall',\n",
        " 'preGame_potential',\n",
        " 'preGame_marketValueMilEuro',\n",
        " 'preGame_ageDays',\n",
        " 'preGame_xppm',\n",
        " 'preGame_xgpm'\n",
        "]\n",
        "cc_labels = [\n",
        " 'agg_postGame_error',\n",
        " 'agg_postGame_clearance',\n",
        " 'agg_postGame_index',\n",
        " 'lineup',\n",
        "  'vg_rating',\n",
        "  'potential',\n",
        "  'market_value',\n",
        "  'age_days',\n",
        "  'xppm',\n",
        "  'xgpm'\n",
        "]"
      ],
      "metadata": {
        "id": "Q4azdqw2IoRu"
      },
      "execution_count": null,
      "outputs": []
    },
    {
      "cell_type": "code",
      "source": [
        "query = \"\"\"\n",
        "  select T.teamName,\n",
        "\"\"\"\n",
        "for col, label in zip(common_columns, cc_labels):\n",
        "  query += f\"\"\"\n",
        "         G.{col} || ' - ' || group_concat(FP.{col}, ' - ') as {label},\n",
        "\"\"\"\n",
        "for agg_col in fp_agg_columns:\n",
        "  query += f\"\"\"\n",
        "            '0.0' || ' - ' || group_concat(FP.{agg_col}, ' - ') as {agg_col},\n",
        "          \"\"\"\n",
        "fp_zeros = ('0.0 - ' * 10)[: -3]\n",
        "for agg_col in gk_agg_columns:\n",
        "  query += f\"\"\"\n",
        "            {agg_col} || ' - ' || '{fp_zeros}' as {agg_col},\n",
        "          \"\"\"\n",
        "query += \"\"\"\n",
        "         T.gameId,\n",
        "         T.postGame_goals_scored as goal,\n",
        "         T.competitionName as league,\n",
        "         T.gameDate as date\n",
        "\n",
        "  from fpDf as FP inner join (\n",
        "    select *\n",
        "    from TeamNodesDf\n",
        "    order by gameDate, gameId, postGame_side desc\n",
        "  ) as T\n",
        "   on T.gameId = FP.gameId and FP.teamName = T.teamName\n",
        "   inner join gkDf G\n",
        "   on G.teamName = T.teamName and T.gameId = G.gameId\n",
        "  group by T.gameDate, T.gameId, T.postGame_side\n",
        "\"\"\"\n",
        "agg_feat_team_players_gameDf = ps.sqldf(query)\n",
        "# agg_feat_team_players_gameDf.to_csv('team_players_game_agg_box_score_features.csv')\n",
        "agg_feat_team_players_gameDf"
      ],
      "metadata": {
        "colab": {
          "base_uri": "https://localhost:8080/"
        },
        "id": "ipSTqhnFF0pf",
        "outputId": "028c2986-3e1f-4cb6-a270-85d7a384f836"
      },
      "execution_count": null,
      "outputs": [
        {
          "output_type": "execute_result",
          "data": {
            "text/plain": [
              "                 teamName                                 agg_postGame_error  \\\n",
              "0            Bristol City                                               None   \n",
              "1     Queens Park Rangers                                               None   \n",
              "2               Hull City                                               None   \n",
              "3        Rotherham United                                               None   \n",
              "4            Ipswich Town                                               None   \n",
              "...                   ...                                                ...   \n",
              "8003              Levante  0.0 - 0.0 - 0.0 - 0.0 - 0.0 - 0.0 - 0.0 - 0.25...   \n",
              "8004           Villarreal  0.0 - 0.25 - 0.25 - 0.0 - 0.25 - 0.0 - 0.25 - ...   \n",
              "8005          Real Madrid  0.0 - 0.0 - 0.0 - 0.0 - 0.0 - 0.0 - 0.0 - 0.25...   \n",
              "8006          Valencia CF  0.0 - 0.0 - 0.0 - 0.25 - 0.0 - 0.5 - 0.0 - 0.0...   \n",
              "8007               Huesca  0.0 - 0.25 - 0.0 - 0.0 - 0.0 - 0.0 - 0.0 - 0.0...   \n",
              "\n",
              "                                 agg_postGame_clearance  \\\n",
              "0                                                  None   \n",
              "1                                                  None   \n",
              "2                                                  None   \n",
              "3                                                  None   \n",
              "4                                                  None   \n",
              "...                                                 ...   \n",
              "8003  0.666666666666667 - 1.5 - 2.25 - 0.0 - 0.75 - ...   \n",
              "8004  1.0 - 3.75 - 1.5 - 0.75 - 2.75 - 0.25 - 0.25 -...   \n",
              "8005  1.25 - 0.5 - 1.0 - 1.5 - 3.75 - 0.75 - 1.75 - ...   \n",
              "8006  0.25 - 4.5 - 0.0 - 6.75 - 0.75 - 3.0 - 2.25 - ...   \n",
              "8007  0.25 - 4.0 - 1.5 - 3.0 - 0.25 - 0.0 - 2.25 - 1...   \n",
              "\n",
              "                                     agg_postGame_index  \\\n",
              "0                                                  None   \n",
              "1                                                  None   \n",
              "2                                                  None   \n",
              "3                                                  None   \n",
              "4                                                  None   \n",
              "...                                                 ...   \n",
              "8003  1.01372806966667 - 0.78656579075 - -0.54853961...   \n",
              "8004  1.6495949035 - 1.72289995475 - 0.73075521925 -...   \n",
              "8005  0.678840044750001 - 0.65165529575 - 0.85070207...   \n",
              "8006  0.960345277 - 0.94617095525 - 1.33626468075 - ...   \n",
              "8007  1.47050431425 - 0.15494360425 - 0.81733290325 ...   \n",
              "\n",
              "                                                 lineup  \\\n",
              "0     Niki Maenpaa - Eros Pisano - Marley Watkins - ...   \n",
              "1     Matt Ingram - Alex Baptiste - Angel Rangel - L...   \n",
              "2     David Marshall - Fraizer Campbell - Eric Licha...   \n",
              "3     Marek Rodak - Richard Wood - Joe Mattock - Jon...   \n",
              "4     Bartosz Bialkowski - Luke Chambers - Cole Skus...   \n",
              "...                                                 ...   \n",
              "8003  Dani Cárdenas - Tono - Oscar Duarte - Roger - ...   \n",
              "8004  Geronimo Rulli - Raul Albiol - Étienne Capoue ...   \n",
              "8005  Thibaut Courtois - Karim Benzema - Luka Modric...   \n",
              "8006  Jasper Cillessen - Gabriel Paulista - Goncalo ...   \n",
              "8007  Alvaro Fernandez - Dimitris Siovas - Mikel Ric...   \n",
              "\n",
              "                                              vg_rating  \\\n",
              "0     68.0 - 72.0 - 69.0 - 70.0 - 70.0 - 70.0 - 68.0...   \n",
              "1     64.0 - 70.0 - 73.0 - 74.0 - 68.0 - 75.0 - 70.0...   \n",
              "2     71.0 - 69.0 - 69.0 - 71.0 - 71.0 - 71.0 - 68.0...   \n",
              "3     65.0 - 65.0 - 66.0 - 66.0 - 65.0 - 66.0 - 66.0...   \n",
              "4     75.0 - 71.0 - 71.0 - 67.0 - 70.0 - 65.0 - 67.0...   \n",
              "...                                                 ...   \n",
              "8003  69.0 - 74.0 - 73.0 - 79.0 - 74.0 - 76.0 - 79.0...   \n",
              "8004  80.0 - 82.0 - 78.0 - 85.0 - 79.0 - 83.0 - 79.0...   \n",
              "8005  89.0 - 89.0 - 87.0 - 89.0 - 85.0 - 82.0 - 79.0...   \n",
              "8006  80.0 - 82.0 - 81.0 - 73.0 - 80.0 - 73.0 - 74.0...   \n",
              "8007  73.0 - 76.0 - 73.0 - 75.0 - 72.0 - 73.0 - 71.0...   \n",
              "\n",
              "                                              potential  \\\n",
              "0     68.0 - 72.0 - 69.0 - 71.0 - 71.0 - 70.0 - 68.0...   \n",
              "1     72.0 - 70.0 - 73.0 - 77.0 - 73.0 - 76.0 - 71.0...   \n",
              "2     71.0 - 69.0 - 69.0 - 71.0 - 74.0 - 75.0 - 73.0...   \n",
              "3     73.0 - 65.0 - 66.0 - 68.0 - 67.0 - 70.0 - 70.0...   \n",
              "4     75.0 - 71.0 - 71.0 - 71.0 - 75.0 - 69.0 - 70.0...   \n",
              "...                                                 ...   \n",
              "8003  77.0 - 74.0 - 73.0 - 79.0 - 79.0 - 77.0 - 82.0...   \n",
              "8004  80.0 - 82.0 - 78.0 - 85.0 - 79.0 - 83.0 - 79.0...   \n",
              "8005  91.0 - 89.0 - 87.0 - 89.0 - 87.0 - 85.0 - 82.0...   \n",
              "8006  80.0 - 82.0 - 86.0 - 79.0 - 85.0 - 79.0 - 80.0...   \n",
              "8007  82.0 - 76.0 - 73.0 - 75.0 - 72.0 - 77.0 - 78.0...   \n",
              "\n",
              "                                           market_value  \\\n",
              "0     0.0525 - 2.2 - 1.1 - 1.7 - 2.1 - 1.9 - 0.095 -...   \n",
              "1     0.05 - 1.2 - 1.1 - 7.0 - 1.0 - 6.5 - 2.1 - 2.8...   \n",
              "2     1.4 - 1.1 - 0.0825 - 2.2 - 3.0 - 3.1 - 1.0 - 0...   \n",
              "3     0.06 - 0.0375 - 0.0525 - 0.08 - 0.0675 - 0.085...   \n",
              "4     4.5 - 1.6 - 1.6 - 0.0825 - 2.0 - 0.0725 - 0.09...   \n",
              "...                                                 ...   \n",
              "8003  2.0 - 3.0 - 2.0 - 17.0 - 6.0 - 9.0 - 24.0 - 4....   \n",
              "8004  15.0 - 10.0 - 11.0 - 44.0 - 15.0 - 37.0 - 17.0...   \n",
              "8005  88.0 - 83.0 - 36.0 - 90.0 - 57.0 - 41.0 - 22.0...   \n",
              "8006  11.0 - 25.0 - 39.0 - 4.0 - 32.0 - 4.0 - 6.0 - ...   \n",
              "8007  6.0 - 5.0 - 1.0 - 4.0 - 1.0 - 4.0 - 3.0 - 11.0...   \n",
              "\n",
              "                                               age_days  \\\n",
              "0     12263.0 - 11467.0 - 10171.0 - 10120.0 - 10011....   \n",
              "1     9012.0 - 11890.0 - 13081.0 - 9648.0 - 9284.0 -...   \n",
              "2     12222.0 - 11301.0 - 10869.0 - 11687.0 - 9524.0...   \n",
              "3     7921.0 - 12101.0 - 10326.0 - 9529.0 - 9805.0 -...   \n",
              "4     11370.0 - 12016.0 - 11833.0 - 9645.0 - 9471.0 ...   \n",
              "...                                                 ...   \n",
              "8003  8820.0 - 11518.0 - 11675.0 - 11096.0 - 9353.0 ...   \n",
              "8004  10594.0 - 13044.0 - 12003.0 - 11724.0 - 11137....   \n",
              "8005  10603.0 - 12208.0 - 13039.0 - 10681.0 - 10254....   \n",
              "8006  11718.0 - 11135.0 - 8940.0 - 8920.0 - 9047.0 -...   \n",
              "8007  8440.0 - 11936.0 - 13348.0 - 11002.0 - 12104.0...   \n",
              "\n",
              "                                                   xppm  ...  \\\n",
              "0     -0.127213322 - -0.19548093 - -0.072781666 - 0....  ...   \n",
              "1     -0.361290054 - 0.029316164 - -0.202769976 - -0...  ...   \n",
              "2     -0.052860584 - 0.246462376 - -0.383620298 - -0...  ...   \n",
              "3     -0.056845074 - -0.069836172 - -0.056847772 - -...  ...   \n",
              "4     -0.26088178 - -0.03583609 - 0.083123404 - -0.0...  ...   \n",
              "...                                                 ...  ...   \n",
              "8003  -0.077330038 - -0.16632638 - -0.160066184 - -0...  ...   \n",
              "8004  -0.039779654 - 0.185866854 - 0.053844024 - -0....  ...   \n",
              "8005  0.57658046 - 0.630389486 - 0.443122522 - 0.595...  ...   \n",
              "8006  0.056317178 - -0.05184492 - -0.096730672 - -0....  ...   \n",
              "8007  -0.14217035 - -0.10841989 - -0.007296684 - -0....  ...   \n",
              "\n",
              "                             agg_postGame_ball_recovery  \\\n",
              "0                                                  None   \n",
              "1                                                  None   \n",
              "2                                                  None   \n",
              "3                                                  None   \n",
              "4                                                  None   \n",
              "...                                                 ...   \n",
              "8003  0.0 - 5.0 - 7.5 - 1.5 - 8.25 - 5.25 - 5.75 - 7...   \n",
              "8004  0.0 - 6.5 - 4.0 - 5.75 - 7.25 - 3.0 - 7.5 - 1....   \n",
              "8005  0.0 - 1.5 - 7.0 - 9.5 - 5.0 - 4.25 - 4.25 - 8....   \n",
              "8006  0.0 - 7.75 - 2.75 - 7.0 - 0.75 - 8.75 - 7.25 -...   \n",
              "8007  0.0 - 10.0 - 7.25 - 5.5 - 6.0 - 3.25 - 5.0 - 5...   \n",
              "\n",
              "                                 agg_postGame_ball_lost  \\\n",
              "0                                                  None   \n",
              "1                                                  None   \n",
              "2                                                  None   \n",
              "3                                                  None   \n",
              "4                                                  None   \n",
              "...                                                 ...   \n",
              "8003  0.0 - 3.0 - 2.5 - 3.75 - 4.75 - 3.25 - 6.5 - 3...   \n",
              "8004  0.0 - 2.5 - 3.5 - 2.25 - 2.75 - 10.0 - 4.5 - 2...   \n",
              "8005  0.0 - 3.5 - 4.25 - 3.5 - 1.25 - 4.75 - 4.5 - 2...   \n",
              "8006  0.0 - 0.75 - 6.25 - 1.25 - 3.75 - 2.5 - 4.0 - ...   \n",
              "8007  0.0 - 1.5 - 5.0 - 2.0 - 3.25 - 5.75 - 1.0 - 2....   \n",
              "\n",
              "                                  agg_postGame_key_pass  \\\n",
              "0                                                  None   \n",
              "1                                                  None   \n",
              "2                                                  None   \n",
              "3                                                  None   \n",
              "4                                                  None   \n",
              "...                                                 ...   \n",
              "8003  0.0 - 0.25 - 0.25 - 0.75 - 0.0 - 0.5 - 0.5 - 0...   \n",
              "8004  0.0 - 0.5 - 0.0 - 1.0 - 0.25 - 0.75 - 1.5 - 0....   \n",
              "8005  0.0 - 1.25 - 1.0 - 0.5 - 0.25 - 2.25 - 1.0 - 0...   \n",
              "8006  0.0 - 0.25 - 1.25 - 0.0 - 0.0 - 0.25 - 0.5 - 0...   \n",
              "8007  0.0 - 0.0 - 0.75 - 0.25 - 2.75 - 1.5 - 0.25 - ...   \n",
              "\n",
              "                                    agg_postGame_pickUp  \\\n",
              "0                                                  None   \n",
              "1                                                  None   \n",
              "2                                                  None   \n",
              "3                                                  None   \n",
              "4                                                  None   \n",
              "...                                                 ...   \n",
              "8003  3.66666666666667 - 0.0 - 0.0 - 0.0 - 0.0 - 0.0...   \n",
              "8004  6.25 - 0.0 - 0.0 - 0.0 - 0.0 - 0.0 - 0.0 - 0.0...   \n",
              "8005  5.25 - 0.0 - 0.0 - 0.0 - 0.0 - 0.0 - 0.0 - 0.0...   \n",
              "8006  3.25 - 0.0 - 0.0 - 0.0 - 0.0 - 0.0 - 0.0 - 0.0...   \n",
              "8007  4.75 - 0.0 - 0.0 - 0.0 - 0.0 - 0.0 - 0.0 - 0.0...   \n",
              "\n",
              "                                     agg_postGame_punch  \\\n",
              "0                                                  None   \n",
              "1                                                  None   \n",
              "2                                                  None   \n",
              "3                                                  None   \n",
              "4                                                  None   \n",
              "...                                                 ...   \n",
              "8003  0.666666666666667 - 0.0 - 0.0 - 0.0 - 0.0 - 0....   \n",
              "8004  0.25 - 0.0 - 0.0 - 0.0 - 0.0 - 0.0 - 0.0 - 0.0...   \n",
              "8005  0.0 - 0.0 - 0.0 - 0.0 - 0.0 - 0.0 - 0.0 - 0.0 ...   \n",
              "8006  0.5 - 0.0 - 0.0 - 0.0 - 0.0 - 0.0 - 0.0 - 0.0 ...   \n",
              "8007  0.25 - 0.0 - 0.0 - 0.0 - 0.0 - 0.0 - 0.0 - 0.0...   \n",
              "\n",
              "                                      agg_postGame_save  \\\n",
              "0                                                  None   \n",
              "1                                                  None   \n",
              "2                                                  None   \n",
              "3                                                  None   \n",
              "4                                                  None   \n",
              "...                                                 ...   \n",
              "8003  2.66666666666667 - 0.0 - 0.0 - 0.0 - 0.0 - 0.0...   \n",
              "8004  2.75 - 0.0 - 0.0 - 0.0 - 0.0 - 0.0 - 0.0 - 0.0...   \n",
              "8005  2.25 - 0.0 - 0.0 - 0.0 - 0.0 - 0.0 - 0.0 - 0.0...   \n",
              "8006  4.0 - 0.0 - 0.0 - 0.0 - 0.0 - 0.0 - 0.0 - 0.0 ...   \n",
              "8007  4.0 - 0.0 - 0.0 - 0.0 - 0.0 - 0.0 - 0.0 - 0.0 ...   \n",
              "\n",
              "                                                 gameId goal  \\\n",
              "0     3a604f5616b39eb17fc8d1eed07d5248e387bf400294b2...    3   \n",
              "1     3a604f5616b39eb17fc8d1eed07d5248e387bf400294b2...    0   \n",
              "2     58b1242154c8055252582229abfc4680460278834c4433...    3   \n",
              "3     58b1242154c8055252582229abfc4680460278834c4433...    2   \n",
              "4     c0c48eee0b1a42e0d84cb0a947fe2c64f9e1aa7015922f...    0   \n",
              "...                                                 ...  ...   \n",
              "8003  0dd5f2b145867283932a47fb03be7b9bc56d89f8250ece...    2   \n",
              "8004  0074aca0bc12614b3f47bc770421e7a25d1537424fd53a...    1   \n",
              "8005  0074aca0bc12614b3f47bc770421e7a25d1537424fd53a...    2   \n",
              "8006  38ccde8c2673201f05b8d1de80e8560d034484166a764d...    0   \n",
              "8007  38ccde8c2673201f05b8d1de80e8560d034484166a764d...    0   \n",
              "\n",
              "                      league                      date  \n",
              "0       England Championship  2018-08-21T18:45:00.000Z  \n",
              "1       England Championship  2018-08-21T18:45:00.000Z  \n",
              "2       England Championship  2018-08-21T18:45:00.000Z  \n",
              "3       England Championship  2018-08-21T18:45:00.000Z  \n",
              "4       England Championship  2018-08-21T18:45:00.000Z  \n",
              "...                      ...                       ...  \n",
              "8003  Spain Primera Division  2021-05-21T19:00:00.000Z  \n",
              "8004  Spain Primera Division  2021-05-22T16:00:00.000Z  \n",
              "8005  Spain Primera Division  2021-05-22T16:00:00.000Z  \n",
              "8006  Spain Primera Division  2021-05-22T16:00:00.000Z  \n",
              "8007  Spain Primera Division  2021-05-22T16:00:00.000Z  \n",
              "\n",
              "[8008 rows x 47 columns]"
            ],
            "text/html": [
              "\n",
              "  <div id=\"df-32487306-52ca-42e3-84f8-d85beaafedcb\">\n",
              "    <div class=\"colab-df-container\">\n",
              "      <div>\n",
              "<style scoped>\n",
              "    .dataframe tbody tr th:only-of-type {\n",
              "        vertical-align: middle;\n",
              "    }\n",
              "\n",
              "    .dataframe tbody tr th {\n",
              "        vertical-align: top;\n",
              "    }\n",
              "\n",
              "    .dataframe thead th {\n",
              "        text-align: right;\n",
              "    }\n",
              "</style>\n",
              "<table border=\"1\" class=\"dataframe\">\n",
              "  <thead>\n",
              "    <tr style=\"text-align: right;\">\n",
              "      <th></th>\n",
              "      <th>teamName</th>\n",
              "      <th>agg_postGame_error</th>\n",
              "      <th>agg_postGame_clearance</th>\n",
              "      <th>agg_postGame_index</th>\n",
              "      <th>lineup</th>\n",
              "      <th>vg_rating</th>\n",
              "      <th>potential</th>\n",
              "      <th>market_value</th>\n",
              "      <th>age_days</th>\n",
              "      <th>xppm</th>\n",
              "      <th>...</th>\n",
              "      <th>agg_postGame_ball_recovery</th>\n",
              "      <th>agg_postGame_ball_lost</th>\n",
              "      <th>agg_postGame_key_pass</th>\n",
              "      <th>agg_postGame_pickUp</th>\n",
              "      <th>agg_postGame_punch</th>\n",
              "      <th>agg_postGame_save</th>\n",
              "      <th>gameId</th>\n",
              "      <th>goal</th>\n",
              "      <th>league</th>\n",
              "      <th>date</th>\n",
              "    </tr>\n",
              "  </thead>\n",
              "  <tbody>\n",
              "    <tr>\n",
              "      <th>0</th>\n",
              "      <td>Bristol City</td>\n",
              "      <td>None</td>\n",
              "      <td>None</td>\n",
              "      <td>None</td>\n",
              "      <td>Niki Maenpaa - Eros Pisano - Marley Watkins - ...</td>\n",
              "      <td>68.0 - 72.0 - 69.0 - 70.0 - 70.0 - 70.0 - 68.0...</td>\n",
              "      <td>68.0 - 72.0 - 69.0 - 71.0 - 71.0 - 70.0 - 68.0...</td>\n",
              "      <td>0.0525 - 2.2 - 1.1 - 1.7 - 2.1 - 1.9 - 0.095 -...</td>\n",
              "      <td>12263.0 - 11467.0 - 10171.0 - 10120.0 - 10011....</td>\n",
              "      <td>-0.127213322 - -0.19548093 - -0.072781666 - 0....</td>\n",
              "      <td>...</td>\n",
              "      <td>None</td>\n",
              "      <td>None</td>\n",
              "      <td>None</td>\n",
              "      <td>None</td>\n",
              "      <td>None</td>\n",
              "      <td>None</td>\n",
              "      <td>3a604f5616b39eb17fc8d1eed07d5248e387bf400294b2...</td>\n",
              "      <td>3</td>\n",
              "      <td>England Championship</td>\n",
              "      <td>2018-08-21T18:45:00.000Z</td>\n",
              "    </tr>\n",
              "    <tr>\n",
              "      <th>1</th>\n",
              "      <td>Queens Park Rangers</td>\n",
              "      <td>None</td>\n",
              "      <td>None</td>\n",
              "      <td>None</td>\n",
              "      <td>Matt Ingram - Alex Baptiste - Angel Rangel - L...</td>\n",
              "      <td>64.0 - 70.0 - 73.0 - 74.0 - 68.0 - 75.0 - 70.0...</td>\n",
              "      <td>72.0 - 70.0 - 73.0 - 77.0 - 73.0 - 76.0 - 71.0...</td>\n",
              "      <td>0.05 - 1.2 - 1.1 - 7.0 - 1.0 - 6.5 - 2.1 - 2.8...</td>\n",
              "      <td>9012.0 - 11890.0 - 13081.0 - 9648.0 - 9284.0 -...</td>\n",
              "      <td>-0.361290054 - 0.029316164 - -0.202769976 - -0...</td>\n",
              "      <td>...</td>\n",
              "      <td>None</td>\n",
              "      <td>None</td>\n",
              "      <td>None</td>\n",
              "      <td>None</td>\n",
              "      <td>None</td>\n",
              "      <td>None</td>\n",
              "      <td>3a604f5616b39eb17fc8d1eed07d5248e387bf400294b2...</td>\n",
              "      <td>0</td>\n",
              "      <td>England Championship</td>\n",
              "      <td>2018-08-21T18:45:00.000Z</td>\n",
              "    </tr>\n",
              "    <tr>\n",
              "      <th>2</th>\n",
              "      <td>Hull City</td>\n",
              "      <td>None</td>\n",
              "      <td>None</td>\n",
              "      <td>None</td>\n",
              "      <td>David Marshall - Fraizer Campbell - Eric Licha...</td>\n",
              "      <td>71.0 - 69.0 - 69.0 - 71.0 - 71.0 - 71.0 - 68.0...</td>\n",
              "      <td>71.0 - 69.0 - 69.0 - 71.0 - 74.0 - 75.0 - 73.0...</td>\n",
              "      <td>1.4 - 1.1 - 0.0825 - 2.2 - 3.0 - 3.1 - 1.0 - 0...</td>\n",
              "      <td>12222.0 - 11301.0 - 10869.0 - 11687.0 - 9524.0...</td>\n",
              "      <td>-0.052860584 - 0.246462376 - -0.383620298 - -0...</td>\n",
              "      <td>...</td>\n",
              "      <td>None</td>\n",
              "      <td>None</td>\n",
              "      <td>None</td>\n",
              "      <td>None</td>\n",
              "      <td>None</td>\n",
              "      <td>None</td>\n",
              "      <td>58b1242154c8055252582229abfc4680460278834c4433...</td>\n",
              "      <td>3</td>\n",
              "      <td>England Championship</td>\n",
              "      <td>2018-08-21T18:45:00.000Z</td>\n",
              "    </tr>\n",
              "    <tr>\n",
              "      <th>3</th>\n",
              "      <td>Rotherham United</td>\n",
              "      <td>None</td>\n",
              "      <td>None</td>\n",
              "      <td>None</td>\n",
              "      <td>Marek Rodak - Richard Wood - Joe Mattock - Jon...</td>\n",
              "      <td>65.0 - 65.0 - 66.0 - 66.0 - 65.0 - 66.0 - 66.0...</td>\n",
              "      <td>73.0 - 65.0 - 66.0 - 68.0 - 67.0 - 70.0 - 70.0...</td>\n",
              "      <td>0.06 - 0.0375 - 0.0525 - 0.08 - 0.0675 - 0.085...</td>\n",
              "      <td>7921.0 - 12101.0 - 10326.0 - 9529.0 - 9805.0 -...</td>\n",
              "      <td>-0.056845074 - -0.069836172 - -0.056847772 - -...</td>\n",
              "      <td>...</td>\n",
              "      <td>None</td>\n",
              "      <td>None</td>\n",
              "      <td>None</td>\n",
              "      <td>None</td>\n",
              "      <td>None</td>\n",
              "      <td>None</td>\n",
              "      <td>58b1242154c8055252582229abfc4680460278834c4433...</td>\n",
              "      <td>2</td>\n",
              "      <td>England Championship</td>\n",
              "      <td>2018-08-21T18:45:00.000Z</td>\n",
              "    </tr>\n",
              "    <tr>\n",
              "      <th>4</th>\n",
              "      <td>Ipswich Town</td>\n",
              "      <td>None</td>\n",
              "      <td>None</td>\n",
              "      <td>None</td>\n",
              "      <td>Bartosz Bialkowski - Luke Chambers - Cole Skus...</td>\n",
              "      <td>75.0 - 71.0 - 71.0 - 67.0 - 70.0 - 65.0 - 67.0...</td>\n",
              "      <td>75.0 - 71.0 - 71.0 - 71.0 - 75.0 - 69.0 - 70.0...</td>\n",
              "      <td>4.5 - 1.6 - 1.6 - 0.0825 - 2.0 - 0.0725 - 0.09...</td>\n",
              "      <td>11370.0 - 12016.0 - 11833.0 - 9645.0 - 9471.0 ...</td>\n",
              "      <td>-0.26088178 - -0.03583609 - 0.083123404 - -0.0...</td>\n",
              "      <td>...</td>\n",
              "      <td>None</td>\n",
              "      <td>None</td>\n",
              "      <td>None</td>\n",
              "      <td>None</td>\n",
              "      <td>None</td>\n",
              "      <td>None</td>\n",
              "      <td>c0c48eee0b1a42e0d84cb0a947fe2c64f9e1aa7015922f...</td>\n",
              "      <td>0</td>\n",
              "      <td>England Championship</td>\n",
              "      <td>2018-08-21T18:45:00.000Z</td>\n",
              "    </tr>\n",
              "    <tr>\n",
              "      <th>...</th>\n",
              "      <td>...</td>\n",
              "      <td>...</td>\n",
              "      <td>...</td>\n",
              "      <td>...</td>\n",
              "      <td>...</td>\n",
              "      <td>...</td>\n",
              "      <td>...</td>\n",
              "      <td>...</td>\n",
              "      <td>...</td>\n",
              "      <td>...</td>\n",
              "      <td>...</td>\n",
              "      <td>...</td>\n",
              "      <td>...</td>\n",
              "      <td>...</td>\n",
              "      <td>...</td>\n",
              "      <td>...</td>\n",
              "      <td>...</td>\n",
              "      <td>...</td>\n",
              "      <td>...</td>\n",
              "      <td>...</td>\n",
              "      <td>...</td>\n",
              "    </tr>\n",
              "    <tr>\n",
              "      <th>8003</th>\n",
              "      <td>Levante</td>\n",
              "      <td>0.0 - 0.0 - 0.0 - 0.0 - 0.0 - 0.0 - 0.0 - 0.25...</td>\n",
              "      <td>0.666666666666667 - 1.5 - 2.25 - 0.0 - 0.75 - ...</td>\n",
              "      <td>1.01372806966667 - 0.78656579075 - -0.54853961...</td>\n",
              "      <td>Dani Cárdenas - Tono - Oscar Duarte - Roger - ...</td>\n",
              "      <td>69.0 - 74.0 - 73.0 - 79.0 - 74.0 - 76.0 - 79.0...</td>\n",
              "      <td>77.0 - 74.0 - 73.0 - 79.0 - 79.0 - 77.0 - 82.0...</td>\n",
              "      <td>2.0 - 3.0 - 2.0 - 17.0 - 6.0 - 9.0 - 24.0 - 4....</td>\n",
              "      <td>8820.0 - 11518.0 - 11675.0 - 11096.0 - 9353.0 ...</td>\n",
              "      <td>-0.077330038 - -0.16632638 - -0.160066184 - -0...</td>\n",
              "      <td>...</td>\n",
              "      <td>0.0 - 5.0 - 7.5 - 1.5 - 8.25 - 5.25 - 5.75 - 7...</td>\n",
              "      <td>0.0 - 3.0 - 2.5 - 3.75 - 4.75 - 3.25 - 6.5 - 3...</td>\n",
              "      <td>0.0 - 0.25 - 0.25 - 0.75 - 0.0 - 0.5 - 0.5 - 0...</td>\n",
              "      <td>3.66666666666667 - 0.0 - 0.0 - 0.0 - 0.0 - 0.0...</td>\n",
              "      <td>0.666666666666667 - 0.0 - 0.0 - 0.0 - 0.0 - 0....</td>\n",
              "      <td>2.66666666666667 - 0.0 - 0.0 - 0.0 - 0.0 - 0.0...</td>\n",
              "      <td>0dd5f2b145867283932a47fb03be7b9bc56d89f8250ece...</td>\n",
              "      <td>2</td>\n",
              "      <td>Spain Primera Division</td>\n",
              "      <td>2021-05-21T19:00:00.000Z</td>\n",
              "    </tr>\n",
              "    <tr>\n",
              "      <th>8004</th>\n",
              "      <td>Villarreal</td>\n",
              "      <td>0.0 - 0.25 - 0.25 - 0.0 - 0.25 - 0.0 - 0.25 - ...</td>\n",
              "      <td>1.0 - 3.75 - 1.5 - 0.75 - 2.75 - 0.25 - 0.25 -...</td>\n",
              "      <td>1.6495949035 - 1.72289995475 - 0.73075521925 -...</td>\n",
              "      <td>Geronimo Rulli - Raul Albiol - Étienne Capoue ...</td>\n",
              "      <td>80.0 - 82.0 - 78.0 - 85.0 - 79.0 - 83.0 - 79.0...</td>\n",
              "      <td>80.0 - 82.0 - 78.0 - 85.0 - 79.0 - 83.0 - 79.0...</td>\n",
              "      <td>15.0 - 10.0 - 11.0 - 44.0 - 15.0 - 37.0 - 17.0...</td>\n",
              "      <td>10594.0 - 13044.0 - 12003.0 - 11724.0 - 11137....</td>\n",
              "      <td>-0.039779654 - 0.185866854 - 0.053844024 - -0....</td>\n",
              "      <td>...</td>\n",
              "      <td>0.0 - 6.5 - 4.0 - 5.75 - 7.25 - 3.0 - 7.5 - 1....</td>\n",
              "      <td>0.0 - 2.5 - 3.5 - 2.25 - 2.75 - 10.0 - 4.5 - 2...</td>\n",
              "      <td>0.0 - 0.5 - 0.0 - 1.0 - 0.25 - 0.75 - 1.5 - 0....</td>\n",
              "      <td>6.25 - 0.0 - 0.0 - 0.0 - 0.0 - 0.0 - 0.0 - 0.0...</td>\n",
              "      <td>0.25 - 0.0 - 0.0 - 0.0 - 0.0 - 0.0 - 0.0 - 0.0...</td>\n",
              "      <td>2.75 - 0.0 - 0.0 - 0.0 - 0.0 - 0.0 - 0.0 - 0.0...</td>\n",
              "      <td>0074aca0bc12614b3f47bc770421e7a25d1537424fd53a...</td>\n",
              "      <td>1</td>\n",
              "      <td>Spain Primera Division</td>\n",
              "      <td>2021-05-22T16:00:00.000Z</td>\n",
              "    </tr>\n",
              "    <tr>\n",
              "      <th>8005</th>\n",
              "      <td>Real Madrid</td>\n",
              "      <td>0.0 - 0.0 - 0.0 - 0.0 - 0.0 - 0.0 - 0.0 - 0.25...</td>\n",
              "      <td>1.25 - 0.5 - 1.0 - 1.5 - 3.75 - 0.75 - 1.75 - ...</td>\n",
              "      <td>0.678840044750001 - 0.65165529575 - 0.85070207...</td>\n",
              "      <td>Thibaut Courtois - Karim Benzema - Luka Modric...</td>\n",
              "      <td>89.0 - 89.0 - 87.0 - 89.0 - 85.0 - 82.0 - 79.0...</td>\n",
              "      <td>91.0 - 89.0 - 87.0 - 89.0 - 87.0 - 85.0 - 82.0...</td>\n",
              "      <td>88.0 - 83.0 - 36.0 - 90.0 - 57.0 - 41.0 - 22.0...</td>\n",
              "      <td>10603.0 - 12208.0 - 13039.0 - 10681.0 - 10254....</td>\n",
              "      <td>0.57658046 - 0.630389486 - 0.443122522 - 0.595...</td>\n",
              "      <td>...</td>\n",
              "      <td>0.0 - 1.5 - 7.0 - 9.5 - 5.0 - 4.25 - 4.25 - 8....</td>\n",
              "      <td>0.0 - 3.5 - 4.25 - 3.5 - 1.25 - 4.75 - 4.5 - 2...</td>\n",
              "      <td>0.0 - 1.25 - 1.0 - 0.5 - 0.25 - 2.25 - 1.0 - 0...</td>\n",
              "      <td>5.25 - 0.0 - 0.0 - 0.0 - 0.0 - 0.0 - 0.0 - 0.0...</td>\n",
              "      <td>0.0 - 0.0 - 0.0 - 0.0 - 0.0 - 0.0 - 0.0 - 0.0 ...</td>\n",
              "      <td>2.25 - 0.0 - 0.0 - 0.0 - 0.0 - 0.0 - 0.0 - 0.0...</td>\n",
              "      <td>0074aca0bc12614b3f47bc770421e7a25d1537424fd53a...</td>\n",
              "      <td>2</td>\n",
              "      <td>Spain Primera Division</td>\n",
              "      <td>2021-05-22T16:00:00.000Z</td>\n",
              "    </tr>\n",
              "    <tr>\n",
              "      <th>8006</th>\n",
              "      <td>Valencia CF</td>\n",
              "      <td>0.0 - 0.0 - 0.0 - 0.25 - 0.0 - 0.5 - 0.0 - 0.0...</td>\n",
              "      <td>0.25 - 4.5 - 0.0 - 6.75 - 0.75 - 3.0 - 2.25 - ...</td>\n",
              "      <td>0.960345277 - 0.94617095525 - 1.33626468075 - ...</td>\n",
              "      <td>Jasper Cillessen - Gabriel Paulista - Goncalo ...</td>\n",
              "      <td>80.0 - 82.0 - 81.0 - 73.0 - 80.0 - 73.0 - 74.0...</td>\n",
              "      <td>80.0 - 82.0 - 86.0 - 79.0 - 85.0 - 79.0 - 80.0...</td>\n",
              "      <td>11.0 - 25.0 - 39.0 - 4.0 - 32.0 - 4.0 - 6.0 - ...</td>\n",
              "      <td>11718.0 - 11135.0 - 8940.0 - 8920.0 - 9047.0 -...</td>\n",
              "      <td>0.056317178 - -0.05184492 - -0.096730672 - -0....</td>\n",
              "      <td>...</td>\n",
              "      <td>0.0 - 7.75 - 2.75 - 7.0 - 0.75 - 8.75 - 7.25 -...</td>\n",
              "      <td>0.0 - 0.75 - 6.25 - 1.25 - 3.75 - 2.5 - 4.0 - ...</td>\n",
              "      <td>0.0 - 0.25 - 1.25 - 0.0 - 0.0 - 0.25 - 0.5 - 0...</td>\n",
              "      <td>3.25 - 0.0 - 0.0 - 0.0 - 0.0 - 0.0 - 0.0 - 0.0...</td>\n",
              "      <td>0.5 - 0.0 - 0.0 - 0.0 - 0.0 - 0.0 - 0.0 - 0.0 ...</td>\n",
              "      <td>4.0 - 0.0 - 0.0 - 0.0 - 0.0 - 0.0 - 0.0 - 0.0 ...</td>\n",
              "      <td>38ccde8c2673201f05b8d1de80e8560d034484166a764d...</td>\n",
              "      <td>0</td>\n",
              "      <td>Spain Primera Division</td>\n",
              "      <td>2021-05-22T16:00:00.000Z</td>\n",
              "    </tr>\n",
              "    <tr>\n",
              "      <th>8007</th>\n",
              "      <td>Huesca</td>\n",
              "      <td>0.0 - 0.25 - 0.0 - 0.0 - 0.0 - 0.0 - 0.0 - 0.0...</td>\n",
              "      <td>0.25 - 4.0 - 1.5 - 3.0 - 0.25 - 0.0 - 2.25 - 1...</td>\n",
              "      <td>1.47050431425 - 0.15494360425 - 0.81733290325 ...</td>\n",
              "      <td>Alvaro Fernandez - Dimitris Siovas - Mikel Ric...</td>\n",
              "      <td>73.0 - 76.0 - 73.0 - 75.0 - 72.0 - 73.0 - 71.0...</td>\n",
              "      <td>82.0 - 76.0 - 73.0 - 75.0 - 72.0 - 77.0 - 78.0...</td>\n",
              "      <td>6.0 - 5.0 - 1.0 - 4.0 - 1.0 - 4.0 - 3.0 - 11.0...</td>\n",
              "      <td>8440.0 - 11936.0 - 13348.0 - 11002.0 - 12104.0...</td>\n",
              "      <td>-0.14217035 - -0.10841989 - -0.007296684 - -0....</td>\n",
              "      <td>...</td>\n",
              "      <td>0.0 - 10.0 - 7.25 - 5.5 - 6.0 - 3.25 - 5.0 - 5...</td>\n",
              "      <td>0.0 - 1.5 - 5.0 - 2.0 - 3.25 - 5.75 - 1.0 - 2....</td>\n",
              "      <td>0.0 - 0.0 - 0.75 - 0.25 - 2.75 - 1.5 - 0.25 - ...</td>\n",
              "      <td>4.75 - 0.0 - 0.0 - 0.0 - 0.0 - 0.0 - 0.0 - 0.0...</td>\n",
              "      <td>0.25 - 0.0 - 0.0 - 0.0 - 0.0 - 0.0 - 0.0 - 0.0...</td>\n",
              "      <td>4.0 - 0.0 - 0.0 - 0.0 - 0.0 - 0.0 - 0.0 - 0.0 ...</td>\n",
              "      <td>38ccde8c2673201f05b8d1de80e8560d034484166a764d...</td>\n",
              "      <td>0</td>\n",
              "      <td>Spain Primera Division</td>\n",
              "      <td>2021-05-22T16:00:00.000Z</td>\n",
              "    </tr>\n",
              "  </tbody>\n",
              "</table>\n",
              "<p>8008 rows × 47 columns</p>\n",
              "</div>\n",
              "      <button class=\"colab-df-convert\" onclick=\"convertToInteractive('df-32487306-52ca-42e3-84f8-d85beaafedcb')\"\n",
              "              title=\"Convert this dataframe to an interactive table.\"\n",
              "              style=\"display:none;\">\n",
              "        \n",
              "  <svg xmlns=\"http://www.w3.org/2000/svg\" height=\"24px\"viewBox=\"0 0 24 24\"\n",
              "       width=\"24px\">\n",
              "    <path d=\"M0 0h24v24H0V0z\" fill=\"none\"/>\n",
              "    <path d=\"M18.56 5.44l.94 2.06.94-2.06 2.06-.94-2.06-.94-.94-2.06-.94 2.06-2.06.94zm-11 1L8.5 8.5l.94-2.06 2.06-.94-2.06-.94L8.5 2.5l-.94 2.06-2.06.94zm10 10l.94 2.06.94-2.06 2.06-.94-2.06-.94-.94-2.06-.94 2.06-2.06.94z\"/><path d=\"M17.41 7.96l-1.37-1.37c-.4-.4-.92-.59-1.43-.59-.52 0-1.04.2-1.43.59L10.3 9.45l-7.72 7.72c-.78.78-.78 2.05 0 2.83L4 21.41c.39.39.9.59 1.41.59.51 0 1.02-.2 1.41-.59l7.78-7.78 2.81-2.81c.8-.78.8-2.07 0-2.86zM5.41 20L4 18.59l7.72-7.72 1.47 1.35L5.41 20z\"/>\n",
              "  </svg>\n",
              "      </button>\n",
              "      \n",
              "  <style>\n",
              "    .colab-df-container {\n",
              "      display:flex;\n",
              "      flex-wrap:wrap;\n",
              "      gap: 12px;\n",
              "    }\n",
              "\n",
              "    .colab-df-convert {\n",
              "      background-color: #E8F0FE;\n",
              "      border: none;\n",
              "      border-radius: 50%;\n",
              "      cursor: pointer;\n",
              "      display: none;\n",
              "      fill: #1967D2;\n",
              "      height: 32px;\n",
              "      padding: 0 0 0 0;\n",
              "      width: 32px;\n",
              "    }\n",
              "\n",
              "    .colab-df-convert:hover {\n",
              "      background-color: #E2EBFA;\n",
              "      box-shadow: 0px 1px 2px rgba(60, 64, 67, 0.3), 0px 1px 3px 1px rgba(60, 64, 67, 0.15);\n",
              "      fill: #174EA6;\n",
              "    }\n",
              "\n",
              "    [theme=dark] .colab-df-convert {\n",
              "      background-color: #3B4455;\n",
              "      fill: #D2E3FC;\n",
              "    }\n",
              "\n",
              "    [theme=dark] .colab-df-convert:hover {\n",
              "      background-color: #434B5C;\n",
              "      box-shadow: 0px 1px 3px 1px rgba(0, 0, 0, 0.15);\n",
              "      filter: drop-shadow(0px 1px 2px rgba(0, 0, 0, 0.3));\n",
              "      fill: #FFFFFF;\n",
              "    }\n",
              "  </style>\n",
              "\n",
              "      <script>\n",
              "        const buttonEl =\n",
              "          document.querySelector('#df-32487306-52ca-42e3-84f8-d85beaafedcb button.colab-df-convert');\n",
              "        buttonEl.style.display =\n",
              "          google.colab.kernel.accessAllowed ? 'block' : 'none';\n",
              "\n",
              "        async function convertToInteractive(key) {\n",
              "          const element = document.querySelector('#df-32487306-52ca-42e3-84f8-d85beaafedcb');\n",
              "          const dataTable =\n",
              "            await google.colab.kernel.invokeFunction('convertToInteractive',\n",
              "                                                     [key], {});\n",
              "          if (!dataTable) return;\n",
              "\n",
              "          const docLinkHtml = 'Like what you see? Visit the ' +\n",
              "            '<a target=\"_blank\" href=https://colab.research.google.com/notebooks/data_table.ipynb>data table notebook</a>'\n",
              "            + ' to learn more about interactive tables.';\n",
              "          element.innerHTML = '';\n",
              "          dataTable['output_type'] = 'display_data';\n",
              "          await google.colab.output.renderOutput(dataTable, element);\n",
              "          const docLink = document.createElement('div');\n",
              "          docLink.innerHTML = docLinkHtml;\n",
              "          element.appendChild(docLink);\n",
              "        }\n",
              "      </script>\n",
              "    </div>\n",
              "  </div>\n",
              "  "
            ]
          },
          "metadata": {},
          "execution_count": 50
        }
      ]
    },
    {
      "cell_type": "code",
      "source": [
        "agg_feat_team_players_gameDf.columns"
      ],
      "metadata": {
        "colab": {
          "base_uri": "https://localhost:8080/"
        },
        "id": "xQZfOJJxTTLT",
        "outputId": "1fafcc61-0610-48a0-f75f-12be1b71709b"
      },
      "execution_count": null,
      "outputs": [
        {
          "output_type": "execute_result",
          "data": {
            "text/plain": [
              "Index(['teamName', 'agg_postGame_error', 'agg_postGame_clearance',\n",
              "       'agg_postGame_index', 'lineup', 'vg_rating', 'potential',\n",
              "       'market_value', 'age_days', 'xppm', 'xgpm', 'agg_postGame_shots',\n",
              "       'agg_postGame_shots_on_target', 'agg_postGame_shots_left_foot',\n",
              "       'agg_postGame_shots_right_foot', 'agg_postGame_shots_head',\n",
              "       'agg_postGame_shots_other', 'agg_postGame_goals',\n",
              "       'agg_postGame_goals_left_foot', 'agg_postGame_goals_right_foot',\n",
              "       'agg_postGame_goals_head', 'agg_postGame_goals_other',\n",
              "       'agg_postGame_xG', 'agg_postGame_cross', 'agg_postGame_cross_success',\n",
              "       'agg_postGame_pass', 'agg_postGame_pass_success',\n",
              "       'agg_postGame_pass_final_third',\n",
              "       'agg_postGame_pass_final_third_success', 'agg_postGame_pass_forward',\n",
              "       'agg_postGame_pass_forward_success', 'agg_postGame_dribble',\n",
              "       'agg_postGame_dribble_success', 'agg_postGame_tackle',\n",
              "       'agg_postGame_tackle_success', 'agg_postGame_interception',\n",
              "       'agg_postGame_challenge', 'agg_postGame_ball_recovery',\n",
              "       'agg_postGame_ball_lost', 'agg_postGame_key_pass',\n",
              "       'agg_postGame_pickUp', 'agg_postGame_punch', 'agg_postGame_save',\n",
              "       'gameId', 'goal', 'league', 'date'],\n",
              "      dtype='object')"
            ]
          },
          "metadata": {},
          "execution_count": 51
        }
      ]
    },
    {
      "cell_type": "code",
      "source": [
        "columns = [\n",
        "   'goal', 'agg_postGame_error', 'agg_postGame_clearance',\n",
        "       'agg_postGame_index', 'lineup', 'vg_rating', 'potential',\n",
        "       'market_value', 'age_days', 'xppm', 'xgpm', 'agg_postGame_shots',\n",
        "       'agg_postGame_shots_on_target', 'agg_postGame_shots_left_foot',\n",
        "       'agg_postGame_shots_right_foot', 'agg_postGame_shots_head',\n",
        "       'agg_postGame_shots_other', 'agg_postGame_goals',\n",
        "       'agg_postGame_goals_left_foot', 'agg_postGame_goals_right_foot',\n",
        "       'agg_postGame_goals_head', 'agg_postGame_goals_other',\n",
        "       'agg_postGame_xG', 'agg_postGame_cross', 'agg_postGame_cross_success',\n",
        "       'agg_postGame_pass', 'agg_postGame_pass_success',\n",
        "       'agg_postGame_pass_final_third',\n",
        "       'agg_postGame_pass_final_third_success', 'agg_postGame_pass_forward',\n",
        "       'agg_postGame_pass_forward_success', 'agg_postGame_dribble',\n",
        "       'agg_postGame_dribble_success', 'agg_postGame_tackle',\n",
        "       'agg_postGame_tackle_success', 'agg_postGame_interception',\n",
        "       'agg_postGame_challenge', 'agg_postGame_ball_recovery',\n",
        "       'agg_postGame_ball_lost', 'agg_postGame_key_pass',\n",
        "       'agg_postGame_pickUp', 'agg_postGame_punch', 'agg_postGame_save'\n",
        "]\n",
        "query = \"\"\"\n",
        "  select T2.teamName as home_team, \n",
        "         T1.teamName as away_team,\n",
        "         T1.league,\n",
        "         T1.date,\n",
        "         case \n",
        "            when (T2.goal - T1.goal) > 0 then 'win'\n",
        "            when (T2.goal - T1.goal) = 0 then 'tie'\n",
        "            when (T2.goal - T1.goal) < 0 then 'loss'\n",
        "          end as result,\n",
        "  \"\"\"\n",
        "for column in columns:\n",
        "  query += f\"\"\"\n",
        "    T2.{column} as home_{column},\n",
        "    T1.{column} as away_{column},\n",
        "  \"\"\"\n",
        "query += \"\"\"\n",
        "    T1.gameId\n",
        "  from agg_feat_team_players_gameDf T1\n",
        "    inner join agg_feat_team_players_gameDf T2\n",
        "     on T1.gameId = T2.gameId and T1.teamName <> T2.teamName\n",
        "\"\"\"\n",
        "_ = ps.sqldf(query)\n",
        "agg_feat_matches_players = _[_.index % 2 == 0].reset_index().drop('index', axis=1)\n",
        "agg_feat_matches_players = agg_feat_matches_players.fillna(value=np.nan)\n",
        "agg_feat_matches_players = agg_feat_matches_players.fillna(('0.0 - ' * 11)[:-3])\n",
        "agg_feat_matches_players.to_csv('matches_lineup_agg_box_score_features.csv')\n",
        "agg_feat_matches_players"
      ],
      "metadata": {
        "id": "Ptra9ZeSRqSp",
        "colab": {
          "base_uri": "https://localhost:8080/"
        },
        "outputId": "5d65369d-25b6-40d3-decf-a6500fcb87b0"
      },
      "execution_count": null,
      "outputs": [
        {
          "output_type": "execute_result",
          "data": {
            "text/plain": [
              "                home_team     away_team                  league  \\\n",
              "0     Queens Park Rangers  Bristol City    England Championship   \n",
              "1        Rotherham United     Hull City    England Championship   \n",
              "2            Derby County  Ipswich Town    England Championship   \n",
              "3            Swansea City  Leeds United    England Championship   \n",
              "4             Aston Villa     Brentford    England Championship   \n",
              "...                   ...           ...                     ...   \n",
              "3999          Valencia CF         Eibar  Spain Primera Division   \n",
              "4000                Cádiz         Elche  Spain Primera Division   \n",
              "4001              Levante         Cádiz  Spain Primera Division   \n",
              "4002          Real Madrid    Villarreal  Spain Primera Division   \n",
              "4003               Huesca   Valencia CF  Spain Primera Division   \n",
              "\n",
              "                          date result  home_goal  away_goal  \\\n",
              "0     2018-08-21T18:45:00.000Z   loss          0          3   \n",
              "1     2018-08-21T18:45:00.000Z   loss          2          3   \n",
              "2     2018-08-21T18:45:00.000Z    win          2          0   \n",
              "3     2018-08-21T18:45:00.000Z    tie          2          2   \n",
              "4     2018-08-22T18:45:00.000Z    tie          2          2   \n",
              "...                        ...    ...        ...        ...   \n",
              "3999  2021-05-16T16:30:00.000Z    win          4          1   \n",
              "4000  2021-05-16T16:30:00.000Z   loss          1          3   \n",
              "4001  2021-05-21T19:00:00.000Z    tie          2          2   \n",
              "4002  2021-05-22T16:00:00.000Z    win          2          1   \n",
              "4003  2021-05-22T16:00:00.000Z    tie          0          0   \n",
              "\n",
              "                                home_agg_postGame_error  \\\n",
              "0     0.0 - 0.0 - 0.0 - 0.0 - 0.0 - 0.0 - 0.0 - 0.0 ...   \n",
              "1     0.0 - 0.0 - 0.0 - 0.0 - 0.0 - 0.0 - 0.0 - 0.0 ...   \n",
              "2     0.0 - 0.0 - 0.0 - 0.0 - 0.0 - 0.0 - 0.0 - 0.0 ...   \n",
              "3     0.0 - 0.0 - 0.0 - 0.0 - 0.0 - 0.0 - 0.0 - 0.0 ...   \n",
              "4     0.0 - 0.0 - 0.0 - 0.0 - 0.0 - 0.0 - 0.0 - 0.0 ...   \n",
              "...                                                 ...   \n",
              "3999  0.5 - 0.0 - 0.25 - 0.0 - 0.0 - 0.25 - 0.0 - 0....   \n",
              "4000  0.0 - 0.0 - 0.0 - 0.0 - 0.0 - 0.0 - 0.0 - 0.0 ...   \n",
              "4001  0.0 - 0.0 - 0.0 - 0.0 - 0.0 - 0.0 - 0.0 - 0.25...   \n",
              "4002  0.0 - 0.0 - 0.0 - 0.0 - 0.0 - 0.0 - 0.0 - 0.25...   \n",
              "4003  0.0 - 0.25 - 0.0 - 0.0 - 0.0 - 0.0 - 0.0 - 0.0...   \n",
              "\n",
              "                                away_agg_postGame_error  \\\n",
              "0     0.0 - 0.0 - 0.0 - 0.0 - 0.0 - 0.0 - 0.0 - 0.0 ...   \n",
              "1     0.0 - 0.0 - 0.0 - 0.0 - 0.0 - 0.0 - 0.0 - 0.0 ...   \n",
              "2     0.0 - 0.0 - 0.0 - 0.0 - 0.0 - 0.0 - 0.0 - 0.0 ...   \n",
              "3     0.0 - 0.0 - 0.0 - 0.0 - 0.0 - 0.0 - 0.0 - 0.0 ...   \n",
              "4     0.0 - 0.0 - 0.0 - 0.0 - 0.0 - 0.0 - 0.0 - 0.0 ...   \n",
              "...                                                 ...   \n",
              "3999  0.0 - 0.0 - 0.0 - 0.0 - 0.0 - 0.0 - 0.0 - 0.0 ...   \n",
              "4000  0.0 - 0.0 - 0.0 - 0.0 - 0.0 - 0.0 - 0.0 - 0.25...   \n",
              "4001  0.0 - 0.0 - 0.0 - 0.0 - 0.0 - 0.25 - 0.0 - 0.5...   \n",
              "4002  0.0 - 0.25 - 0.25 - 0.0 - 0.25 - 0.0 - 0.25 - ...   \n",
              "4003  0.0 - 0.0 - 0.0 - 0.25 - 0.0 - 0.5 - 0.0 - 0.0...   \n",
              "\n",
              "                            home_agg_postGame_clearance  ...  \\\n",
              "0     0.0 - 0.0 - 0.0 - 0.0 - 0.0 - 0.0 - 0.0 - 0.0 ...  ...   \n",
              "1     0.0 - 0.0 - 0.0 - 0.0 - 0.0 - 0.0 - 0.0 - 0.0 ...  ...   \n",
              "2     0.0 - 0.0 - 0.0 - 0.0 - 0.0 - 0.0 - 0.0 - 0.0 ...  ...   \n",
              "3     0.0 - 0.0 - 0.0 - 0.0 - 0.0 - 0.0 - 0.0 - 0.0 ...  ...   \n",
              "4     0.0 - 0.0 - 0.0 - 0.0 - 0.0 - 0.0 - 0.0 - 0.0 ...  ...   \n",
              "...                                                 ...  ...   \n",
              "3999  0.75 - 0.75 - 1.25 - 4.5 - 0.0 - 5.0 - 0.25 - ...  ...   \n",
              "4000  0.0 - 0.75 - 0.666666666666667 - 1.25 - 0.25 -...  ...   \n",
              "4001  0.666666666666667 - 1.5 - 2.25 - 0.0 - 0.75 - ...  ...   \n",
              "4002  1.25 - 0.5 - 1.0 - 1.5 - 3.75 - 0.75 - 1.75 - ...  ...   \n",
              "4003  0.25 - 4.0 - 1.5 - 3.0 - 0.25 - 0.0 - 2.25 - 1...  ...   \n",
              "\n",
              "                            away_agg_postGame_ball_lost  \\\n",
              "0     0.0 - 0.0 - 0.0 - 0.0 - 0.0 - 0.0 - 0.0 - 0.0 ...   \n",
              "1     0.0 - 0.0 - 0.0 - 0.0 - 0.0 - 0.0 - 0.0 - 0.0 ...   \n",
              "2     0.0 - 0.0 - 0.0 - 0.0 - 0.0 - 0.0 - 0.0 - 0.0 ...   \n",
              "3     0.0 - 0.0 - 0.0 - 0.0 - 0.0 - 0.0 - 0.0 - 0.0 ...   \n",
              "4     0.0 - 0.0 - 0.0 - 0.0 - 0.0 - 0.0 - 0.0 - 0.0 ...   \n",
              "...                                                 ...   \n",
              "3999  0.0 - 3.5 - 9.0 - 2.5 - 2.25 - 4.0 - 6.6666666...   \n",
              "4000  0.0 - 2.75 - 8.5 - 7.5 - 3.5 - 1.5 - 11.75 - 1...   \n",
              "4001  0.0 - 3.75 - 5.0 - 4.0 - 2.0 - 3.75 - 2.75 - 4...   \n",
              "4002  0.0 - 2.5 - 3.5 - 2.25 - 2.75 - 10.0 - 4.5 - 2...   \n",
              "4003  0.0 - 0.75 - 6.25 - 1.25 - 3.75 - 2.5 - 4.0 - ...   \n",
              "\n",
              "                             home_agg_postGame_key_pass  \\\n",
              "0     0.0 - 0.0 - 0.0 - 0.0 - 0.0 - 0.0 - 0.0 - 0.0 ...   \n",
              "1     0.0 - 0.0 - 0.0 - 0.0 - 0.0 - 0.0 - 0.0 - 0.0 ...   \n",
              "2     0.0 - 0.0 - 0.0 - 0.0 - 0.0 - 0.0 - 0.0 - 0.0 ...   \n",
              "3     0.0 - 0.0 - 0.0 - 0.0 - 0.0 - 0.0 - 0.0 - 0.0 ...   \n",
              "4     0.0 - 0.0 - 0.0 - 0.0 - 0.0 - 0.0 - 0.0 - 0.0 ...   \n",
              "...                                                 ...   \n",
              "3999  0.0 - 0.5 - 0.75 - 0.25 - 1.75 - 0.0 - 0.0 - 0...   \n",
              "4000  0.0 - 0.25 - 0.333333333333333 - 0.75 - 0.25 -...   \n",
              "4001  0.0 - 0.25 - 0.25 - 0.75 - 0.0 - 0.5 - 0.5 - 0...   \n",
              "4002  0.0 - 1.25 - 1.0 - 0.5 - 0.25 - 2.25 - 1.0 - 0...   \n",
              "4003  0.0 - 0.0 - 0.75 - 0.25 - 2.75 - 1.5 - 0.25 - ...   \n",
              "\n",
              "                             away_agg_postGame_key_pass  \\\n",
              "0     0.0 - 0.0 - 0.0 - 0.0 - 0.0 - 0.0 - 0.0 - 0.0 ...   \n",
              "1     0.0 - 0.0 - 0.0 - 0.0 - 0.0 - 0.0 - 0.0 - 0.0 ...   \n",
              "2     0.0 - 0.0 - 0.0 - 0.0 - 0.0 - 0.0 - 0.0 - 0.0 ...   \n",
              "3     0.0 - 0.0 - 0.0 - 0.0 - 0.0 - 0.0 - 0.0 - 0.0 ...   \n",
              "4     0.0 - 0.0 - 0.0 - 0.0 - 0.0 - 0.0 - 0.0 - 0.0 ...   \n",
              "...                                                 ...   \n",
              "3999  0.0 - 0.5 - 0.5 - 0.0 - 0.0 - 2.0 - 0.33333333...   \n",
              "4000  0.0 - 0.5 - 0.25 - 1.75 - 0.25 - 0.0 - 0.25 - ...   \n",
              "4001  0.0 - 1.25 - 0.0 - 0.5 - 0.0 - 0.0 - 0.75 - 1....   \n",
              "4002  0.0 - 0.5 - 0.0 - 1.0 - 0.25 - 0.75 - 1.5 - 0....   \n",
              "4003  0.0 - 0.25 - 1.25 - 0.0 - 0.0 - 0.25 - 0.5 - 0...   \n",
              "\n",
              "                               home_agg_postGame_pickUp  \\\n",
              "0     0.0 - 0.0 - 0.0 - 0.0 - 0.0 - 0.0 - 0.0 - 0.0 ...   \n",
              "1     0.0 - 0.0 - 0.0 - 0.0 - 0.0 - 0.0 - 0.0 - 0.0 ...   \n",
              "2     0.0 - 0.0 - 0.0 - 0.0 - 0.0 - 0.0 - 0.0 - 0.0 ...   \n",
              "3     0.0 - 0.0 - 0.0 - 0.0 - 0.0 - 0.0 - 0.0 - 0.0 ...   \n",
              "4     0.0 - 0.0 - 0.0 - 0.0 - 0.0 - 0.0 - 0.0 - 0.0 ...   \n",
              "...                                                 ...   \n",
              "3999  3.5 - 0.0 - 0.0 - 0.0 - 0.0 - 0.0 - 0.0 - 0.0 ...   \n",
              "4000  8.0 - 0.0 - 0.0 - 0.0 - 0.0 - 0.0 - 0.0 - 0.0 ...   \n",
              "4001  3.66666666666667 - 0.0 - 0.0 - 0.0 - 0.0 - 0.0...   \n",
              "4002  5.25 - 0.0 - 0.0 - 0.0 - 0.0 - 0.0 - 0.0 - 0.0...   \n",
              "4003  4.75 - 0.0 - 0.0 - 0.0 - 0.0 - 0.0 - 0.0 - 0.0...   \n",
              "\n",
              "                               away_agg_postGame_pickUp  \\\n",
              "0     0.0 - 0.0 - 0.0 - 0.0 - 0.0 - 0.0 - 0.0 - 0.0 ...   \n",
              "1     0.0 - 0.0 - 0.0 - 0.0 - 0.0 - 0.0 - 0.0 - 0.0 ...   \n",
              "2     0.0 - 0.0 - 0.0 - 0.0 - 0.0 - 0.0 - 0.0 - 0.0 ...   \n",
              "3     0.0 - 0.0 - 0.0 - 0.0 - 0.0 - 0.0 - 0.0 - 0.0 ...   \n",
              "4     0.0 - 0.0 - 0.0 - 0.0 - 0.0 - 0.0 - 0.0 - 0.0 ...   \n",
              "...                                                 ...   \n",
              "3999  7.0 - 0.0 - 0.0 - 0.0 - 0.0 - 0.0 - 0.0 - 0.0 ...   \n",
              "4000  6.5 - 0.0 - 0.0 - 0.0 - 0.0 - 0.0 - 0.0 - 0.0 ...   \n",
              "4001  6.5 - 0.0 - 0.0 - 0.0 - 0.0 - 0.0 - 0.0 - 0.0 ...   \n",
              "4002  6.25 - 0.0 - 0.0 - 0.0 - 0.0 - 0.0 - 0.0 - 0.0...   \n",
              "4003  3.25 - 0.0 - 0.0 - 0.0 - 0.0 - 0.0 - 0.0 - 0.0...   \n",
              "\n",
              "                                home_agg_postGame_punch  \\\n",
              "0     0.0 - 0.0 - 0.0 - 0.0 - 0.0 - 0.0 - 0.0 - 0.0 ...   \n",
              "1     0.0 - 0.0 - 0.0 - 0.0 - 0.0 - 0.0 - 0.0 - 0.0 ...   \n",
              "2     0.0 - 0.0 - 0.0 - 0.0 - 0.0 - 0.0 - 0.0 - 0.0 ...   \n",
              "3     0.0 - 0.0 - 0.0 - 0.0 - 0.0 - 0.0 - 0.0 - 0.0 ...   \n",
              "4     0.0 - 0.0 - 0.0 - 0.0 - 0.0 - 0.0 - 0.0 - 0.0 ...   \n",
              "...                                                 ...   \n",
              "3999  0.25 - 0.0 - 0.0 - 0.0 - 0.0 - 0.0 - 0.0 - 0.0...   \n",
              "4000  0.0 - 0.0 - 0.0 - 0.0 - 0.0 - 0.0 - 0.0 - 0.0 ...   \n",
              "4001  0.666666666666667 - 0.0 - 0.0 - 0.0 - 0.0 - 0....   \n",
              "4002  0.0 - 0.0 - 0.0 - 0.0 - 0.0 - 0.0 - 0.0 - 0.0 ...   \n",
              "4003  0.25 - 0.0 - 0.0 - 0.0 - 0.0 - 0.0 - 0.0 - 0.0...   \n",
              "\n",
              "                                away_agg_postGame_punch  \\\n",
              "0     0.0 - 0.0 - 0.0 - 0.0 - 0.0 - 0.0 - 0.0 - 0.0 ...   \n",
              "1     0.0 - 0.0 - 0.0 - 0.0 - 0.0 - 0.0 - 0.0 - 0.0 ...   \n",
              "2     0.0 - 0.0 - 0.0 - 0.0 - 0.0 - 0.0 - 0.0 - 0.0 ...   \n",
              "3     0.0 - 0.0 - 0.0 - 0.0 - 0.0 - 0.0 - 0.0 - 0.0 ...   \n",
              "4     0.0 - 0.0 - 0.0 - 0.0 - 0.0 - 0.0 - 0.0 - 0.0 ...   \n",
              "...                                                 ...   \n",
              "3999  0.0 - 0.0 - 0.0 - 0.0 - 0.0 - 0.0 - 0.0 - 0.0 ...   \n",
              "4000  0.0 - 0.0 - 0.0 - 0.0 - 0.0 - 0.0 - 0.0 - 0.0 ...   \n",
              "4001  1.0 - 0.0 - 0.0 - 0.0 - 0.0 - 0.0 - 0.0 - 0.0 ...   \n",
              "4002  0.25 - 0.0 - 0.0 - 0.0 - 0.0 - 0.0 - 0.0 - 0.0...   \n",
              "4003  0.5 - 0.0 - 0.0 - 0.0 - 0.0 - 0.0 - 0.0 - 0.0 ...   \n",
              "\n",
              "                                 home_agg_postGame_save  \\\n",
              "0     0.0 - 0.0 - 0.0 - 0.0 - 0.0 - 0.0 - 0.0 - 0.0 ...   \n",
              "1     0.0 - 0.0 - 0.0 - 0.0 - 0.0 - 0.0 - 0.0 - 0.0 ...   \n",
              "2     0.0 - 0.0 - 0.0 - 0.0 - 0.0 - 0.0 - 0.0 - 0.0 ...   \n",
              "3     0.0 - 0.0 - 0.0 - 0.0 - 0.0 - 0.0 - 0.0 - 0.0 ...   \n",
              "4     0.0 - 0.0 - 0.0 - 0.0 - 0.0 - 0.0 - 0.0 - 0.0 ...   \n",
              "...                                                 ...   \n",
              "3999  3.75 - 0.0 - 0.0 - 0.0 - 0.0 - 0.0 - 0.0 - 0.0...   \n",
              "4000  1.0 - 0.0 - 0.0 - 0.0 - 0.0 - 0.0 - 0.0 - 0.0 ...   \n",
              "4001  2.66666666666667 - 0.0 - 0.0 - 0.0 - 0.0 - 0.0...   \n",
              "4002  2.25 - 0.0 - 0.0 - 0.0 - 0.0 - 0.0 - 0.0 - 0.0...   \n",
              "4003  4.0 - 0.0 - 0.0 - 0.0 - 0.0 - 0.0 - 0.0 - 0.0 ...   \n",
              "\n",
              "                                 away_agg_postGame_save  \\\n",
              "0     0.0 - 0.0 - 0.0 - 0.0 - 0.0 - 0.0 - 0.0 - 0.0 ...   \n",
              "1     0.0 - 0.0 - 0.0 - 0.0 - 0.0 - 0.0 - 0.0 - 0.0 ...   \n",
              "2     0.0 - 0.0 - 0.0 - 0.0 - 0.0 - 0.0 - 0.0 - 0.0 ...   \n",
              "3     0.0 - 0.0 - 0.0 - 0.0 - 0.0 - 0.0 - 0.0 - 0.0 ...   \n",
              "4     0.0 - 0.0 - 0.0 - 0.0 - 0.0 - 0.0 - 0.0 - 0.0 ...   \n",
              "...                                                 ...   \n",
              "3999  2.0 - 0.0 - 0.0 - 0.0 - 0.0 - 0.0 - 0.0 - 0.0 ...   \n",
              "4000  1.25 - 0.0 - 0.0 - 0.0 - 0.0 - 0.0 - 0.0 - 0.0...   \n",
              "4001  1.5 - 0.0 - 0.0 - 0.0 - 0.0 - 0.0 - 0.0 - 0.0 ...   \n",
              "4002  2.75 - 0.0 - 0.0 - 0.0 - 0.0 - 0.0 - 0.0 - 0.0...   \n",
              "4003  4.0 - 0.0 - 0.0 - 0.0 - 0.0 - 0.0 - 0.0 - 0.0 ...   \n",
              "\n",
              "                                                 gameId  \n",
              "0     3a604f5616b39eb17fc8d1eed07d5248e387bf400294b2...  \n",
              "1     58b1242154c8055252582229abfc4680460278834c4433...  \n",
              "2     c0c48eee0b1a42e0d84cb0a947fe2c64f9e1aa7015922f...  \n",
              "3     d0cc49c3230e300b529b270951b3b70b3224481add8354...  \n",
              "4     174dba7291174b4dbbfa9ea12dd944bb45bdd8ed905524...  \n",
              "...                                                 ...  \n",
              "3999  c6cfcf8d8f019088926eb0b48fa4b5309a4176e6e3003d...  \n",
              "4000  e465fbafec023f3e0c991b1860bd9f763bdd36b152d6c6...  \n",
              "4001  0dd5f2b145867283932a47fb03be7b9bc56d89f8250ece...  \n",
              "4002  0074aca0bc12614b3f47bc770421e7a25d1537424fd53a...  \n",
              "4003  38ccde8c2673201f05b8d1de80e8560d034484166a764d...  \n",
              "\n",
              "[4004 rows x 92 columns]"
            ],
            "text/html": [
              "\n",
              "  <div id=\"df-37397137-7ef8-4fa9-8455-12b4fe806242\">\n",
              "    <div class=\"colab-df-container\">\n",
              "      <div>\n",
              "<style scoped>\n",
              "    .dataframe tbody tr th:only-of-type {\n",
              "        vertical-align: middle;\n",
              "    }\n",
              "\n",
              "    .dataframe tbody tr th {\n",
              "        vertical-align: top;\n",
              "    }\n",
              "\n",
              "    .dataframe thead th {\n",
              "        text-align: right;\n",
              "    }\n",
              "</style>\n",
              "<table border=\"1\" class=\"dataframe\">\n",
              "  <thead>\n",
              "    <tr style=\"text-align: right;\">\n",
              "      <th></th>\n",
              "      <th>home_team</th>\n",
              "      <th>away_team</th>\n",
              "      <th>league</th>\n",
              "      <th>date</th>\n",
              "      <th>result</th>\n",
              "      <th>home_goal</th>\n",
              "      <th>away_goal</th>\n",
              "      <th>home_agg_postGame_error</th>\n",
              "      <th>away_agg_postGame_error</th>\n",
              "      <th>home_agg_postGame_clearance</th>\n",
              "      <th>...</th>\n",
              "      <th>away_agg_postGame_ball_lost</th>\n",
              "      <th>home_agg_postGame_key_pass</th>\n",
              "      <th>away_agg_postGame_key_pass</th>\n",
              "      <th>home_agg_postGame_pickUp</th>\n",
              "      <th>away_agg_postGame_pickUp</th>\n",
              "      <th>home_agg_postGame_punch</th>\n",
              "      <th>away_agg_postGame_punch</th>\n",
              "      <th>home_agg_postGame_save</th>\n",
              "      <th>away_agg_postGame_save</th>\n",
              "      <th>gameId</th>\n",
              "    </tr>\n",
              "  </thead>\n",
              "  <tbody>\n",
              "    <tr>\n",
              "      <th>0</th>\n",
              "      <td>Queens Park Rangers</td>\n",
              "      <td>Bristol City</td>\n",
              "      <td>England Championship</td>\n",
              "      <td>2018-08-21T18:45:00.000Z</td>\n",
              "      <td>loss</td>\n",
              "      <td>0</td>\n",
              "      <td>3</td>\n",
              "      <td>0.0 - 0.0 - 0.0 - 0.0 - 0.0 - 0.0 - 0.0 - 0.0 ...</td>\n",
              "      <td>0.0 - 0.0 - 0.0 - 0.0 - 0.0 - 0.0 - 0.0 - 0.0 ...</td>\n",
              "      <td>0.0 - 0.0 - 0.0 - 0.0 - 0.0 - 0.0 - 0.0 - 0.0 ...</td>\n",
              "      <td>...</td>\n",
              "      <td>0.0 - 0.0 - 0.0 - 0.0 - 0.0 - 0.0 - 0.0 - 0.0 ...</td>\n",
              "      <td>0.0 - 0.0 - 0.0 - 0.0 - 0.0 - 0.0 - 0.0 - 0.0 ...</td>\n",
              "      <td>0.0 - 0.0 - 0.0 - 0.0 - 0.0 - 0.0 - 0.0 - 0.0 ...</td>\n",
              "      <td>0.0 - 0.0 - 0.0 - 0.0 - 0.0 - 0.0 - 0.0 - 0.0 ...</td>\n",
              "      <td>0.0 - 0.0 - 0.0 - 0.0 - 0.0 - 0.0 - 0.0 - 0.0 ...</td>\n",
              "      <td>0.0 - 0.0 - 0.0 - 0.0 - 0.0 - 0.0 - 0.0 - 0.0 ...</td>\n",
              "      <td>0.0 - 0.0 - 0.0 - 0.0 - 0.0 - 0.0 - 0.0 - 0.0 ...</td>\n",
              "      <td>0.0 - 0.0 - 0.0 - 0.0 - 0.0 - 0.0 - 0.0 - 0.0 ...</td>\n",
              "      <td>0.0 - 0.0 - 0.0 - 0.0 - 0.0 - 0.0 - 0.0 - 0.0 ...</td>\n",
              "      <td>3a604f5616b39eb17fc8d1eed07d5248e387bf400294b2...</td>\n",
              "    </tr>\n",
              "    <tr>\n",
              "      <th>1</th>\n",
              "      <td>Rotherham United</td>\n",
              "      <td>Hull City</td>\n",
              "      <td>England Championship</td>\n",
              "      <td>2018-08-21T18:45:00.000Z</td>\n",
              "      <td>loss</td>\n",
              "      <td>2</td>\n",
              "      <td>3</td>\n",
              "      <td>0.0 - 0.0 - 0.0 - 0.0 - 0.0 - 0.0 - 0.0 - 0.0 ...</td>\n",
              "      <td>0.0 - 0.0 - 0.0 - 0.0 - 0.0 - 0.0 - 0.0 - 0.0 ...</td>\n",
              "      <td>0.0 - 0.0 - 0.0 - 0.0 - 0.0 - 0.0 - 0.0 - 0.0 ...</td>\n",
              "      <td>...</td>\n",
              "      <td>0.0 - 0.0 - 0.0 - 0.0 - 0.0 - 0.0 - 0.0 - 0.0 ...</td>\n",
              "      <td>0.0 - 0.0 - 0.0 - 0.0 - 0.0 - 0.0 - 0.0 - 0.0 ...</td>\n",
              "      <td>0.0 - 0.0 - 0.0 - 0.0 - 0.0 - 0.0 - 0.0 - 0.0 ...</td>\n",
              "      <td>0.0 - 0.0 - 0.0 - 0.0 - 0.0 - 0.0 - 0.0 - 0.0 ...</td>\n",
              "      <td>0.0 - 0.0 - 0.0 - 0.0 - 0.0 - 0.0 - 0.0 - 0.0 ...</td>\n",
              "      <td>0.0 - 0.0 - 0.0 - 0.0 - 0.0 - 0.0 - 0.0 - 0.0 ...</td>\n",
              "      <td>0.0 - 0.0 - 0.0 - 0.0 - 0.0 - 0.0 - 0.0 - 0.0 ...</td>\n",
              "      <td>0.0 - 0.0 - 0.0 - 0.0 - 0.0 - 0.0 - 0.0 - 0.0 ...</td>\n",
              "      <td>0.0 - 0.0 - 0.0 - 0.0 - 0.0 - 0.0 - 0.0 - 0.0 ...</td>\n",
              "      <td>58b1242154c8055252582229abfc4680460278834c4433...</td>\n",
              "    </tr>\n",
              "    <tr>\n",
              "      <th>2</th>\n",
              "      <td>Derby County</td>\n",
              "      <td>Ipswich Town</td>\n",
              "      <td>England Championship</td>\n",
              "      <td>2018-08-21T18:45:00.000Z</td>\n",
              "      <td>win</td>\n",
              "      <td>2</td>\n",
              "      <td>0</td>\n",
              "      <td>0.0 - 0.0 - 0.0 - 0.0 - 0.0 - 0.0 - 0.0 - 0.0 ...</td>\n",
              "      <td>0.0 - 0.0 - 0.0 - 0.0 - 0.0 - 0.0 - 0.0 - 0.0 ...</td>\n",
              "      <td>0.0 - 0.0 - 0.0 - 0.0 - 0.0 - 0.0 - 0.0 - 0.0 ...</td>\n",
              "      <td>...</td>\n",
              "      <td>0.0 - 0.0 - 0.0 - 0.0 - 0.0 - 0.0 - 0.0 - 0.0 ...</td>\n",
              "      <td>0.0 - 0.0 - 0.0 - 0.0 - 0.0 - 0.0 - 0.0 - 0.0 ...</td>\n",
              "      <td>0.0 - 0.0 - 0.0 - 0.0 - 0.0 - 0.0 - 0.0 - 0.0 ...</td>\n",
              "      <td>0.0 - 0.0 - 0.0 - 0.0 - 0.0 - 0.0 - 0.0 - 0.0 ...</td>\n",
              "      <td>0.0 - 0.0 - 0.0 - 0.0 - 0.0 - 0.0 - 0.0 - 0.0 ...</td>\n",
              "      <td>0.0 - 0.0 - 0.0 - 0.0 - 0.0 - 0.0 - 0.0 - 0.0 ...</td>\n",
              "      <td>0.0 - 0.0 - 0.0 - 0.0 - 0.0 - 0.0 - 0.0 - 0.0 ...</td>\n",
              "      <td>0.0 - 0.0 - 0.0 - 0.0 - 0.0 - 0.0 - 0.0 - 0.0 ...</td>\n",
              "      <td>0.0 - 0.0 - 0.0 - 0.0 - 0.0 - 0.0 - 0.0 - 0.0 ...</td>\n",
              "      <td>c0c48eee0b1a42e0d84cb0a947fe2c64f9e1aa7015922f...</td>\n",
              "    </tr>\n",
              "    <tr>\n",
              "      <th>3</th>\n",
              "      <td>Swansea City</td>\n",
              "      <td>Leeds United</td>\n",
              "      <td>England Championship</td>\n",
              "      <td>2018-08-21T18:45:00.000Z</td>\n",
              "      <td>tie</td>\n",
              "      <td>2</td>\n",
              "      <td>2</td>\n",
              "      <td>0.0 - 0.0 - 0.0 - 0.0 - 0.0 - 0.0 - 0.0 - 0.0 ...</td>\n",
              "      <td>0.0 - 0.0 - 0.0 - 0.0 - 0.0 - 0.0 - 0.0 - 0.0 ...</td>\n",
              "      <td>0.0 - 0.0 - 0.0 - 0.0 - 0.0 - 0.0 - 0.0 - 0.0 ...</td>\n",
              "      <td>...</td>\n",
              "      <td>0.0 - 0.0 - 0.0 - 0.0 - 0.0 - 0.0 - 0.0 - 0.0 ...</td>\n",
              "      <td>0.0 - 0.0 - 0.0 - 0.0 - 0.0 - 0.0 - 0.0 - 0.0 ...</td>\n",
              "      <td>0.0 - 0.0 - 0.0 - 0.0 - 0.0 - 0.0 - 0.0 - 0.0 ...</td>\n",
              "      <td>0.0 - 0.0 - 0.0 - 0.0 - 0.0 - 0.0 - 0.0 - 0.0 ...</td>\n",
              "      <td>0.0 - 0.0 - 0.0 - 0.0 - 0.0 - 0.0 - 0.0 - 0.0 ...</td>\n",
              "      <td>0.0 - 0.0 - 0.0 - 0.0 - 0.0 - 0.0 - 0.0 - 0.0 ...</td>\n",
              "      <td>0.0 - 0.0 - 0.0 - 0.0 - 0.0 - 0.0 - 0.0 - 0.0 ...</td>\n",
              "      <td>0.0 - 0.0 - 0.0 - 0.0 - 0.0 - 0.0 - 0.0 - 0.0 ...</td>\n",
              "      <td>0.0 - 0.0 - 0.0 - 0.0 - 0.0 - 0.0 - 0.0 - 0.0 ...</td>\n",
              "      <td>d0cc49c3230e300b529b270951b3b70b3224481add8354...</td>\n",
              "    </tr>\n",
              "    <tr>\n",
              "      <th>4</th>\n",
              "      <td>Aston Villa</td>\n",
              "      <td>Brentford</td>\n",
              "      <td>England Championship</td>\n",
              "      <td>2018-08-22T18:45:00.000Z</td>\n",
              "      <td>tie</td>\n",
              "      <td>2</td>\n",
              "      <td>2</td>\n",
              "      <td>0.0 - 0.0 - 0.0 - 0.0 - 0.0 - 0.0 - 0.0 - 0.0 ...</td>\n",
              "      <td>0.0 - 0.0 - 0.0 - 0.0 - 0.0 - 0.0 - 0.0 - 0.0 ...</td>\n",
              "      <td>0.0 - 0.0 - 0.0 - 0.0 - 0.0 - 0.0 - 0.0 - 0.0 ...</td>\n",
              "      <td>...</td>\n",
              "      <td>0.0 - 0.0 - 0.0 - 0.0 - 0.0 - 0.0 - 0.0 - 0.0 ...</td>\n",
              "      <td>0.0 - 0.0 - 0.0 - 0.0 - 0.0 - 0.0 - 0.0 - 0.0 ...</td>\n",
              "      <td>0.0 - 0.0 - 0.0 - 0.0 - 0.0 - 0.0 - 0.0 - 0.0 ...</td>\n",
              "      <td>0.0 - 0.0 - 0.0 - 0.0 - 0.0 - 0.0 - 0.0 - 0.0 ...</td>\n",
              "      <td>0.0 - 0.0 - 0.0 - 0.0 - 0.0 - 0.0 - 0.0 - 0.0 ...</td>\n",
              "      <td>0.0 - 0.0 - 0.0 - 0.0 - 0.0 - 0.0 - 0.0 - 0.0 ...</td>\n",
              "      <td>0.0 - 0.0 - 0.0 - 0.0 - 0.0 - 0.0 - 0.0 - 0.0 ...</td>\n",
              "      <td>0.0 - 0.0 - 0.0 - 0.0 - 0.0 - 0.0 - 0.0 - 0.0 ...</td>\n",
              "      <td>0.0 - 0.0 - 0.0 - 0.0 - 0.0 - 0.0 - 0.0 - 0.0 ...</td>\n",
              "      <td>174dba7291174b4dbbfa9ea12dd944bb45bdd8ed905524...</td>\n",
              "    </tr>\n",
              "    <tr>\n",
              "      <th>...</th>\n",
              "      <td>...</td>\n",
              "      <td>...</td>\n",
              "      <td>...</td>\n",
              "      <td>...</td>\n",
              "      <td>...</td>\n",
              "      <td>...</td>\n",
              "      <td>...</td>\n",
              "      <td>...</td>\n",
              "      <td>...</td>\n",
              "      <td>...</td>\n",
              "      <td>...</td>\n",
              "      <td>...</td>\n",
              "      <td>...</td>\n",
              "      <td>...</td>\n",
              "      <td>...</td>\n",
              "      <td>...</td>\n",
              "      <td>...</td>\n",
              "      <td>...</td>\n",
              "      <td>...</td>\n",
              "      <td>...</td>\n",
              "      <td>...</td>\n",
              "    </tr>\n",
              "    <tr>\n",
              "      <th>3999</th>\n",
              "      <td>Valencia CF</td>\n",
              "      <td>Eibar</td>\n",
              "      <td>Spain Primera Division</td>\n",
              "      <td>2021-05-16T16:30:00.000Z</td>\n",
              "      <td>win</td>\n",
              "      <td>4</td>\n",
              "      <td>1</td>\n",
              "      <td>0.5 - 0.0 - 0.25 - 0.0 - 0.0 - 0.25 - 0.0 - 0....</td>\n",
              "      <td>0.0 - 0.0 - 0.0 - 0.0 - 0.0 - 0.0 - 0.0 - 0.0 ...</td>\n",
              "      <td>0.75 - 0.75 - 1.25 - 4.5 - 0.0 - 5.0 - 0.25 - ...</td>\n",
              "      <td>...</td>\n",
              "      <td>0.0 - 3.5 - 9.0 - 2.5 - 2.25 - 4.0 - 6.6666666...</td>\n",
              "      <td>0.0 - 0.5 - 0.75 - 0.25 - 1.75 - 0.0 - 0.0 - 0...</td>\n",
              "      <td>0.0 - 0.5 - 0.5 - 0.0 - 0.0 - 2.0 - 0.33333333...</td>\n",
              "      <td>3.5 - 0.0 - 0.0 - 0.0 - 0.0 - 0.0 - 0.0 - 0.0 ...</td>\n",
              "      <td>7.0 - 0.0 - 0.0 - 0.0 - 0.0 - 0.0 - 0.0 - 0.0 ...</td>\n",
              "      <td>0.25 - 0.0 - 0.0 - 0.0 - 0.0 - 0.0 - 0.0 - 0.0...</td>\n",
              "      <td>0.0 - 0.0 - 0.0 - 0.0 - 0.0 - 0.0 - 0.0 - 0.0 ...</td>\n",
              "      <td>3.75 - 0.0 - 0.0 - 0.0 - 0.0 - 0.0 - 0.0 - 0.0...</td>\n",
              "      <td>2.0 - 0.0 - 0.0 - 0.0 - 0.0 - 0.0 - 0.0 - 0.0 ...</td>\n",
              "      <td>c6cfcf8d8f019088926eb0b48fa4b5309a4176e6e3003d...</td>\n",
              "    </tr>\n",
              "    <tr>\n",
              "      <th>4000</th>\n",
              "      <td>Cádiz</td>\n",
              "      <td>Elche</td>\n",
              "      <td>Spain Primera Division</td>\n",
              "      <td>2021-05-16T16:30:00.000Z</td>\n",
              "      <td>loss</td>\n",
              "      <td>1</td>\n",
              "      <td>3</td>\n",
              "      <td>0.0 - 0.0 - 0.0 - 0.0 - 0.0 - 0.0 - 0.0 - 0.0 ...</td>\n",
              "      <td>0.0 - 0.0 - 0.0 - 0.0 - 0.0 - 0.0 - 0.0 - 0.25...</td>\n",
              "      <td>0.0 - 0.75 - 0.666666666666667 - 1.25 - 0.25 -...</td>\n",
              "      <td>...</td>\n",
              "      <td>0.0 - 2.75 - 8.5 - 7.5 - 3.5 - 1.5 - 11.75 - 1...</td>\n",
              "      <td>0.0 - 0.25 - 0.333333333333333 - 0.75 - 0.25 -...</td>\n",
              "      <td>0.0 - 0.5 - 0.25 - 1.75 - 0.25 - 0.0 - 0.25 - ...</td>\n",
              "      <td>8.0 - 0.0 - 0.0 - 0.0 - 0.0 - 0.0 - 0.0 - 0.0 ...</td>\n",
              "      <td>6.5 - 0.0 - 0.0 - 0.0 - 0.0 - 0.0 - 0.0 - 0.0 ...</td>\n",
              "      <td>0.0 - 0.0 - 0.0 - 0.0 - 0.0 - 0.0 - 0.0 - 0.0 ...</td>\n",
              "      <td>0.0 - 0.0 - 0.0 - 0.0 - 0.0 - 0.0 - 0.0 - 0.0 ...</td>\n",
              "      <td>1.0 - 0.0 - 0.0 - 0.0 - 0.0 - 0.0 - 0.0 - 0.0 ...</td>\n",
              "      <td>1.25 - 0.0 - 0.0 - 0.0 - 0.0 - 0.0 - 0.0 - 0.0...</td>\n",
              "      <td>e465fbafec023f3e0c991b1860bd9f763bdd36b152d6c6...</td>\n",
              "    </tr>\n",
              "    <tr>\n",
              "      <th>4001</th>\n",
              "      <td>Levante</td>\n",
              "      <td>Cádiz</td>\n",
              "      <td>Spain Primera Division</td>\n",
              "      <td>2021-05-21T19:00:00.000Z</td>\n",
              "      <td>tie</td>\n",
              "      <td>2</td>\n",
              "      <td>2</td>\n",
              "      <td>0.0 - 0.0 - 0.0 - 0.0 - 0.0 - 0.0 - 0.0 - 0.25...</td>\n",
              "      <td>0.0 - 0.0 - 0.0 - 0.0 - 0.0 - 0.25 - 0.0 - 0.5...</td>\n",
              "      <td>0.666666666666667 - 1.5 - 2.25 - 0.0 - 0.75 - ...</td>\n",
              "      <td>...</td>\n",
              "      <td>0.0 - 3.75 - 5.0 - 4.0 - 2.0 - 3.75 - 2.75 - 4...</td>\n",
              "      <td>0.0 - 0.25 - 0.25 - 0.75 - 0.0 - 0.5 - 0.5 - 0...</td>\n",
              "      <td>0.0 - 1.25 - 0.0 - 0.5 - 0.0 - 0.0 - 0.75 - 1....</td>\n",
              "      <td>3.66666666666667 - 0.0 - 0.0 - 0.0 - 0.0 - 0.0...</td>\n",
              "      <td>6.5 - 0.0 - 0.0 - 0.0 - 0.0 - 0.0 - 0.0 - 0.0 ...</td>\n",
              "      <td>0.666666666666667 - 0.0 - 0.0 - 0.0 - 0.0 - 0....</td>\n",
              "      <td>1.0 - 0.0 - 0.0 - 0.0 - 0.0 - 0.0 - 0.0 - 0.0 ...</td>\n",
              "      <td>2.66666666666667 - 0.0 - 0.0 - 0.0 - 0.0 - 0.0...</td>\n",
              "      <td>1.5 - 0.0 - 0.0 - 0.0 - 0.0 - 0.0 - 0.0 - 0.0 ...</td>\n",
              "      <td>0dd5f2b145867283932a47fb03be7b9bc56d89f8250ece...</td>\n",
              "    </tr>\n",
              "    <tr>\n",
              "      <th>4002</th>\n",
              "      <td>Real Madrid</td>\n",
              "      <td>Villarreal</td>\n",
              "      <td>Spain Primera Division</td>\n",
              "      <td>2021-05-22T16:00:00.000Z</td>\n",
              "      <td>win</td>\n",
              "      <td>2</td>\n",
              "      <td>1</td>\n",
              "      <td>0.0 - 0.0 - 0.0 - 0.0 - 0.0 - 0.0 - 0.0 - 0.25...</td>\n",
              "      <td>0.0 - 0.25 - 0.25 - 0.0 - 0.25 - 0.0 - 0.25 - ...</td>\n",
              "      <td>1.25 - 0.5 - 1.0 - 1.5 - 3.75 - 0.75 - 1.75 - ...</td>\n",
              "      <td>...</td>\n",
              "      <td>0.0 - 2.5 - 3.5 - 2.25 - 2.75 - 10.0 - 4.5 - 2...</td>\n",
              "      <td>0.0 - 1.25 - 1.0 - 0.5 - 0.25 - 2.25 - 1.0 - 0...</td>\n",
              "      <td>0.0 - 0.5 - 0.0 - 1.0 - 0.25 - 0.75 - 1.5 - 0....</td>\n",
              "      <td>5.25 - 0.0 - 0.0 - 0.0 - 0.0 - 0.0 - 0.0 - 0.0...</td>\n",
              "      <td>6.25 - 0.0 - 0.0 - 0.0 - 0.0 - 0.0 - 0.0 - 0.0...</td>\n",
              "      <td>0.0 - 0.0 - 0.0 - 0.0 - 0.0 - 0.0 - 0.0 - 0.0 ...</td>\n",
              "      <td>0.25 - 0.0 - 0.0 - 0.0 - 0.0 - 0.0 - 0.0 - 0.0...</td>\n",
              "      <td>2.25 - 0.0 - 0.0 - 0.0 - 0.0 - 0.0 - 0.0 - 0.0...</td>\n",
              "      <td>2.75 - 0.0 - 0.0 - 0.0 - 0.0 - 0.0 - 0.0 - 0.0...</td>\n",
              "      <td>0074aca0bc12614b3f47bc770421e7a25d1537424fd53a...</td>\n",
              "    </tr>\n",
              "    <tr>\n",
              "      <th>4003</th>\n",
              "      <td>Huesca</td>\n",
              "      <td>Valencia CF</td>\n",
              "      <td>Spain Primera Division</td>\n",
              "      <td>2021-05-22T16:00:00.000Z</td>\n",
              "      <td>tie</td>\n",
              "      <td>0</td>\n",
              "      <td>0</td>\n",
              "      <td>0.0 - 0.25 - 0.0 - 0.0 - 0.0 - 0.0 - 0.0 - 0.0...</td>\n",
              "      <td>0.0 - 0.0 - 0.0 - 0.25 - 0.0 - 0.5 - 0.0 - 0.0...</td>\n",
              "      <td>0.25 - 4.0 - 1.5 - 3.0 - 0.25 - 0.0 - 2.25 - 1...</td>\n",
              "      <td>...</td>\n",
              "      <td>0.0 - 0.75 - 6.25 - 1.25 - 3.75 - 2.5 - 4.0 - ...</td>\n",
              "      <td>0.0 - 0.0 - 0.75 - 0.25 - 2.75 - 1.5 - 0.25 - ...</td>\n",
              "      <td>0.0 - 0.25 - 1.25 - 0.0 - 0.0 - 0.25 - 0.5 - 0...</td>\n",
              "      <td>4.75 - 0.0 - 0.0 - 0.0 - 0.0 - 0.0 - 0.0 - 0.0...</td>\n",
              "      <td>3.25 - 0.0 - 0.0 - 0.0 - 0.0 - 0.0 - 0.0 - 0.0...</td>\n",
              "      <td>0.25 - 0.0 - 0.0 - 0.0 - 0.0 - 0.0 - 0.0 - 0.0...</td>\n",
              "      <td>0.5 - 0.0 - 0.0 - 0.0 - 0.0 - 0.0 - 0.0 - 0.0 ...</td>\n",
              "      <td>4.0 - 0.0 - 0.0 - 0.0 - 0.0 - 0.0 - 0.0 - 0.0 ...</td>\n",
              "      <td>4.0 - 0.0 - 0.0 - 0.0 - 0.0 - 0.0 - 0.0 - 0.0 ...</td>\n",
              "      <td>38ccde8c2673201f05b8d1de80e8560d034484166a764d...</td>\n",
              "    </tr>\n",
              "  </tbody>\n",
              "</table>\n",
              "<p>4004 rows × 92 columns</p>\n",
              "</div>\n",
              "      <button class=\"colab-df-convert\" onclick=\"convertToInteractive('df-37397137-7ef8-4fa9-8455-12b4fe806242')\"\n",
              "              title=\"Convert this dataframe to an interactive table.\"\n",
              "              style=\"display:none;\">\n",
              "        \n",
              "  <svg xmlns=\"http://www.w3.org/2000/svg\" height=\"24px\"viewBox=\"0 0 24 24\"\n",
              "       width=\"24px\">\n",
              "    <path d=\"M0 0h24v24H0V0z\" fill=\"none\"/>\n",
              "    <path d=\"M18.56 5.44l.94 2.06.94-2.06 2.06-.94-2.06-.94-.94-2.06-.94 2.06-2.06.94zm-11 1L8.5 8.5l.94-2.06 2.06-.94-2.06-.94L8.5 2.5l-.94 2.06-2.06.94zm10 10l.94 2.06.94-2.06 2.06-.94-2.06-.94-.94-2.06-.94 2.06-2.06.94z\"/><path d=\"M17.41 7.96l-1.37-1.37c-.4-.4-.92-.59-1.43-.59-.52 0-1.04.2-1.43.59L10.3 9.45l-7.72 7.72c-.78.78-.78 2.05 0 2.83L4 21.41c.39.39.9.59 1.41.59.51 0 1.02-.2 1.41-.59l7.78-7.78 2.81-2.81c.8-.78.8-2.07 0-2.86zM5.41 20L4 18.59l7.72-7.72 1.47 1.35L5.41 20z\"/>\n",
              "  </svg>\n",
              "      </button>\n",
              "      \n",
              "  <style>\n",
              "    .colab-df-container {\n",
              "      display:flex;\n",
              "      flex-wrap:wrap;\n",
              "      gap: 12px;\n",
              "    }\n",
              "\n",
              "    .colab-df-convert {\n",
              "      background-color: #E8F0FE;\n",
              "      border: none;\n",
              "      border-radius: 50%;\n",
              "      cursor: pointer;\n",
              "      display: none;\n",
              "      fill: #1967D2;\n",
              "      height: 32px;\n",
              "      padding: 0 0 0 0;\n",
              "      width: 32px;\n",
              "    }\n",
              "\n",
              "    .colab-df-convert:hover {\n",
              "      background-color: #E2EBFA;\n",
              "      box-shadow: 0px 1px 2px rgba(60, 64, 67, 0.3), 0px 1px 3px 1px rgba(60, 64, 67, 0.15);\n",
              "      fill: #174EA6;\n",
              "    }\n",
              "\n",
              "    [theme=dark] .colab-df-convert {\n",
              "      background-color: #3B4455;\n",
              "      fill: #D2E3FC;\n",
              "    }\n",
              "\n",
              "    [theme=dark] .colab-df-convert:hover {\n",
              "      background-color: #434B5C;\n",
              "      box-shadow: 0px 1px 3px 1px rgba(0, 0, 0, 0.15);\n",
              "      filter: drop-shadow(0px 1px 2px rgba(0, 0, 0, 0.3));\n",
              "      fill: #FFFFFF;\n",
              "    }\n",
              "  </style>\n",
              "\n",
              "      <script>\n",
              "        const buttonEl =\n",
              "          document.querySelector('#df-37397137-7ef8-4fa9-8455-12b4fe806242 button.colab-df-convert');\n",
              "        buttonEl.style.display =\n",
              "          google.colab.kernel.accessAllowed ? 'block' : 'none';\n",
              "\n",
              "        async function convertToInteractive(key) {\n",
              "          const element = document.querySelector('#df-37397137-7ef8-4fa9-8455-12b4fe806242');\n",
              "          const dataTable =\n",
              "            await google.colab.kernel.invokeFunction('convertToInteractive',\n",
              "                                                     [key], {});\n",
              "          if (!dataTable) return;\n",
              "\n",
              "          const docLinkHtml = 'Like what you see? Visit the ' +\n",
              "            '<a target=\"_blank\" href=https://colab.research.google.com/notebooks/data_table.ipynb>data table notebook</a>'\n",
              "            + ' to learn more about interactive tables.';\n",
              "          element.innerHTML = '';\n",
              "          dataTable['output_type'] = 'display_data';\n",
              "          await google.colab.output.renderOutput(dataTable, element);\n",
              "          const docLink = document.createElement('div');\n",
              "          docLink.innerHTML = docLinkHtml;\n",
              "          element.appendChild(docLink);\n",
              "        }\n",
              "      </script>\n",
              "    </div>\n",
              "  </div>\n",
              "  "
            ]
          },
          "metadata": {},
          "execution_count": 52
        }
      ]
    },
    {
      "cell_type": "code",
      "source": [
        "\n"
      ],
      "metadata": {
        "id": "Xh7-hXl0V7Hk"
      },
      "execution_count": null,
      "outputs": []
    },
    {
      "cell_type": "code",
      "source": [
        "feature_types = [\n",
        " 'agg_postGame_error', 'agg_postGame_clearance',\n",
        "  'agg_postGame_index', 'vg_rating', 'potential',\n",
        "  'market_value', 'age_days', 'xppm', 'xgpm', 'agg_postGame_shots',\n",
        "  'agg_postGame_shots_on_target', 'agg_postGame_shots_left_foot',\n",
        "  'agg_postGame_shots_right_foot', 'agg_postGame_shots_head',\n",
        "  'agg_postGame_shots_other', 'agg_postGame_goals',\n",
        "  'agg_postGame_goals_left_foot', 'agg_postGame_goals_right_foot',\n",
        "  'agg_postGame_goals_head', 'agg_postGame_goals_other',\n",
        "  'agg_postGame_xG', 'agg_postGame_cross', 'agg_postGame_cross_success',\n",
        "  'agg_postGame_pass', 'agg_postGame_pass_success',\n",
        "  'agg_postGame_pass_final_third',\n",
        "  'agg_postGame_pass_final_third_success', 'agg_postGame_pass_forward',\n",
        "  'agg_postGame_pass_forward_success', 'agg_postGame_dribble',\n",
        "  'agg_postGame_dribble_success', 'agg_postGame_tackle',\n",
        "  'agg_postGame_tackle_success', 'agg_postGame_interception',\n",
        "  'agg_postGame_challenge', 'agg_postGame_ball_recovery',\n",
        "  'agg_postGame_ball_lost', 'agg_postGame_key_pass',\n",
        "  'agg_postGame_pickUp', 'agg_postGame_punch', 'agg_postGame_save']\n",
        "sep = ' - '\n",
        "corrupt = []\n",
        "for f_type in feature_types:\n",
        "  home_column = f'home_{f_type}'\n",
        "  away_column = f'away_{f_type}'\n",
        "  home_feature = agg_feat_matches_players[home_column].values.astype('str')\n",
        "  away_feature = agg_feat_matches_players[away_column].values.astype('str')\n",
        "  home_feature = np.char.split(home_feature, sep)\n",
        "  away_feature = np.char.split(away_feature, sep)\n",
        "\n",
        "  home_condition = np.array(list(map(len, home_feature)))\n",
        "  away_condition = np.array(list(map(len, away_feature)))\n",
        "  # print(np.unique(np.concatenate(\n",
        "  #     (np.argwhere(home_condition != 11), np.argwhere(away_condition != 11))\n",
        "  # )).shape)\n",
        "  # print(np.argwhere(home_condition != 11).shape)\n",
        "  # print(np.argwhere(away_condition != 11).shape)\n",
        "  # print(f_type)\n",
        "  corrupt.append(np.argwhere(home_condition != 11))\n",
        "  corrupt.append(np.argwhere(away_condition != 11))\n",
        "\n",
        "from itertools import chain\n",
        "corrupt_indcs = np.unique(np.array(list(chain.from_iterable(list(map(lambda z: z.reshape(-1).tolist(), corrupt))))))\n",
        "\n",
        "dataset = agg_feat_matches_players.drop(corrupt_indcs).reset_index()\n",
        "dataset"
      ],
      "metadata": {
        "id": "J9bnfYY8VpCr",
        "colab": {
          "base_uri": "https://localhost:8080/"
        },
        "outputId": "7d2b00a4-3636-433f-cb56-666c3fa15911"
      },
      "execution_count": null,
      "outputs": [
        {
          "output_type": "execute_result",
          "data": {
            "text/plain": [
              "      index            home_team     away_team                  league  \\\n",
              "0         0  Queens Park Rangers  Bristol City    England Championship   \n",
              "1         1     Rotherham United     Hull City    England Championship   \n",
              "2         2         Derby County  Ipswich Town    England Championship   \n",
              "3         3         Swansea City  Leeds United    England Championship   \n",
              "4         4          Aston Villa     Brentford    England Championship   \n",
              "...     ...                  ...           ...                     ...   \n",
              "2459   3999          Valencia CF         Eibar  Spain Primera Division   \n",
              "2460   4000                Cádiz         Elche  Spain Primera Division   \n",
              "2461   4001              Levante         Cádiz  Spain Primera Division   \n",
              "2462   4002          Real Madrid    Villarreal  Spain Primera Division   \n",
              "2463   4003               Huesca   Valencia CF  Spain Primera Division   \n",
              "\n",
              "                          date result  home_goal  away_goal  \\\n",
              "0     2018-08-21T18:45:00.000Z   loss          0          3   \n",
              "1     2018-08-21T18:45:00.000Z   loss          2          3   \n",
              "2     2018-08-21T18:45:00.000Z    win          2          0   \n",
              "3     2018-08-21T18:45:00.000Z    tie          2          2   \n",
              "4     2018-08-22T18:45:00.000Z    tie          2          2   \n",
              "...                        ...    ...        ...        ...   \n",
              "2459  2021-05-16T16:30:00.000Z    win          4          1   \n",
              "2460  2021-05-16T16:30:00.000Z   loss          1          3   \n",
              "2461  2021-05-21T19:00:00.000Z    tie          2          2   \n",
              "2462  2021-05-22T16:00:00.000Z    win          2          1   \n",
              "2463  2021-05-22T16:00:00.000Z    tie          0          0   \n",
              "\n",
              "                                home_agg_postGame_error  \\\n",
              "0     0.0 - 0.0 - 0.0 - 0.0 - 0.0 - 0.0 - 0.0 - 0.0 ...   \n",
              "1     0.0 - 0.0 - 0.0 - 0.0 - 0.0 - 0.0 - 0.0 - 0.0 ...   \n",
              "2     0.0 - 0.0 - 0.0 - 0.0 - 0.0 - 0.0 - 0.0 - 0.0 ...   \n",
              "3     0.0 - 0.0 - 0.0 - 0.0 - 0.0 - 0.0 - 0.0 - 0.0 ...   \n",
              "4     0.0 - 0.0 - 0.0 - 0.0 - 0.0 - 0.0 - 0.0 - 0.0 ...   \n",
              "...                                                 ...   \n",
              "2459  0.5 - 0.0 - 0.25 - 0.0 - 0.0 - 0.25 - 0.0 - 0....   \n",
              "2460  0.0 - 0.0 - 0.0 - 0.0 - 0.0 - 0.0 - 0.0 - 0.0 ...   \n",
              "2461  0.0 - 0.0 - 0.0 - 0.0 - 0.0 - 0.0 - 0.0 - 0.25...   \n",
              "2462  0.0 - 0.0 - 0.0 - 0.0 - 0.0 - 0.0 - 0.0 - 0.25...   \n",
              "2463  0.0 - 0.25 - 0.0 - 0.0 - 0.0 - 0.0 - 0.0 - 0.0...   \n",
              "\n",
              "                                away_agg_postGame_error  ...  \\\n",
              "0     0.0 - 0.0 - 0.0 - 0.0 - 0.0 - 0.0 - 0.0 - 0.0 ...  ...   \n",
              "1     0.0 - 0.0 - 0.0 - 0.0 - 0.0 - 0.0 - 0.0 - 0.0 ...  ...   \n",
              "2     0.0 - 0.0 - 0.0 - 0.0 - 0.0 - 0.0 - 0.0 - 0.0 ...  ...   \n",
              "3     0.0 - 0.0 - 0.0 - 0.0 - 0.0 - 0.0 - 0.0 - 0.0 ...  ...   \n",
              "4     0.0 - 0.0 - 0.0 - 0.0 - 0.0 - 0.0 - 0.0 - 0.0 ...  ...   \n",
              "...                                                 ...  ...   \n",
              "2459  0.0 - 0.0 - 0.0 - 0.0 - 0.0 - 0.0 - 0.0 - 0.0 ...  ...   \n",
              "2460  0.0 - 0.0 - 0.0 - 0.0 - 0.0 - 0.0 - 0.0 - 0.25...  ...   \n",
              "2461  0.0 - 0.0 - 0.0 - 0.0 - 0.0 - 0.25 - 0.0 - 0.5...  ...   \n",
              "2462  0.0 - 0.25 - 0.25 - 0.0 - 0.25 - 0.0 - 0.25 - ...  ...   \n",
              "2463  0.0 - 0.0 - 0.0 - 0.25 - 0.0 - 0.5 - 0.0 - 0.0...  ...   \n",
              "\n",
              "                            away_agg_postGame_ball_lost  \\\n",
              "0     0.0 - 0.0 - 0.0 - 0.0 - 0.0 - 0.0 - 0.0 - 0.0 ...   \n",
              "1     0.0 - 0.0 - 0.0 - 0.0 - 0.0 - 0.0 - 0.0 - 0.0 ...   \n",
              "2     0.0 - 0.0 - 0.0 - 0.0 - 0.0 - 0.0 - 0.0 - 0.0 ...   \n",
              "3     0.0 - 0.0 - 0.0 - 0.0 - 0.0 - 0.0 - 0.0 - 0.0 ...   \n",
              "4     0.0 - 0.0 - 0.0 - 0.0 - 0.0 - 0.0 - 0.0 - 0.0 ...   \n",
              "...                                                 ...   \n",
              "2459  0.0 - 3.5 - 9.0 - 2.5 - 2.25 - 4.0 - 6.6666666...   \n",
              "2460  0.0 - 2.75 - 8.5 - 7.5 - 3.5 - 1.5 - 11.75 - 1...   \n",
              "2461  0.0 - 3.75 - 5.0 - 4.0 - 2.0 - 3.75 - 2.75 - 4...   \n",
              "2462  0.0 - 2.5 - 3.5 - 2.25 - 2.75 - 10.0 - 4.5 - 2...   \n",
              "2463  0.0 - 0.75 - 6.25 - 1.25 - 3.75 - 2.5 - 4.0 - ...   \n",
              "\n",
              "                             home_agg_postGame_key_pass  \\\n",
              "0     0.0 - 0.0 - 0.0 - 0.0 - 0.0 - 0.0 - 0.0 - 0.0 ...   \n",
              "1     0.0 - 0.0 - 0.0 - 0.0 - 0.0 - 0.0 - 0.0 - 0.0 ...   \n",
              "2     0.0 - 0.0 - 0.0 - 0.0 - 0.0 - 0.0 - 0.0 - 0.0 ...   \n",
              "3     0.0 - 0.0 - 0.0 - 0.0 - 0.0 - 0.0 - 0.0 - 0.0 ...   \n",
              "4     0.0 - 0.0 - 0.0 - 0.0 - 0.0 - 0.0 - 0.0 - 0.0 ...   \n",
              "...                                                 ...   \n",
              "2459  0.0 - 0.5 - 0.75 - 0.25 - 1.75 - 0.0 - 0.0 - 0...   \n",
              "2460  0.0 - 0.25 - 0.333333333333333 - 0.75 - 0.25 -...   \n",
              "2461  0.0 - 0.25 - 0.25 - 0.75 - 0.0 - 0.5 - 0.5 - 0...   \n",
              "2462  0.0 - 1.25 - 1.0 - 0.5 - 0.25 - 2.25 - 1.0 - 0...   \n",
              "2463  0.0 - 0.0 - 0.75 - 0.25 - 2.75 - 1.5 - 0.25 - ...   \n",
              "\n",
              "                             away_agg_postGame_key_pass  \\\n",
              "0     0.0 - 0.0 - 0.0 - 0.0 - 0.0 - 0.0 - 0.0 - 0.0 ...   \n",
              "1     0.0 - 0.0 - 0.0 - 0.0 - 0.0 - 0.0 - 0.0 - 0.0 ...   \n",
              "2     0.0 - 0.0 - 0.0 - 0.0 - 0.0 - 0.0 - 0.0 - 0.0 ...   \n",
              "3     0.0 - 0.0 - 0.0 - 0.0 - 0.0 - 0.0 - 0.0 - 0.0 ...   \n",
              "4     0.0 - 0.0 - 0.0 - 0.0 - 0.0 - 0.0 - 0.0 - 0.0 ...   \n",
              "...                                                 ...   \n",
              "2459  0.0 - 0.5 - 0.5 - 0.0 - 0.0 - 2.0 - 0.33333333...   \n",
              "2460  0.0 - 0.5 - 0.25 - 1.75 - 0.25 - 0.0 - 0.25 - ...   \n",
              "2461  0.0 - 1.25 - 0.0 - 0.5 - 0.0 - 0.0 - 0.75 - 1....   \n",
              "2462  0.0 - 0.5 - 0.0 - 1.0 - 0.25 - 0.75 - 1.5 - 0....   \n",
              "2463  0.0 - 0.25 - 1.25 - 0.0 - 0.0 - 0.25 - 0.5 - 0...   \n",
              "\n",
              "                               home_agg_postGame_pickUp  \\\n",
              "0     0.0 - 0.0 - 0.0 - 0.0 - 0.0 - 0.0 - 0.0 - 0.0 ...   \n",
              "1     0.0 - 0.0 - 0.0 - 0.0 - 0.0 - 0.0 - 0.0 - 0.0 ...   \n",
              "2     0.0 - 0.0 - 0.0 - 0.0 - 0.0 - 0.0 - 0.0 - 0.0 ...   \n",
              "3     0.0 - 0.0 - 0.0 - 0.0 - 0.0 - 0.0 - 0.0 - 0.0 ...   \n",
              "4     0.0 - 0.0 - 0.0 - 0.0 - 0.0 - 0.0 - 0.0 - 0.0 ...   \n",
              "...                                                 ...   \n",
              "2459  3.5 - 0.0 - 0.0 - 0.0 - 0.0 - 0.0 - 0.0 - 0.0 ...   \n",
              "2460  8.0 - 0.0 - 0.0 - 0.0 - 0.0 - 0.0 - 0.0 - 0.0 ...   \n",
              "2461  3.66666666666667 - 0.0 - 0.0 - 0.0 - 0.0 - 0.0...   \n",
              "2462  5.25 - 0.0 - 0.0 - 0.0 - 0.0 - 0.0 - 0.0 - 0.0...   \n",
              "2463  4.75 - 0.0 - 0.0 - 0.0 - 0.0 - 0.0 - 0.0 - 0.0...   \n",
              "\n",
              "                               away_agg_postGame_pickUp  \\\n",
              "0     0.0 - 0.0 - 0.0 - 0.0 - 0.0 - 0.0 - 0.0 - 0.0 ...   \n",
              "1     0.0 - 0.0 - 0.0 - 0.0 - 0.0 - 0.0 - 0.0 - 0.0 ...   \n",
              "2     0.0 - 0.0 - 0.0 - 0.0 - 0.0 - 0.0 - 0.0 - 0.0 ...   \n",
              "3     0.0 - 0.0 - 0.0 - 0.0 - 0.0 - 0.0 - 0.0 - 0.0 ...   \n",
              "4     0.0 - 0.0 - 0.0 - 0.0 - 0.0 - 0.0 - 0.0 - 0.0 ...   \n",
              "...                                                 ...   \n",
              "2459  7.0 - 0.0 - 0.0 - 0.0 - 0.0 - 0.0 - 0.0 - 0.0 ...   \n",
              "2460  6.5 - 0.0 - 0.0 - 0.0 - 0.0 - 0.0 - 0.0 - 0.0 ...   \n",
              "2461  6.5 - 0.0 - 0.0 - 0.0 - 0.0 - 0.0 - 0.0 - 0.0 ...   \n",
              "2462  6.25 - 0.0 - 0.0 - 0.0 - 0.0 - 0.0 - 0.0 - 0.0...   \n",
              "2463  3.25 - 0.0 - 0.0 - 0.0 - 0.0 - 0.0 - 0.0 - 0.0...   \n",
              "\n",
              "                                home_agg_postGame_punch  \\\n",
              "0     0.0 - 0.0 - 0.0 - 0.0 - 0.0 - 0.0 - 0.0 - 0.0 ...   \n",
              "1     0.0 - 0.0 - 0.0 - 0.0 - 0.0 - 0.0 - 0.0 - 0.0 ...   \n",
              "2     0.0 - 0.0 - 0.0 - 0.0 - 0.0 - 0.0 - 0.0 - 0.0 ...   \n",
              "3     0.0 - 0.0 - 0.0 - 0.0 - 0.0 - 0.0 - 0.0 - 0.0 ...   \n",
              "4     0.0 - 0.0 - 0.0 - 0.0 - 0.0 - 0.0 - 0.0 - 0.0 ...   \n",
              "...                                                 ...   \n",
              "2459  0.25 - 0.0 - 0.0 - 0.0 - 0.0 - 0.0 - 0.0 - 0.0...   \n",
              "2460  0.0 - 0.0 - 0.0 - 0.0 - 0.0 - 0.0 - 0.0 - 0.0 ...   \n",
              "2461  0.666666666666667 - 0.0 - 0.0 - 0.0 - 0.0 - 0....   \n",
              "2462  0.0 - 0.0 - 0.0 - 0.0 - 0.0 - 0.0 - 0.0 - 0.0 ...   \n",
              "2463  0.25 - 0.0 - 0.0 - 0.0 - 0.0 - 0.0 - 0.0 - 0.0...   \n",
              "\n",
              "                                away_agg_postGame_punch  \\\n",
              "0     0.0 - 0.0 - 0.0 - 0.0 - 0.0 - 0.0 - 0.0 - 0.0 ...   \n",
              "1     0.0 - 0.0 - 0.0 - 0.0 - 0.0 - 0.0 - 0.0 - 0.0 ...   \n",
              "2     0.0 - 0.0 - 0.0 - 0.0 - 0.0 - 0.0 - 0.0 - 0.0 ...   \n",
              "3     0.0 - 0.0 - 0.0 - 0.0 - 0.0 - 0.0 - 0.0 - 0.0 ...   \n",
              "4     0.0 - 0.0 - 0.0 - 0.0 - 0.0 - 0.0 - 0.0 - 0.0 ...   \n",
              "...                                                 ...   \n",
              "2459  0.0 - 0.0 - 0.0 - 0.0 - 0.0 - 0.0 - 0.0 - 0.0 ...   \n",
              "2460  0.0 - 0.0 - 0.0 - 0.0 - 0.0 - 0.0 - 0.0 - 0.0 ...   \n",
              "2461  1.0 - 0.0 - 0.0 - 0.0 - 0.0 - 0.0 - 0.0 - 0.0 ...   \n",
              "2462  0.25 - 0.0 - 0.0 - 0.0 - 0.0 - 0.0 - 0.0 - 0.0...   \n",
              "2463  0.5 - 0.0 - 0.0 - 0.0 - 0.0 - 0.0 - 0.0 - 0.0 ...   \n",
              "\n",
              "                                 home_agg_postGame_save  \\\n",
              "0     0.0 - 0.0 - 0.0 - 0.0 - 0.0 - 0.0 - 0.0 - 0.0 ...   \n",
              "1     0.0 - 0.0 - 0.0 - 0.0 - 0.0 - 0.0 - 0.0 - 0.0 ...   \n",
              "2     0.0 - 0.0 - 0.0 - 0.0 - 0.0 - 0.0 - 0.0 - 0.0 ...   \n",
              "3     0.0 - 0.0 - 0.0 - 0.0 - 0.0 - 0.0 - 0.0 - 0.0 ...   \n",
              "4     0.0 - 0.0 - 0.0 - 0.0 - 0.0 - 0.0 - 0.0 - 0.0 ...   \n",
              "...                                                 ...   \n",
              "2459  3.75 - 0.0 - 0.0 - 0.0 - 0.0 - 0.0 - 0.0 - 0.0...   \n",
              "2460  1.0 - 0.0 - 0.0 - 0.0 - 0.0 - 0.0 - 0.0 - 0.0 ...   \n",
              "2461  2.66666666666667 - 0.0 - 0.0 - 0.0 - 0.0 - 0.0...   \n",
              "2462  2.25 - 0.0 - 0.0 - 0.0 - 0.0 - 0.0 - 0.0 - 0.0...   \n",
              "2463  4.0 - 0.0 - 0.0 - 0.0 - 0.0 - 0.0 - 0.0 - 0.0 ...   \n",
              "\n",
              "                                 away_agg_postGame_save  \\\n",
              "0     0.0 - 0.0 - 0.0 - 0.0 - 0.0 - 0.0 - 0.0 - 0.0 ...   \n",
              "1     0.0 - 0.0 - 0.0 - 0.0 - 0.0 - 0.0 - 0.0 - 0.0 ...   \n",
              "2     0.0 - 0.0 - 0.0 - 0.0 - 0.0 - 0.0 - 0.0 - 0.0 ...   \n",
              "3     0.0 - 0.0 - 0.0 - 0.0 - 0.0 - 0.0 - 0.0 - 0.0 ...   \n",
              "4     0.0 - 0.0 - 0.0 - 0.0 - 0.0 - 0.0 - 0.0 - 0.0 ...   \n",
              "...                                                 ...   \n",
              "2459  2.0 - 0.0 - 0.0 - 0.0 - 0.0 - 0.0 - 0.0 - 0.0 ...   \n",
              "2460  1.25 - 0.0 - 0.0 - 0.0 - 0.0 - 0.0 - 0.0 - 0.0...   \n",
              "2461  1.5 - 0.0 - 0.0 - 0.0 - 0.0 - 0.0 - 0.0 - 0.0 ...   \n",
              "2462  2.75 - 0.0 - 0.0 - 0.0 - 0.0 - 0.0 - 0.0 - 0.0...   \n",
              "2463  4.0 - 0.0 - 0.0 - 0.0 - 0.0 - 0.0 - 0.0 - 0.0 ...   \n",
              "\n",
              "                                                 gameId  \n",
              "0     3a604f5616b39eb17fc8d1eed07d5248e387bf400294b2...  \n",
              "1     58b1242154c8055252582229abfc4680460278834c4433...  \n",
              "2     c0c48eee0b1a42e0d84cb0a947fe2c64f9e1aa7015922f...  \n",
              "3     d0cc49c3230e300b529b270951b3b70b3224481add8354...  \n",
              "4     174dba7291174b4dbbfa9ea12dd944bb45bdd8ed905524...  \n",
              "...                                                 ...  \n",
              "2459  c6cfcf8d8f019088926eb0b48fa4b5309a4176e6e3003d...  \n",
              "2460  e465fbafec023f3e0c991b1860bd9f763bdd36b152d6c6...  \n",
              "2461  0dd5f2b145867283932a47fb03be7b9bc56d89f8250ece...  \n",
              "2462  0074aca0bc12614b3f47bc770421e7a25d1537424fd53a...  \n",
              "2463  38ccde8c2673201f05b8d1de80e8560d034484166a764d...  \n",
              "\n",
              "[2464 rows x 93 columns]"
            ],
            "text/html": [
              "\n",
              "  <div id=\"df-3227e1d7-631b-482b-961f-c4209ee83336\">\n",
              "    <div class=\"colab-df-container\">\n",
              "      <div>\n",
              "<style scoped>\n",
              "    .dataframe tbody tr th:only-of-type {\n",
              "        vertical-align: middle;\n",
              "    }\n",
              "\n",
              "    .dataframe tbody tr th {\n",
              "        vertical-align: top;\n",
              "    }\n",
              "\n",
              "    .dataframe thead th {\n",
              "        text-align: right;\n",
              "    }\n",
              "</style>\n",
              "<table border=\"1\" class=\"dataframe\">\n",
              "  <thead>\n",
              "    <tr style=\"text-align: right;\">\n",
              "      <th></th>\n",
              "      <th>index</th>\n",
              "      <th>home_team</th>\n",
              "      <th>away_team</th>\n",
              "      <th>league</th>\n",
              "      <th>date</th>\n",
              "      <th>result</th>\n",
              "      <th>home_goal</th>\n",
              "      <th>away_goal</th>\n",
              "      <th>home_agg_postGame_error</th>\n",
              "      <th>away_agg_postGame_error</th>\n",
              "      <th>...</th>\n",
              "      <th>away_agg_postGame_ball_lost</th>\n",
              "      <th>home_agg_postGame_key_pass</th>\n",
              "      <th>away_agg_postGame_key_pass</th>\n",
              "      <th>home_agg_postGame_pickUp</th>\n",
              "      <th>away_agg_postGame_pickUp</th>\n",
              "      <th>home_agg_postGame_punch</th>\n",
              "      <th>away_agg_postGame_punch</th>\n",
              "      <th>home_agg_postGame_save</th>\n",
              "      <th>away_agg_postGame_save</th>\n",
              "      <th>gameId</th>\n",
              "    </tr>\n",
              "  </thead>\n",
              "  <tbody>\n",
              "    <tr>\n",
              "      <th>0</th>\n",
              "      <td>0</td>\n",
              "      <td>Queens Park Rangers</td>\n",
              "      <td>Bristol City</td>\n",
              "      <td>England Championship</td>\n",
              "      <td>2018-08-21T18:45:00.000Z</td>\n",
              "      <td>loss</td>\n",
              "      <td>0</td>\n",
              "      <td>3</td>\n",
              "      <td>0.0 - 0.0 - 0.0 - 0.0 - 0.0 - 0.0 - 0.0 - 0.0 ...</td>\n",
              "      <td>0.0 - 0.0 - 0.0 - 0.0 - 0.0 - 0.0 - 0.0 - 0.0 ...</td>\n",
              "      <td>...</td>\n",
              "      <td>0.0 - 0.0 - 0.0 - 0.0 - 0.0 - 0.0 - 0.0 - 0.0 ...</td>\n",
              "      <td>0.0 - 0.0 - 0.0 - 0.0 - 0.0 - 0.0 - 0.0 - 0.0 ...</td>\n",
              "      <td>0.0 - 0.0 - 0.0 - 0.0 - 0.0 - 0.0 - 0.0 - 0.0 ...</td>\n",
              "      <td>0.0 - 0.0 - 0.0 - 0.0 - 0.0 - 0.0 - 0.0 - 0.0 ...</td>\n",
              "      <td>0.0 - 0.0 - 0.0 - 0.0 - 0.0 - 0.0 - 0.0 - 0.0 ...</td>\n",
              "      <td>0.0 - 0.0 - 0.0 - 0.0 - 0.0 - 0.0 - 0.0 - 0.0 ...</td>\n",
              "      <td>0.0 - 0.0 - 0.0 - 0.0 - 0.0 - 0.0 - 0.0 - 0.0 ...</td>\n",
              "      <td>0.0 - 0.0 - 0.0 - 0.0 - 0.0 - 0.0 - 0.0 - 0.0 ...</td>\n",
              "      <td>0.0 - 0.0 - 0.0 - 0.0 - 0.0 - 0.0 - 0.0 - 0.0 ...</td>\n",
              "      <td>3a604f5616b39eb17fc8d1eed07d5248e387bf400294b2...</td>\n",
              "    </tr>\n",
              "    <tr>\n",
              "      <th>1</th>\n",
              "      <td>1</td>\n",
              "      <td>Rotherham United</td>\n",
              "      <td>Hull City</td>\n",
              "      <td>England Championship</td>\n",
              "      <td>2018-08-21T18:45:00.000Z</td>\n",
              "      <td>loss</td>\n",
              "      <td>2</td>\n",
              "      <td>3</td>\n",
              "      <td>0.0 - 0.0 - 0.0 - 0.0 - 0.0 - 0.0 - 0.0 - 0.0 ...</td>\n",
              "      <td>0.0 - 0.0 - 0.0 - 0.0 - 0.0 - 0.0 - 0.0 - 0.0 ...</td>\n",
              "      <td>...</td>\n",
              "      <td>0.0 - 0.0 - 0.0 - 0.0 - 0.0 - 0.0 - 0.0 - 0.0 ...</td>\n",
              "      <td>0.0 - 0.0 - 0.0 - 0.0 - 0.0 - 0.0 - 0.0 - 0.0 ...</td>\n",
              "      <td>0.0 - 0.0 - 0.0 - 0.0 - 0.0 - 0.0 - 0.0 - 0.0 ...</td>\n",
              "      <td>0.0 - 0.0 - 0.0 - 0.0 - 0.0 - 0.0 - 0.0 - 0.0 ...</td>\n",
              "      <td>0.0 - 0.0 - 0.0 - 0.0 - 0.0 - 0.0 - 0.0 - 0.0 ...</td>\n",
              "      <td>0.0 - 0.0 - 0.0 - 0.0 - 0.0 - 0.0 - 0.0 - 0.0 ...</td>\n",
              "      <td>0.0 - 0.0 - 0.0 - 0.0 - 0.0 - 0.0 - 0.0 - 0.0 ...</td>\n",
              "      <td>0.0 - 0.0 - 0.0 - 0.0 - 0.0 - 0.0 - 0.0 - 0.0 ...</td>\n",
              "      <td>0.0 - 0.0 - 0.0 - 0.0 - 0.0 - 0.0 - 0.0 - 0.0 ...</td>\n",
              "      <td>58b1242154c8055252582229abfc4680460278834c4433...</td>\n",
              "    </tr>\n",
              "    <tr>\n",
              "      <th>2</th>\n",
              "      <td>2</td>\n",
              "      <td>Derby County</td>\n",
              "      <td>Ipswich Town</td>\n",
              "      <td>England Championship</td>\n",
              "      <td>2018-08-21T18:45:00.000Z</td>\n",
              "      <td>win</td>\n",
              "      <td>2</td>\n",
              "      <td>0</td>\n",
              "      <td>0.0 - 0.0 - 0.0 - 0.0 - 0.0 - 0.0 - 0.0 - 0.0 ...</td>\n",
              "      <td>0.0 - 0.0 - 0.0 - 0.0 - 0.0 - 0.0 - 0.0 - 0.0 ...</td>\n",
              "      <td>...</td>\n",
              "      <td>0.0 - 0.0 - 0.0 - 0.0 - 0.0 - 0.0 - 0.0 - 0.0 ...</td>\n",
              "      <td>0.0 - 0.0 - 0.0 - 0.0 - 0.0 - 0.0 - 0.0 - 0.0 ...</td>\n",
              "      <td>0.0 - 0.0 - 0.0 - 0.0 - 0.0 - 0.0 - 0.0 - 0.0 ...</td>\n",
              "      <td>0.0 - 0.0 - 0.0 - 0.0 - 0.0 - 0.0 - 0.0 - 0.0 ...</td>\n",
              "      <td>0.0 - 0.0 - 0.0 - 0.0 - 0.0 - 0.0 - 0.0 - 0.0 ...</td>\n",
              "      <td>0.0 - 0.0 - 0.0 - 0.0 - 0.0 - 0.0 - 0.0 - 0.0 ...</td>\n",
              "      <td>0.0 - 0.0 - 0.0 - 0.0 - 0.0 - 0.0 - 0.0 - 0.0 ...</td>\n",
              "      <td>0.0 - 0.0 - 0.0 - 0.0 - 0.0 - 0.0 - 0.0 - 0.0 ...</td>\n",
              "      <td>0.0 - 0.0 - 0.0 - 0.0 - 0.0 - 0.0 - 0.0 - 0.0 ...</td>\n",
              "      <td>c0c48eee0b1a42e0d84cb0a947fe2c64f9e1aa7015922f...</td>\n",
              "    </tr>\n",
              "    <tr>\n",
              "      <th>3</th>\n",
              "      <td>3</td>\n",
              "      <td>Swansea City</td>\n",
              "      <td>Leeds United</td>\n",
              "      <td>England Championship</td>\n",
              "      <td>2018-08-21T18:45:00.000Z</td>\n",
              "      <td>tie</td>\n",
              "      <td>2</td>\n",
              "      <td>2</td>\n",
              "      <td>0.0 - 0.0 - 0.0 - 0.0 - 0.0 - 0.0 - 0.0 - 0.0 ...</td>\n",
              "      <td>0.0 - 0.0 - 0.0 - 0.0 - 0.0 - 0.0 - 0.0 - 0.0 ...</td>\n",
              "      <td>...</td>\n",
              "      <td>0.0 - 0.0 - 0.0 - 0.0 - 0.0 - 0.0 - 0.0 - 0.0 ...</td>\n",
              "      <td>0.0 - 0.0 - 0.0 - 0.0 - 0.0 - 0.0 - 0.0 - 0.0 ...</td>\n",
              "      <td>0.0 - 0.0 - 0.0 - 0.0 - 0.0 - 0.0 - 0.0 - 0.0 ...</td>\n",
              "      <td>0.0 - 0.0 - 0.0 - 0.0 - 0.0 - 0.0 - 0.0 - 0.0 ...</td>\n",
              "      <td>0.0 - 0.0 - 0.0 - 0.0 - 0.0 - 0.0 - 0.0 - 0.0 ...</td>\n",
              "      <td>0.0 - 0.0 - 0.0 - 0.0 - 0.0 - 0.0 - 0.0 - 0.0 ...</td>\n",
              "      <td>0.0 - 0.0 - 0.0 - 0.0 - 0.0 - 0.0 - 0.0 - 0.0 ...</td>\n",
              "      <td>0.0 - 0.0 - 0.0 - 0.0 - 0.0 - 0.0 - 0.0 - 0.0 ...</td>\n",
              "      <td>0.0 - 0.0 - 0.0 - 0.0 - 0.0 - 0.0 - 0.0 - 0.0 ...</td>\n",
              "      <td>d0cc49c3230e300b529b270951b3b70b3224481add8354...</td>\n",
              "    </tr>\n",
              "    <tr>\n",
              "      <th>4</th>\n",
              "      <td>4</td>\n",
              "      <td>Aston Villa</td>\n",
              "      <td>Brentford</td>\n",
              "      <td>England Championship</td>\n",
              "      <td>2018-08-22T18:45:00.000Z</td>\n",
              "      <td>tie</td>\n",
              "      <td>2</td>\n",
              "      <td>2</td>\n",
              "      <td>0.0 - 0.0 - 0.0 - 0.0 - 0.0 - 0.0 - 0.0 - 0.0 ...</td>\n",
              "      <td>0.0 - 0.0 - 0.0 - 0.0 - 0.0 - 0.0 - 0.0 - 0.0 ...</td>\n",
              "      <td>...</td>\n",
              "      <td>0.0 - 0.0 - 0.0 - 0.0 - 0.0 - 0.0 - 0.0 - 0.0 ...</td>\n",
              "      <td>0.0 - 0.0 - 0.0 - 0.0 - 0.0 - 0.0 - 0.0 - 0.0 ...</td>\n",
              "      <td>0.0 - 0.0 - 0.0 - 0.0 - 0.0 - 0.0 - 0.0 - 0.0 ...</td>\n",
              "      <td>0.0 - 0.0 - 0.0 - 0.0 - 0.0 - 0.0 - 0.0 - 0.0 ...</td>\n",
              "      <td>0.0 - 0.0 - 0.0 - 0.0 - 0.0 - 0.0 - 0.0 - 0.0 ...</td>\n",
              "      <td>0.0 - 0.0 - 0.0 - 0.0 - 0.0 - 0.0 - 0.0 - 0.0 ...</td>\n",
              "      <td>0.0 - 0.0 - 0.0 - 0.0 - 0.0 - 0.0 - 0.0 - 0.0 ...</td>\n",
              "      <td>0.0 - 0.0 - 0.0 - 0.0 - 0.0 - 0.0 - 0.0 - 0.0 ...</td>\n",
              "      <td>0.0 - 0.0 - 0.0 - 0.0 - 0.0 - 0.0 - 0.0 - 0.0 ...</td>\n",
              "      <td>174dba7291174b4dbbfa9ea12dd944bb45bdd8ed905524...</td>\n",
              "    </tr>\n",
              "    <tr>\n",
              "      <th>...</th>\n",
              "      <td>...</td>\n",
              "      <td>...</td>\n",
              "      <td>...</td>\n",
              "      <td>...</td>\n",
              "      <td>...</td>\n",
              "      <td>...</td>\n",
              "      <td>...</td>\n",
              "      <td>...</td>\n",
              "      <td>...</td>\n",
              "      <td>...</td>\n",
              "      <td>...</td>\n",
              "      <td>...</td>\n",
              "      <td>...</td>\n",
              "      <td>...</td>\n",
              "      <td>...</td>\n",
              "      <td>...</td>\n",
              "      <td>...</td>\n",
              "      <td>...</td>\n",
              "      <td>...</td>\n",
              "      <td>...</td>\n",
              "      <td>...</td>\n",
              "    </tr>\n",
              "    <tr>\n",
              "      <th>2459</th>\n",
              "      <td>3999</td>\n",
              "      <td>Valencia CF</td>\n",
              "      <td>Eibar</td>\n",
              "      <td>Spain Primera Division</td>\n",
              "      <td>2021-05-16T16:30:00.000Z</td>\n",
              "      <td>win</td>\n",
              "      <td>4</td>\n",
              "      <td>1</td>\n",
              "      <td>0.5 - 0.0 - 0.25 - 0.0 - 0.0 - 0.25 - 0.0 - 0....</td>\n",
              "      <td>0.0 - 0.0 - 0.0 - 0.0 - 0.0 - 0.0 - 0.0 - 0.0 ...</td>\n",
              "      <td>...</td>\n",
              "      <td>0.0 - 3.5 - 9.0 - 2.5 - 2.25 - 4.0 - 6.6666666...</td>\n",
              "      <td>0.0 - 0.5 - 0.75 - 0.25 - 1.75 - 0.0 - 0.0 - 0...</td>\n",
              "      <td>0.0 - 0.5 - 0.5 - 0.0 - 0.0 - 2.0 - 0.33333333...</td>\n",
              "      <td>3.5 - 0.0 - 0.0 - 0.0 - 0.0 - 0.0 - 0.0 - 0.0 ...</td>\n",
              "      <td>7.0 - 0.0 - 0.0 - 0.0 - 0.0 - 0.0 - 0.0 - 0.0 ...</td>\n",
              "      <td>0.25 - 0.0 - 0.0 - 0.0 - 0.0 - 0.0 - 0.0 - 0.0...</td>\n",
              "      <td>0.0 - 0.0 - 0.0 - 0.0 - 0.0 - 0.0 - 0.0 - 0.0 ...</td>\n",
              "      <td>3.75 - 0.0 - 0.0 - 0.0 - 0.0 - 0.0 - 0.0 - 0.0...</td>\n",
              "      <td>2.0 - 0.0 - 0.0 - 0.0 - 0.0 - 0.0 - 0.0 - 0.0 ...</td>\n",
              "      <td>c6cfcf8d8f019088926eb0b48fa4b5309a4176e6e3003d...</td>\n",
              "    </tr>\n",
              "    <tr>\n",
              "      <th>2460</th>\n",
              "      <td>4000</td>\n",
              "      <td>Cádiz</td>\n",
              "      <td>Elche</td>\n",
              "      <td>Spain Primera Division</td>\n",
              "      <td>2021-05-16T16:30:00.000Z</td>\n",
              "      <td>loss</td>\n",
              "      <td>1</td>\n",
              "      <td>3</td>\n",
              "      <td>0.0 - 0.0 - 0.0 - 0.0 - 0.0 - 0.0 - 0.0 - 0.0 ...</td>\n",
              "      <td>0.0 - 0.0 - 0.0 - 0.0 - 0.0 - 0.0 - 0.0 - 0.25...</td>\n",
              "      <td>...</td>\n",
              "      <td>0.0 - 2.75 - 8.5 - 7.5 - 3.5 - 1.5 - 11.75 - 1...</td>\n",
              "      <td>0.0 - 0.25 - 0.333333333333333 - 0.75 - 0.25 -...</td>\n",
              "      <td>0.0 - 0.5 - 0.25 - 1.75 - 0.25 - 0.0 - 0.25 - ...</td>\n",
              "      <td>8.0 - 0.0 - 0.0 - 0.0 - 0.0 - 0.0 - 0.0 - 0.0 ...</td>\n",
              "      <td>6.5 - 0.0 - 0.0 - 0.0 - 0.0 - 0.0 - 0.0 - 0.0 ...</td>\n",
              "      <td>0.0 - 0.0 - 0.0 - 0.0 - 0.0 - 0.0 - 0.0 - 0.0 ...</td>\n",
              "      <td>0.0 - 0.0 - 0.0 - 0.0 - 0.0 - 0.0 - 0.0 - 0.0 ...</td>\n",
              "      <td>1.0 - 0.0 - 0.0 - 0.0 - 0.0 - 0.0 - 0.0 - 0.0 ...</td>\n",
              "      <td>1.25 - 0.0 - 0.0 - 0.0 - 0.0 - 0.0 - 0.0 - 0.0...</td>\n",
              "      <td>e465fbafec023f3e0c991b1860bd9f763bdd36b152d6c6...</td>\n",
              "    </tr>\n",
              "    <tr>\n",
              "      <th>2461</th>\n",
              "      <td>4001</td>\n",
              "      <td>Levante</td>\n",
              "      <td>Cádiz</td>\n",
              "      <td>Spain Primera Division</td>\n",
              "      <td>2021-05-21T19:00:00.000Z</td>\n",
              "      <td>tie</td>\n",
              "      <td>2</td>\n",
              "      <td>2</td>\n",
              "      <td>0.0 - 0.0 - 0.0 - 0.0 - 0.0 - 0.0 - 0.0 - 0.25...</td>\n",
              "      <td>0.0 - 0.0 - 0.0 - 0.0 - 0.0 - 0.25 - 0.0 - 0.5...</td>\n",
              "      <td>...</td>\n",
              "      <td>0.0 - 3.75 - 5.0 - 4.0 - 2.0 - 3.75 - 2.75 - 4...</td>\n",
              "      <td>0.0 - 0.25 - 0.25 - 0.75 - 0.0 - 0.5 - 0.5 - 0...</td>\n",
              "      <td>0.0 - 1.25 - 0.0 - 0.5 - 0.0 - 0.0 - 0.75 - 1....</td>\n",
              "      <td>3.66666666666667 - 0.0 - 0.0 - 0.0 - 0.0 - 0.0...</td>\n",
              "      <td>6.5 - 0.0 - 0.0 - 0.0 - 0.0 - 0.0 - 0.0 - 0.0 ...</td>\n",
              "      <td>0.666666666666667 - 0.0 - 0.0 - 0.0 - 0.0 - 0....</td>\n",
              "      <td>1.0 - 0.0 - 0.0 - 0.0 - 0.0 - 0.0 - 0.0 - 0.0 ...</td>\n",
              "      <td>2.66666666666667 - 0.0 - 0.0 - 0.0 - 0.0 - 0.0...</td>\n",
              "      <td>1.5 - 0.0 - 0.0 - 0.0 - 0.0 - 0.0 - 0.0 - 0.0 ...</td>\n",
              "      <td>0dd5f2b145867283932a47fb03be7b9bc56d89f8250ece...</td>\n",
              "    </tr>\n",
              "    <tr>\n",
              "      <th>2462</th>\n",
              "      <td>4002</td>\n",
              "      <td>Real Madrid</td>\n",
              "      <td>Villarreal</td>\n",
              "      <td>Spain Primera Division</td>\n",
              "      <td>2021-05-22T16:00:00.000Z</td>\n",
              "      <td>win</td>\n",
              "      <td>2</td>\n",
              "      <td>1</td>\n",
              "      <td>0.0 - 0.0 - 0.0 - 0.0 - 0.0 - 0.0 - 0.0 - 0.25...</td>\n",
              "      <td>0.0 - 0.25 - 0.25 - 0.0 - 0.25 - 0.0 - 0.25 - ...</td>\n",
              "      <td>...</td>\n",
              "      <td>0.0 - 2.5 - 3.5 - 2.25 - 2.75 - 10.0 - 4.5 - 2...</td>\n",
              "      <td>0.0 - 1.25 - 1.0 - 0.5 - 0.25 - 2.25 - 1.0 - 0...</td>\n",
              "      <td>0.0 - 0.5 - 0.0 - 1.0 - 0.25 - 0.75 - 1.5 - 0....</td>\n",
              "      <td>5.25 - 0.0 - 0.0 - 0.0 - 0.0 - 0.0 - 0.0 - 0.0...</td>\n",
              "      <td>6.25 - 0.0 - 0.0 - 0.0 - 0.0 - 0.0 - 0.0 - 0.0...</td>\n",
              "      <td>0.0 - 0.0 - 0.0 - 0.0 - 0.0 - 0.0 - 0.0 - 0.0 ...</td>\n",
              "      <td>0.25 - 0.0 - 0.0 - 0.0 - 0.0 - 0.0 - 0.0 - 0.0...</td>\n",
              "      <td>2.25 - 0.0 - 0.0 - 0.0 - 0.0 - 0.0 - 0.0 - 0.0...</td>\n",
              "      <td>2.75 - 0.0 - 0.0 - 0.0 - 0.0 - 0.0 - 0.0 - 0.0...</td>\n",
              "      <td>0074aca0bc12614b3f47bc770421e7a25d1537424fd53a...</td>\n",
              "    </tr>\n",
              "    <tr>\n",
              "      <th>2463</th>\n",
              "      <td>4003</td>\n",
              "      <td>Huesca</td>\n",
              "      <td>Valencia CF</td>\n",
              "      <td>Spain Primera Division</td>\n",
              "      <td>2021-05-22T16:00:00.000Z</td>\n",
              "      <td>tie</td>\n",
              "      <td>0</td>\n",
              "      <td>0</td>\n",
              "      <td>0.0 - 0.25 - 0.0 - 0.0 - 0.0 - 0.0 - 0.0 - 0.0...</td>\n",
              "      <td>0.0 - 0.0 - 0.0 - 0.25 - 0.0 - 0.5 - 0.0 - 0.0...</td>\n",
              "      <td>...</td>\n",
              "      <td>0.0 - 0.75 - 6.25 - 1.25 - 3.75 - 2.5 - 4.0 - ...</td>\n",
              "      <td>0.0 - 0.0 - 0.75 - 0.25 - 2.75 - 1.5 - 0.25 - ...</td>\n",
              "      <td>0.0 - 0.25 - 1.25 - 0.0 - 0.0 - 0.25 - 0.5 - 0...</td>\n",
              "      <td>4.75 - 0.0 - 0.0 - 0.0 - 0.0 - 0.0 - 0.0 - 0.0...</td>\n",
              "      <td>3.25 - 0.0 - 0.0 - 0.0 - 0.0 - 0.0 - 0.0 - 0.0...</td>\n",
              "      <td>0.25 - 0.0 - 0.0 - 0.0 - 0.0 - 0.0 - 0.0 - 0.0...</td>\n",
              "      <td>0.5 - 0.0 - 0.0 - 0.0 - 0.0 - 0.0 - 0.0 - 0.0 ...</td>\n",
              "      <td>4.0 - 0.0 - 0.0 - 0.0 - 0.0 - 0.0 - 0.0 - 0.0 ...</td>\n",
              "      <td>4.0 - 0.0 - 0.0 - 0.0 - 0.0 - 0.0 - 0.0 - 0.0 ...</td>\n",
              "      <td>38ccde8c2673201f05b8d1de80e8560d034484166a764d...</td>\n",
              "    </tr>\n",
              "  </tbody>\n",
              "</table>\n",
              "<p>2464 rows × 93 columns</p>\n",
              "</div>\n",
              "      <button class=\"colab-df-convert\" onclick=\"convertToInteractive('df-3227e1d7-631b-482b-961f-c4209ee83336')\"\n",
              "              title=\"Convert this dataframe to an interactive table.\"\n",
              "              style=\"display:none;\">\n",
              "        \n",
              "  <svg xmlns=\"http://www.w3.org/2000/svg\" height=\"24px\"viewBox=\"0 0 24 24\"\n",
              "       width=\"24px\">\n",
              "    <path d=\"M0 0h24v24H0V0z\" fill=\"none\"/>\n",
              "    <path d=\"M18.56 5.44l.94 2.06.94-2.06 2.06-.94-2.06-.94-.94-2.06-.94 2.06-2.06.94zm-11 1L8.5 8.5l.94-2.06 2.06-.94-2.06-.94L8.5 2.5l-.94 2.06-2.06.94zm10 10l.94 2.06.94-2.06 2.06-.94-2.06-.94-.94-2.06-.94 2.06-2.06.94z\"/><path d=\"M17.41 7.96l-1.37-1.37c-.4-.4-.92-.59-1.43-.59-.52 0-1.04.2-1.43.59L10.3 9.45l-7.72 7.72c-.78.78-.78 2.05 0 2.83L4 21.41c.39.39.9.59 1.41.59.51 0 1.02-.2 1.41-.59l7.78-7.78 2.81-2.81c.8-.78.8-2.07 0-2.86zM5.41 20L4 18.59l7.72-7.72 1.47 1.35L5.41 20z\"/>\n",
              "  </svg>\n",
              "      </button>\n",
              "      \n",
              "  <style>\n",
              "    .colab-df-container {\n",
              "      display:flex;\n",
              "      flex-wrap:wrap;\n",
              "      gap: 12px;\n",
              "    }\n",
              "\n",
              "    .colab-df-convert {\n",
              "      background-color: #E8F0FE;\n",
              "      border: none;\n",
              "      border-radius: 50%;\n",
              "      cursor: pointer;\n",
              "      display: none;\n",
              "      fill: #1967D2;\n",
              "      height: 32px;\n",
              "      padding: 0 0 0 0;\n",
              "      width: 32px;\n",
              "    }\n",
              "\n",
              "    .colab-df-convert:hover {\n",
              "      background-color: #E2EBFA;\n",
              "      box-shadow: 0px 1px 2px rgba(60, 64, 67, 0.3), 0px 1px 3px 1px rgba(60, 64, 67, 0.15);\n",
              "      fill: #174EA6;\n",
              "    }\n",
              "\n",
              "    [theme=dark] .colab-df-convert {\n",
              "      background-color: #3B4455;\n",
              "      fill: #D2E3FC;\n",
              "    }\n",
              "\n",
              "    [theme=dark] .colab-df-convert:hover {\n",
              "      background-color: #434B5C;\n",
              "      box-shadow: 0px 1px 3px 1px rgba(0, 0, 0, 0.15);\n",
              "      filter: drop-shadow(0px 1px 2px rgba(0, 0, 0, 0.3));\n",
              "      fill: #FFFFFF;\n",
              "    }\n",
              "  </style>\n",
              "\n",
              "      <script>\n",
              "        const buttonEl =\n",
              "          document.querySelector('#df-3227e1d7-631b-482b-961f-c4209ee83336 button.colab-df-convert');\n",
              "        buttonEl.style.display =\n",
              "          google.colab.kernel.accessAllowed ? 'block' : 'none';\n",
              "\n",
              "        async function convertToInteractive(key) {\n",
              "          const element = document.querySelector('#df-3227e1d7-631b-482b-961f-c4209ee83336');\n",
              "          const dataTable =\n",
              "            await google.colab.kernel.invokeFunction('convertToInteractive',\n",
              "                                                     [key], {});\n",
              "          if (!dataTable) return;\n",
              "\n",
              "          const docLinkHtml = 'Like what you see? Visit the ' +\n",
              "            '<a target=\"_blank\" href=https://colab.research.google.com/notebooks/data_table.ipynb>data table notebook</a>'\n",
              "            + ' to learn more about interactive tables.';\n",
              "          element.innerHTML = '';\n",
              "          dataTable['output_type'] = 'display_data';\n",
              "          await google.colab.output.renderOutput(dataTable, element);\n",
              "          const docLink = document.createElement('div');\n",
              "          docLink.innerHTML = docLinkHtml;\n",
              "          element.appendChild(docLink);\n",
              "        }\n",
              "      </script>\n",
              "    </div>\n",
              "  </div>\n",
              "  "
            ]
          },
          "metadata": {},
          "execution_count": 53
        }
      ]
    },
    {
      "cell_type": "code",
      "source": [
        "dataset.to_csv('./dataset_lineup_agg_box_score_features.csv')"
      ],
      "metadata": {
        "id": "uDxkFR6IXSVy"
      },
      "execution_count": null,
      "outputs": []
    },
    {
      "cell_type": "markdown",
      "source": [
        "# Models"
      ],
      "metadata": {
        "id": "aN6z-QY--v2w"
      }
    },
    {
      "cell_type": "code",
      "source": [
        "def train(model, home, away, results, optimizer, criterion):\n",
        "  model.train()\n",
        "  optimizer.zero_grad()\n",
        "  output = model(home, away)\n",
        "  loss = criterion(output, results)\n",
        "  loss.backward()\n",
        "  optimizer.step() \n",
        "  return loss.item()\n",
        "\n",
        "\n",
        "@torch.no_grad()\n",
        "def eval(model, home, away, results):\n",
        "  model.eval()\n",
        "  output = model(home, away).argmax(-1)\n",
        "  correct = (output == results).sum().item()\n",
        "  return (correct / results.shape[0])"
      ],
      "metadata": {
        "id": "bfwkUMajEon_"
      },
      "execution_count": null,
      "outputs": []
    },
    {
      "cell_type": "markdown",
      "source": [
        "## Blade Chest Model"
      ],
      "metadata": {
        "id": "ESTOv5gikuHS"
      }
    },
    {
      "cell_type": "code",
      "source": [
        "from torch.nn import Module, Linear, NLLLoss, Tanh, BatchNorm1d, Dropout, LogSoftmax, PairwiseDistance\n",
        "from torch.optim import Adam\n",
        "from torchsummary import summary"
      ],
      "metadata": {
        "id": "b1XGzB-7kxha"
      },
      "execution_count": null,
      "outputs": []
    },
    {
      "cell_type": "code",
      "source": [
        "class BladeChest(Module):\n",
        "  def __init__(self, feature_size, hidden_size, dropout_rate=0.5):\n",
        "    super(BladeChest, self).__init__()\n",
        "    self.feature_size = feature_size\n",
        "    self.hidden_size = hidden_size\n",
        "    self.blade_transfrom = Linear(self.feature_size, self.hidden_size)\n",
        "    self.chest_transform = Linear(self.feature_size, self.hidden_size)\n",
        "    self.activation = Tanh()\n",
        "    self.feature_bn = BatchNorm1d(self.feature_size)\n",
        "    self.hidden_bn = BatchNorm1d(self.hidden_size)\n",
        "    self.regularizer = Dropout(dropout_rate)\n",
        "    self.result_transform = Linear(1, 3)\n",
        "    self.distance_fn = PairwiseDistance()\n",
        "    self.classifier = LogSoftmax(-1)\n",
        "\n",
        "  def _matchup_score(self, away_blade, home_chest, home_blade, away_chest):\n",
        "    return self.distance_fn(away_blade, home_chest).pow(2) - self.distance_fn(home_chest, away_blade).pow(2)\n",
        "\n",
        "  def encode_team(self, x_team):\n",
        "    h_team = self.feature_bn(x_team)\n",
        "\n",
        "    team_blade = self.blade_transfrom(h_team)\n",
        "    team_blade = self.hidden_bn(team_blade)\n",
        "    team_blade = self.regularizer(team_blade)\n",
        "\n",
        "    team_chest = self.chest_transform(h_team)\n",
        "    team_chest = self.hidden_bn(team_chest)\n",
        "    team_chest = self.regularizer(team_chest)\n",
        "\n",
        "    return team_blade, team_chest\n",
        "\n",
        "  def forward(self, x_home, x_away):\n",
        "    home_blade, home_chest = self.encode_team(x_home)\n",
        "    away_blade, away_chest = self.encode_team(x_away)\n",
        "    h_home = self.feature_bn(x_home)\n",
        "    h_away = self.feature_bn(x_away)\n",
        "\n",
        "    matchup = self._matchup_score(away_blade, home_chest, home_blade, away_chest).view(-1, 1)\n",
        "    result_h = self.result_transform(matchup)\n",
        "    result_h = self.regularizer(result_h)\n",
        "\n",
        "    return self.classifier(result_h)"
      ],
      "metadata": {
        "id": "aNpqVc1mf41I"
      },
      "execution_count": null,
      "outputs": []
    },
    {
      "cell_type": "markdown",
      "source": [
        "## Set Agg Model"
      ],
      "metadata": {
        "id": "ZwkE5RB3PvqT"
      }
    },
    {
      "cell_type": "code",
      "source": [
        "import torch\n",
        "from torch.nn import Module, Linear, NLLLoss, Tanh, BatchNorm1d, Dropout, LogSoftmax, PairwiseDistance, Conv1d, ReLU, ModuleList\n",
        "from torch.optim import Adam"
      ],
      "metadata": {
        "id": "QCkvQ2kEQ86o"
      },
      "execution_count": null,
      "outputs": []
    },
    {
      "cell_type": "code",
      "source": [
        "class SetAgg(Module):\n",
        "  def __init__(self, feature_size, player_hidden_size, team_hidden_size, class_hidden_size, dropout=0.4):\n",
        "    super(SetAgg, self).__init__()\n",
        "    self.dropout_rate = dropout\n",
        "    self.regularizer = Dropout(self.dropout_rate)\n",
        "    self.player_mlp_shape = [feature_size] + player_hidden_size\n",
        "    self.team_mlp_shape = [self.player_mlp_shape[-1]] + team_hidden_size\n",
        "    self.class_mlp_shape = [self.team_mlp_shape[-1] * 2] + class_hidden_size + [3]\n",
        "    player_mlp_list = [\n",
        "                      Conv1d(\n",
        "                          in_channels=self.player_mlp_shape[i], \n",
        "                          out_channels=self.player_mlp_shape[i+1], \n",
        "                          kernel_size=1)\n",
        "                      for i in range(len(self.player_mlp_shape[:-1]))\n",
        "                      ]\n",
        "    team_mlp_list = [\n",
        "                      Linear(self.team_mlp_shape[i], self.team_mlp_shape[i+1])\n",
        "                      for i in range(len(self.team_mlp_shape[:-1]))\n",
        "                    ]\n",
        "    class_mlp_list = [\n",
        "                      Linear(self.class_mlp_shape[i], self.class_mlp_shape[i+1])\n",
        "                      for i in range(len(self.class_mlp_shape[:-1]))\n",
        "                    ]\n",
        "    self.player_transform = ModuleList(player_mlp_list)\n",
        "    self.team_transform = ModuleList(team_mlp_list)\n",
        "    self.class_transform = ModuleList(class_mlp_list)\n",
        "    # self.class_bn = BatchNorm1d(3)\n",
        "    self.player_bn = ModuleList([\n",
        "            BatchNorm1d(i)\n",
        "            for i in self.player_mlp_shape\n",
        "    ])\n",
        "    self.team_bn = ModuleList([\n",
        "            BatchNorm1d(i)\n",
        "            for i in self.team_mlp_shape[1:]\n",
        "    ])\n",
        "    self.class_bn = ModuleList([\n",
        "            BatchNorm1d(i)\n",
        "            for i in self.class_mlp_shape[1:]\n",
        "    ])\n",
        "    self.activation = ReLU()\n",
        "    self.classifier = LogSoftmax(-1)\n",
        "\n",
        "  def encode_team(self, x_players):\n",
        "    # x_player is of shape N, C, L\n",
        "    h_players = self.player_bn[0](x_players)\n",
        "    for fc, bn in zip(self.player_transform, self.player_bn[1:]):\n",
        "      h_players = fc(h_players)\n",
        "      h_players = self.activation(h_players)\n",
        "      h_players = bn(h_players)\n",
        "      h_players = self.regularizer(h_players)\n",
        "    \n",
        "    h_team = h_players.sum(2)\n",
        "\n",
        "    for fc, bn in zip(self.team_transform, self.team_bn):\n",
        "      h_team = fc(h_team)\n",
        "      h_team = self.activation(h_team)\n",
        "      h_team = bn(h_team)\n",
        "      h_team = self.regularizer(h_team)\n",
        "\n",
        "    return h_team\n",
        "\n",
        "  def forward(self, x_home_players, x_away_players):\n",
        "    h_home = self.encode_team(x_home_players)\n",
        "    h_away = self.encode_team(x_away_players)\n",
        "\n",
        "    h = torch.cat((h_home, h_away), dim=1)\n",
        "    for fc, bn in zip(self.class_transform, self.class_bn):\n",
        "      h = fc(h)\n",
        "      h = self.activation(h)\n",
        "      h = bn(h)\n",
        "      h = self.regularizer(h)\n",
        "    # h = self.class_transform(h)\n",
        "    # h = self.regularizer(h)\n",
        "    return self.classifier(h)\n",
        "\n"
      ],
      "metadata": {
        "id": "kh-FgmAjQNly"
      },
      "execution_count": null,
      "outputs": []
    },
    {
      "cell_type": "code",
      "source": [
        "def train(model, home, away, results, optimizer, criterion):\n",
        "  model.train()\n",
        "  optimizer.zero_grad()\n",
        "  output = model(home, away)\n",
        "  loss = criterion(output, results)\n",
        "  loss.backward()\n",
        "  optimizer.step() \n",
        "  return loss.item()\n",
        "\n",
        "\n",
        "@torch.no_grad()\n",
        "def eval(model, home, away, results):\n",
        "  model.eval()\n",
        "  output = model(home, away).argmax(-1)\n",
        "  correct = (output == results).sum().item()\n",
        "  return (correct / results.shape[0])"
      ],
      "metadata": {
        "id": "TMcV2SxHdPtL"
      },
      "execution_count": null,
      "outputs": []
    },
    {
      "cell_type": "markdown",
      "source": [
        "# 4.Setup "
      ],
      "metadata": {
        "id": "EosAd3pM_Tq4"
      }
    },
    {
      "cell_type": "markdown",
      "source": [
        "## Part a"
      ],
      "metadata": {
        "id": "1pCxa7Cm_hKB"
      }
    },
    {
      "cell_type": "code",
      "source": [
        "from sklearn.model_selection import StratifiedKFold"
      ],
      "metadata": {
        "id": "nYX3BTC5u-kv"
      },
      "execution_count": null,
      "outputs": []
    },
    {
      "cell_type": "code",
      "source": [
        "cross_validation = StratifiedKFold(n_splits=5, shuffle=True)"
      ],
      "metadata": {
        "id": "GYvMtS57ESvE"
      },
      "execution_count": null,
      "outputs": []
    },
    {
      "cell_type": "markdown",
      "source": [
        "## Part b"
      ],
      "metadata": {
        "id": "uaCQivms_kSy"
      }
    },
    {
      "cell_type": "code",
      "source": [
        "class_weights = [1., 1., 1.]"
      ],
      "metadata": {
        "id": "AZEOWLKG_oiT"
      },
      "execution_count": null,
      "outputs": []
    },
    {
      "cell_type": "markdown",
      "source": [
        "## Part c"
      ],
      "metadata": {
        "id": "vaqquHlFABt8"
      }
    },
    {
      "cell_type": "code",
      "source": [
        "dataset = pd.read_csv('./dataset_lineup_agg_box_score_features.csv')\n",
        "\n",
        "gd = dataset.loc[:, ['home_goal']].values - dataset.loc[:, ['away_goal']].values\n",
        "dummy = 9\n",
        "gd[gd > 0] = dummy\n",
        "gd[gd == 0] = dummy + 1\n",
        "gd[gd < 0] = dummy + 2\n",
        "y = torch.from_numpy(gd - dummy).reshape(-1)\n",
        "\n",
        "(y == 2).double().mean(), (y == 1).double().mean(), (y == 0).double().mean()"
      ],
      "metadata": {
        "colab": {
          "base_uri": "https://localhost:8080/"
        },
        "id": "sc060Y05ADTY",
        "outputId": "56823a28-7b85-462c-cea2-9c469deca2d2"
      },
      "execution_count": null,
      "outputs": [
        {
          "output_type": "execute_result",
          "data": {
            "text/plain": [
              "(tensor(0.2942, dtype=torch.float64),\n",
              " tensor(0.2520, dtype=torch.float64),\n",
              " tensor(0.4537, dtype=torch.float64))"
            ]
          },
          "metadata": {},
          "execution_count": 64
        }
      ]
    },
    {
      "cell_type": "markdown",
      "source": [
        "A trivial model always predicting the home team winning has an accuracy of 45%"
      ],
      "metadata": {
        "id": "JRvCh6ZPAoSW"
      }
    },
    {
      "cell_type": "markdown",
      "source": [
        "# 5.Modeling"
      ],
      "metadata": {
        "id": "l408p8QKA9XJ"
      }
    },
    {
      "cell_type": "markdown",
      "source": [
        "## Part a"
      ],
      "metadata": {
        "id": "-PtvqGy9BH_6"
      }
    },
    {
      "cell_type": "markdown",
      "source": [
        "### Blade Chest Modeling"
      ],
      "metadata": {
        "id": "WYXylSZCDaad"
      }
    },
    {
      "cell_type": "code",
      "source": [
        "hidden_size = 256\n",
        "num_epochs = 50\n",
        "dropout_rate = 0.2\n",
        "lr = 1e-3"
      ],
      "metadata": {
        "id": "xdWLYYyUE-AL"
      },
      "execution_count": null,
      "outputs": []
    },
    {
      "cell_type": "code",
      "source": [
        "bc_hp = {\n",
        "    'num_epochs': num_epochs,\n",
        "    'dropout_rate': dropout_rate,\n",
        "    'lr': lr,\n",
        "    'hidden_size': hidden_size\n",
        "}"
      ],
      "metadata": {
        "id": "vLmGckoYMVYe"
      },
      "execution_count": null,
      "outputs": []
    },
    {
      "cell_type": "code",
      "source": [
        "bc_cv_split = tuple(cross_validation.split(bc_home_features.numpy(), bc_y.numpy()))"
      ],
      "metadata": {
        "id": "yyZVUDpDZnNE"
      },
      "execution_count": null,
      "outputs": []
    },
    {
      "cell_type": "code",
      "source": [
        "def train_bc(hyperparameters):\n",
        "  bc_folds_accs_train = []\n",
        "  bc_folds_accs_test = []\n",
        "  bc_folds_epoch_loss = []\n",
        "  batch_size = 16\n",
        "  for train_indcs, test_indcs in bc_cv_split:\n",
        "    feature_size = bc_home_features.shape[-1]\n",
        "    bc_model = BladeChest(\n",
        "                  feature_size, \n",
        "                  hyperparameters['hidden_size'], \n",
        "                  hyperparameters['dropout_rate']\n",
        "              ).double()\n",
        "    criterion = NLLLoss(weight=torch.tensor(class_weights)).double()\n",
        "    optimizer = Adam(bc_model.parameters(), lr=hyperparameters['lr'])\n",
        "    \n",
        "    train_home_features = bc_home_features[torch.from_numpy(train_indcs)]\n",
        "    train_away_features = bc_away_features[torch.from_numpy(train_indcs)]\n",
        "    train_y = bc_y[torch.from_numpy(train_indcs)]\n",
        "\n",
        "    test_home_features = bc_home_features[torch.from_numpy(test_indcs)]\n",
        "    test_away_features = bc_away_features[torch.from_numpy(test_indcs)]\n",
        "    test_y = bc_y[torch.from_numpy(test_indcs)]\n",
        "\n",
        "    fold_accs_train = []\n",
        "    fold_accs_test = []\n",
        "    fold_epoch_loss = []\n",
        "    for epoch in range(hyperparameters['num_epochs']):\n",
        "      epoch_loss = 0\n",
        "      for home, away, results in zip(\n",
        "          torch.split(train_home_features, split_size_or_sections=batch_size), \n",
        "          torch.split(train_away_features, split_size_or_sections=batch_size), \n",
        "          torch.split(train_y, split_size_or_sections=batch_size)\n",
        "      ):\n",
        "      \n",
        "        batch_loss = train(bc_model, home, away, results, optimizer, criterion)\n",
        "        epoch_loss += batch_loss\n",
        "      test_acc = eval(bc_model, test_home_features, test_away_features, test_y)\n",
        "      train_acc = eval(bc_model, train_home_features, train_away_features, train_y)\n",
        "      fold_accs_test.append(test_acc)\n",
        "      fold_accs_train.append(train_acc)\n",
        "      fold_epoch_loss.append(epoch_loss)\n",
        "\n",
        "    bc_folds_epoch_loss.append(fold_epoch_loss)\n",
        "    bc_folds_accs_train.append(fold_accs_train)\n",
        "    bc_folds_accs_test.append(fold_accs_test)\n",
        "  return bc_folds_epoch_loss, bc_folds_accs_train, bc_folds_accs_test"
      ],
      "metadata": {
        "id": "qZ6Fdn4yML7n"
      },
      "execution_count": null,
      "outputs": []
    },
    {
      "cell_type": "code",
      "source": [
        "bc_folds_epoch_loss, bc_folds_accs_train, bc_folds_accs_test = train_bc(bc_hp)"
      ],
      "metadata": {
        "id": "ZKyG1H7cNwWt"
      },
      "execution_count": null,
      "outputs": []
    },
    {
      "cell_type": "code",
      "source": [
        "np.array(bc_folds_accs_test)[:, -1].mean(), np.array(bc_folds_accs_test)[:, -1].std()"
      ],
      "metadata": {
        "colab": {
          "base_uri": "https://localhost:8080/"
        },
        "id": "UNg6exCsLOWz",
        "outputId": "d0277fd8-6996-4af2-9594-f2e25e9d9799"
      },
      "execution_count": null,
      "outputs": [
        {
          "output_type": "execute_result",
          "data": {
            "text/plain": [
              "(0.4930239780374717, 0.01246853986381451)"
            ]
          },
          "metadata": {},
          "execution_count": 79
        }
      ]
    },
    {
      "cell_type": "markdown",
      "source": [
        "### Set Agg Modeling"
      ],
      "metadata": {
        "id": "2KkPTsJjBNvq"
      }
    },
    {
      "cell_type": "code",
      "source": [
        "dataset = pd.read_csv('./dataset_lineup_agg_box_score_features.csv')\n",
        "\n",
        "# feature shapes are N, Cin, L where N is the number of games, Cin\n",
        "# is the input feature vector size and L is 11 for 11 players\n",
        "\n",
        "gd = dataset.loc[:, ['home_goal']].values - dataset.loc[:, ['away_goal']].values\n",
        "dummy = 9\n",
        "gd[gd > 0] = dummy\n",
        "gd[gd == 0] = dummy + 1\n",
        "gd[gd < 0] = dummy + 2\n",
        "y = torch.from_numpy(gd - dummy).reshape(-1)\n",
        "\n",
        "feature_types = [\n",
        " 'agg_postGame_error', 'agg_postGame_clearance',\n",
        "  'agg_postGame_index', 'vg_rating', 'potential',\n",
        "  'market_value', 'age_days', 'xppm', 'xgpm', 'agg_postGame_shots',\n",
        "  'agg_postGame_shots_on_target', 'agg_postGame_shots_left_foot',\n",
        "  'agg_postGame_shots_right_foot', 'agg_postGame_shots_head',\n",
        "  'agg_postGame_shots_other', 'agg_postGame_goals',\n",
        "  'agg_postGame_goals_left_foot', 'agg_postGame_goals_right_foot',\n",
        "  'agg_postGame_goals_head', 'agg_postGame_goals_other',\n",
        "  'agg_postGame_xG', 'agg_postGame_cross', 'agg_postGame_cross_success',\n",
        "  'agg_postGame_pass', 'agg_postGame_pass_success',\n",
        "  'agg_postGame_pass_final_third',\n",
        "  'agg_postGame_pass_final_third_success', 'agg_postGame_pass_forward',\n",
        "  'agg_postGame_pass_forward_success', 'agg_postGame_dribble',\n",
        "  'agg_postGame_dribble_success', 'agg_postGame_tackle',\n",
        "  'agg_postGame_tackle_success', 'agg_postGame_interception',\n",
        "  'agg_postGame_challenge', 'agg_postGame_ball_recovery',\n",
        "  'agg_postGame_ball_lost', 'agg_postGame_key_pass',\n",
        "  'agg_postGame_pickUp', 'agg_postGame_punch', 'agg_postGame_save']\n",
        "home_features = []\n",
        "away_features = []\n",
        "sep = ' - '\n",
        "for f_type in feature_types:\n",
        "  home_column = f'home_{f_type}'\n",
        "  away_column = f'away_{f_type}'\n",
        "  home_feature = dataset[home_column].values.astype('str')\n",
        "  away_feature = dataset[away_column].values.astype('str')\n",
        "\n",
        "  home_feature = np.stack(np.char.split(home_feature, sep)).astype(np.double)\n",
        "  away_feature = np.stack(np.char.split(away_feature, sep)).astype(np.double)\n",
        "  home_features.append(home_feature) \n",
        "  away_features.append(away_feature)\n",
        "\n",
        "home_features = np.stack(home_features)\n",
        "away_features = np.stack(away_features)\n",
        "away_features = np.moveaxis(away_features, 0, 1)\n",
        "home_features = np.moveaxis(home_features, 0, 1)\n",
        "away_features = torch.from_numpy(away_features)\n",
        "home_features = torch.from_numpy(home_features)"
      ],
      "metadata": {
        "id": "lIs_fomAyzQr"
      },
      "execution_count": null,
      "outputs": []
    },
    {
      "cell_type": "code",
      "source": [
        "batch_size = 32\n",
        "num_epochs = 15\n",
        "dropout_rate = 0.2\n",
        "player_hidden_sizes = [12, 10]\n",
        "team_hidden_sizes = [12, 8]\n",
        "lr = 1e-3\n",
        "ff_sizes = [6]"
      ],
      "metadata": {
        "id": "QMfPGKcKvG8M"
      },
      "execution_count": null,
      "outputs": []
    },
    {
      "cell_type": "code",
      "source": [
        "sa_hp = {\n",
        "    'num_epochs': num_epochs,\n",
        "    'dropout_rate': dropout_rate,\n",
        "    'lr': lr,\n",
        "    'player_hidden_sizes': player_hidden_sizes,\n",
        "    'team_hidden_sizes': team_hidden_sizes,\n",
        "    'ff_sizes': ff_sizes\n",
        "}"
      ],
      "metadata": {
        "id": "fj-vEzPwOQNq"
      },
      "execution_count": null,
      "outputs": []
    },
    {
      "cell_type": "code",
      "source": [
        "sa_cv_splits = tuple(cross_validation.split(home_features.numpy(), y.numpy()))"
      ],
      "metadata": {
        "id": "_a5G71xwZ0Pu"
      },
      "execution_count": null,
      "outputs": []
    },
    {
      "cell_type": "code",
      "source": [
        "def train_sa(hyperparameters):\n",
        "  sa_folds_accs_train = []\n",
        "  sa_folds_accs_test = []\n",
        "  sa_folds_epoch_loss = []\n",
        "  feature_size = home_features.shape[1]\n",
        "  for train_indcs, test_indcs in sa_cv_splits:\n",
        "    sa_model = SetAgg(\n",
        "        feature_size, \n",
        "        hyperparameters['player_hidden_sizes'], \n",
        "        hyperparameters['team_hidden_sizes'],\n",
        "        hyperparameters['ff_sizes'],  \n",
        "        hyperparameters['dropout_rate']).double()\n",
        "    ######################################\n",
        "    scaled_class_weight = torch.tensor([1., 1., 1.], dtype=torch.double)\n",
        "    #####################################\n",
        "    criterion = NLLLoss(scaled_class_weight)\n",
        "    optimizer = Adam(sa_model.parameters(), lr=hyperparameters['lr'], weight_decay=0)\n",
        "    \n",
        "    train_home_features = home_features[torch.from_numpy(train_indcs)]\n",
        "    train_away_features = away_features[torch.from_numpy(train_indcs)]\n",
        "    train_y = y[torch.from_numpy(train_indcs)]\n",
        "\n",
        "    test_home_features = home_features[torch.from_numpy(test_indcs)]\n",
        "    test_away_features = away_features[torch.from_numpy(test_indcs)]\n",
        "    test_y = y[torch.from_numpy(test_indcs)]\n",
        "\n",
        "    fold_accs_train = []\n",
        "    fold_accs_test = []\n",
        "    fold_epoch_loss = []\n",
        "    for epoch in range(hyperparameters['num_epochs']):\n",
        "      epoch_loss = 0\n",
        "      for home, away, results in zip(\n",
        "          torch.split(train_home_features, split_size_or_sections=batch_size), \n",
        "          torch.split(train_away_features, split_size_or_sections=batch_size), \n",
        "          torch.split(train_y, split_size_or_sections=batch_size)\n",
        "      ):\n",
        "      \n",
        "        batch_loss = train(sa_model, home, away, results, optimizer, criterion)\n",
        "        epoch_loss += batch_loss\n",
        "      test_acc = eval(sa_model, test_home_features, test_away_features, test_y)\n",
        "      train_acc = eval(sa_model, train_home_features, train_away_features, train_y)\n",
        "      fold_accs_test.append(test_acc)\n",
        "      fold_accs_train.append(train_acc)\n",
        "      fold_epoch_loss.append(epoch_loss)\n",
        "      # print(epoch_loss)\n",
        "    sa_folds_accs_train.append(fold_accs_train)\n",
        "    sa_folds_accs_test.append(fold_accs_test)\n",
        "    sa_folds_epoch_loss.append(fold_epoch_loss)\n",
        "  return sa_folds_epoch_loss, sa_folds_accs_train, sa_folds_accs_test"
      ],
      "metadata": {
        "id": "sPasBki7OoDV"
      },
      "execution_count": null,
      "outputs": []
    },
    {
      "cell_type": "code",
      "source": [
        "sa_folds_epoch_loss, sa_folds_accs_train, sa_folds_accs_test = train_sa(sa_hp)"
      ],
      "metadata": {
        "id": "JEB9iE2ZvjIh"
      },
      "execution_count": null,
      "outputs": []
    },
    {
      "cell_type": "markdown",
      "source": [
        "## Part b"
      ],
      "metadata": {
        "id": "H9raXGT0ICiV"
      }
    },
    {
      "cell_type": "code",
      "source": [
        "torch.tensor(sa_folds_accs_test)[:, -1].mean(), torch.tensor(bc_folds_accs_test)[:, -1].mean()"
      ],
      "metadata": {
        "colab": {
          "base_uri": "https://localhost:8080/"
        },
        "id": "bUEYv_7UJavg",
        "outputId": "d98892b8-bad8-446e-a7ea-7b7c2358f6b1"
      },
      "execution_count": null,
      "outputs": [
        {
          "output_type": "execute_result",
          "data": {
            "text/plain": [
              "(tensor(0.4890), tensor(0.4611))"
            ]
          },
          "metadata": {},
          "execution_count": 190
        }
      ]
    },
    {
      "cell_type": "markdown",
      "source": [
        "The trained models have higher than baseline accuracy scores across folds"
      ],
      "metadata": {
        "id": "87sHbYkkLgfs"
      }
    },
    {
      "cell_type": "markdown",
      "source": [
        "## Part c"
      ],
      "metadata": {
        "id": "_boz6OzJMGSx"
      }
    },
    {
      "cell_type": "code",
      "source": [
        "sa_hp"
      ],
      "metadata": {
        "colab": {
          "base_uri": "https://localhost:8080/"
        },
        "id": "lWb7x1EzMHvy",
        "outputId": "1333627f-fecc-408d-d383-cffe655b772a"
      },
      "execution_count": null,
      "outputs": [
        {
          "output_type": "execute_result",
          "data": {
            "text/plain": [
              "{'dropout_rate': 0.2,\n",
              " 'ff_sizes': [6],\n",
              " 'lr': 0.001,\n",
              " 'num_epochs': 15,\n",
              " 'player_hidden_sizes': [12, 10],\n",
              " 'team_hidden_sizes': [12, 8]}"
            ]
          },
          "metadata": {},
          "execution_count": 192
        }
      ]
    },
    {
      "cell_type": "code",
      "source": [
        "dropout_rate_list = [0, 0.25, 0.5]\n",
        "ff_sizes_list = [[6], [6, 6]]\n",
        "num_epochs_list = [15, 20]\n",
        "lr_list = [1e-3, 3e-3]\n",
        "player_hidden_sizes_list = [[8, 8], [10, 14]]\n",
        "team_hidden_sizes_list = [[8, 10], [14, 14]]"
      ],
      "metadata": {
        "id": "_Lasju_IRPMu"
      },
      "execution_count": null,
      "outputs": []
    },
    {
      "cell_type": "code",
      "source": [
        "from itertools import product"
      ],
      "metadata": {
        "id": "qTiPwWA1R1EM"
      },
      "execution_count": null,
      "outputs": []
    },
    {
      "cell_type": "code",
      "source": [
        "hp_test_accs = []\n",
        "hp_epoch_losses = []\n",
        "hp_train_accs = []\n",
        "hp_sa_models = []\n",
        "for hp in product(dropout_rate_list, ff_sizes_list, lr_list, num_epochs_list, player_hidden_sizes_list, team_hidden_sizes_list):\n",
        "  sa_hp = dict(\n",
        "      zip(\n",
        "          ('dropout_rate', 'ff_sizes', 'lr', 'num_epochs', 'player_hidden_sizes', 'team_hidden_sizes'), \n",
        "          hp\n",
        "      )\n",
        "  )\n",
        "  sa_folds_epoch_loss, sa_folds_accs_train, sa_folds_accs_test = train_sa(sa_hp)\n",
        "\n",
        "  hp_test_accs.append(sa_folds_accs_test)\n",
        "  hp_epoch_losses.append(sa_folds_epoch_loss)\n",
        "  hp_train_accs.append(sa_folds_accs_train)\n",
        "  # hp_sa_models.append(sa_model)\n",
        "  \n",
        "  print(sa_hp)\n",
        "  print(torch.tensor(sa_folds_accs_test)[:, -1].mean().item())\n",
        "  print('-' * 40)"
      ],
      "metadata": {
        "colab": {
          "base_uri": "https://localhost:8080/"
        },
        "id": "ruXI-ICtR-FN",
        "outputId": "42cfb33f-5dbd-4968-f49e-026f824f0221"
      },
      "execution_count": null,
      "outputs": [
        {
          "output_type": "stream",
          "name": "stdout",
          "text": [
            "{'dropout_rate': 0, 'ff_sizes': [6], 'lr': 0.001, 'num_epochs': 15, 'player_hidden_sizes': [8, 8], 'team_hidden_sizes': [8, 10]}\n",
            "0.4780759811401367\n",
            "----------------------------------------\n",
            "{'dropout_rate': 0, 'ff_sizes': [6], 'lr': 0.001, 'num_epochs': 15, 'player_hidden_sizes': [8, 8], 'team_hidden_sizes': [14, 14]}\n",
            "0.44765663146972656\n",
            "----------------------------------------\n",
            "{'dropout_rate': 0, 'ff_sizes': [6], 'lr': 0.001, 'num_epochs': 15, 'player_hidden_sizes': [10, 14], 'team_hidden_sizes': [8, 10]}\n",
            "0.4586009085178375\n",
            "----------------------------------------\n",
            "{'dropout_rate': 0, 'ff_sizes': [6], 'lr': 0.001, 'num_epochs': 15, 'player_hidden_sizes': [10, 14], 'team_hidden_sizes': [14, 14]}\n",
            "0.44400715827941895\n",
            "----------------------------------------\n",
            "{'dropout_rate': 0, 'ff_sizes': [6], 'lr': 0.001, 'num_epochs': 20, 'player_hidden_sizes': [8, 8], 'team_hidden_sizes': [8, 10]}\n",
            "0.46023431420326233\n",
            "----------------------------------------\n",
            "{'dropout_rate': 0, 'ff_sizes': [6], 'lr': 0.001, 'num_epochs': 20, 'player_hidden_sizes': [8, 8], 'team_hidden_sizes': [14, 14]}\n",
            "0.45940813422203064\n",
            "----------------------------------------\n",
            "{'dropout_rate': 0, 'ff_sizes': [6], 'lr': 0.001, 'num_epochs': 20, 'player_hidden_sizes': [10, 14], 'team_hidden_sizes': [8, 10]}\n",
            "0.45698803663253784\n",
            "----------------------------------------\n",
            "{'dropout_rate': 0, 'ff_sizes': [6], 'lr': 0.001, 'num_epochs': 20, 'player_hidden_sizes': [10, 14], 'team_hidden_sizes': [14, 14]}\n",
            "0.4468469023704529\n",
            "----------------------------------------\n",
            "{'dropout_rate': 0, 'ff_sizes': [6], 'lr': 0.003, 'num_epochs': 15, 'player_hidden_sizes': [8, 8], 'team_hidden_sizes': [8, 10]}\n",
            "0.48458418250083923\n",
            "----------------------------------------\n",
            "{'dropout_rate': 0, 'ff_sizes': [6], 'lr': 0.003, 'num_epochs': 15, 'player_hidden_sizes': [8, 8], 'team_hidden_sizes': [14, 14]}\n",
            "0.46185868978500366\n",
            "----------------------------------------\n",
            "{'dropout_rate': 0, 'ff_sizes': [6], 'lr': 0.003, 'num_epochs': 15, 'player_hidden_sizes': [10, 14], 'team_hidden_sizes': [8, 10]}\n",
            "0.4594130516052246\n",
            "----------------------------------------\n",
            "{'dropout_rate': 0, 'ff_sizes': [6], 'lr': 0.003, 'num_epochs': 15, 'player_hidden_sizes': [10, 14], 'team_hidden_sizes': [14, 14]}\n",
            "0.46429362893104553\n",
            "----------------------------------------\n",
            "{'dropout_rate': 0, 'ff_sizes': [6], 'lr': 0.003, 'num_epochs': 20, 'player_hidden_sizes': [8, 8], 'team_hidden_sizes': [8, 10]}\n",
            "0.48214349150657654\n",
            "----------------------------------------\n",
            "{'dropout_rate': 0, 'ff_sizes': [6], 'lr': 0.003, 'num_epochs': 20, 'player_hidden_sizes': [8, 8], 'team_hidden_sizes': [14, 14]}\n",
            "0.47604674100875854\n",
            "----------------------------------------\n",
            "{'dropout_rate': 0, 'ff_sizes': [6], 'lr': 0.003, 'num_epochs': 20, 'player_hidden_sizes': [10, 14], 'team_hidden_sizes': [8, 10]}\n",
            "0.47847920656204224\n",
            "----------------------------------------\n",
            "{'dropout_rate': 0, 'ff_sizes': [6], 'lr': 0.003, 'num_epochs': 20, 'player_hidden_sizes': [10, 14], 'team_hidden_sizes': [14, 14]}\n",
            "0.4557693898677826\n",
            "----------------------------------------\n",
            "{'dropout_rate': 0, 'ff_sizes': [6, 6], 'lr': 0.001, 'num_epochs': 15, 'player_hidden_sizes': [8, 8], 'team_hidden_sizes': [8, 10]}\n",
            "0.4464338421821594\n",
            "----------------------------------------\n",
            "{'dropout_rate': 0, 'ff_sizes': [6, 6], 'lr': 0.001, 'num_epochs': 15, 'player_hidden_sizes': [8, 8], 'team_hidden_sizes': [14, 14]}\n",
            "0.4525214731693268\n",
            "----------------------------------------\n",
            "{'dropout_rate': 0, 'ff_sizes': [6, 6], 'lr': 0.001, 'num_epochs': 15, 'player_hidden_sizes': [10, 14], 'team_hidden_sizes': [8, 10]}\n",
            "0.45251408219337463\n",
            "----------------------------------------\n",
            "{'dropout_rate': 0, 'ff_sizes': [6, 6], 'lr': 0.001, 'num_epochs': 15, 'player_hidden_sizes': [10, 14], 'team_hidden_sizes': [14, 14]}\n",
            "0.4655040204524994\n",
            "----------------------------------------\n",
            "{'dropout_rate': 0, 'ff_sizes': [6, 6], 'lr': 0.001, 'num_epochs': 20, 'player_hidden_sizes': [8, 8], 'team_hidden_sizes': [8, 10]}\n",
            "0.46915513277053833\n",
            "----------------------------------------\n",
            "{'dropout_rate': 0, 'ff_sizes': [6, 6], 'lr': 0.001, 'num_epochs': 20, 'player_hidden_sizes': [8, 8], 'team_hidden_sizes': [14, 14]}\n",
            "0.4452085494995117\n",
            "----------------------------------------\n",
            "{'dropout_rate': 0, 'ff_sizes': [6, 6], 'lr': 0.001, 'num_epochs': 20, 'player_hidden_sizes': [10, 14], 'team_hidden_sizes': [8, 10]}\n",
            "0.44114595651626587\n",
            "----------------------------------------\n",
            "{'dropout_rate': 0, 'ff_sizes': [6, 6], 'lr': 0.001, 'num_epochs': 20, 'player_hidden_sizes': [10, 14], 'team_hidden_sizes': [14, 14]}\n",
            "0.437089204788208\n",
            "----------------------------------------\n",
            "{'dropout_rate': 0, 'ff_sizes': [6, 6], 'lr': 0.003, 'num_epochs': 15, 'player_hidden_sizes': [8, 8], 'team_hidden_sizes': [8, 10]}\n",
            "0.4833638072013855\n",
            "----------------------------------------\n",
            "{'dropout_rate': 0, 'ff_sizes': [6, 6], 'lr': 0.003, 'num_epochs': 15, 'player_hidden_sizes': [8, 8], 'team_hidden_sizes': [14, 14]}\n",
            "0.4833589196205139\n",
            "----------------------------------------\n",
            "{'dropout_rate': 0, 'ff_sizes': [6, 6], 'lr': 0.003, 'num_epochs': 15, 'player_hidden_sizes': [10, 14], 'team_hidden_sizes': [8, 10]}\n",
            "0.4719718396663666\n",
            "----------------------------------------\n",
            "{'dropout_rate': 0, 'ff_sizes': [6, 6], 'lr': 0.003, 'num_epochs': 15, 'player_hidden_sizes': [10, 14], 'team_hidden_sizes': [14, 14]}\n",
            "0.4691740870475769\n",
            "----------------------------------------\n",
            "{'dropout_rate': 0, 'ff_sizes': [6, 6], 'lr': 0.003, 'num_epochs': 20, 'player_hidden_sizes': [8, 8], 'team_hidden_sizes': [8, 10]}\n",
            "0.48296061158180237\n",
            "----------------------------------------\n",
            "{'dropout_rate': 0, 'ff_sizes': [6, 6], 'lr': 0.003, 'num_epochs': 20, 'player_hidden_sizes': [8, 8], 'team_hidden_sizes': [14, 14]}\n",
            "0.47483962774276733\n",
            "----------------------------------------\n",
            "{'dropout_rate': 0, 'ff_sizes': [6, 6], 'lr': 0.003, 'num_epochs': 20, 'player_hidden_sizes': [10, 14], 'team_hidden_sizes': [8, 10]}\n",
            "0.4561486840248108\n",
            "----------------------------------------\n",
            "{'dropout_rate': 0, 'ff_sizes': [6, 6], 'lr': 0.003, 'num_epochs': 20, 'player_hidden_sizes': [10, 14], 'team_hidden_sizes': [14, 14]}\n",
            "0.4744405150413513\n",
            "----------------------------------------\n",
            "{'dropout_rate': 0.25, 'ff_sizes': [6], 'lr': 0.001, 'num_epochs': 15, 'player_hidden_sizes': [8, 8], 'team_hidden_sizes': [8, 10]}\n",
            "0.47198915481567383\n",
            "----------------------------------------\n",
            "{'dropout_rate': 0.25, 'ff_sizes': [6], 'lr': 0.001, 'num_epochs': 15, 'player_hidden_sizes': [8, 8], 'team_hidden_sizes': [14, 14]}\n",
            "0.4797225892543793\n",
            "----------------------------------------\n",
            "{'dropout_rate': 0.25, 'ff_sizes': [6], 'lr': 0.001, 'num_epochs': 15, 'player_hidden_sizes': [10, 14], 'team_hidden_sizes': [8, 10]}\n",
            "0.462658554315567\n",
            "----------------------------------------\n",
            "{'dropout_rate': 0.25, 'ff_sizes': [6], 'lr': 0.001, 'num_epochs': 15, 'player_hidden_sizes': [10, 14], 'team_hidden_sizes': [14, 14]}\n",
            "0.479295551776886\n",
            "----------------------------------------\n",
            "{'dropout_rate': 0.25, 'ff_sizes': [6], 'lr': 0.001, 'num_epochs': 20, 'player_hidden_sizes': [8, 8], 'team_hidden_sizes': [8, 10]}\n",
            "0.48213115334510803\n",
            "----------------------------------------\n",
            "{'dropout_rate': 0.25, 'ff_sizes': [6], 'lr': 0.001, 'num_epochs': 20, 'player_hidden_sizes': [8, 8], 'team_hidden_sizes': [14, 14]}\n",
            "0.4882352948188782\n",
            "----------------------------------------\n",
            "{'dropout_rate': 0.25, 'ff_sizes': [6], 'lr': 0.001, 'num_epochs': 20, 'player_hidden_sizes': [10, 14], 'team_hidden_sizes': [8, 10]}\n",
            "0.4939040541648865\n",
            "----------------------------------------\n",
            "{'dropout_rate': 0.25, 'ff_sizes': [6], 'lr': 0.001, 'num_epochs': 20, 'player_hidden_sizes': [10, 14], 'team_hidden_sizes': [14, 14]}\n",
            "0.510147750377655\n",
            "----------------------------------------\n",
            "{'dropout_rate': 0.25, 'ff_sizes': [6], 'lr': 0.003, 'num_epochs': 15, 'player_hidden_sizes': [8, 8], 'team_hidden_sizes': [8, 10]}\n",
            "0.507300615310669\n",
            "----------------------------------------\n",
            "{'dropout_rate': 0.25, 'ff_sizes': [6], 'lr': 0.003, 'num_epochs': 15, 'player_hidden_sizes': [8, 8], 'team_hidden_sizes': [14, 14]}\n",
            "0.5036568641662598\n",
            "----------------------------------------\n",
            "{'dropout_rate': 0.25, 'ff_sizes': [6], 'lr': 0.003, 'num_epochs': 15, 'player_hidden_sizes': [10, 14], 'team_hidden_sizes': [8, 10]}\n",
            "0.5007948875427246\n",
            "----------------------------------------\n",
            "{'dropout_rate': 0.25, 'ff_sizes': [6], 'lr': 0.003, 'num_epochs': 15, 'player_hidden_sizes': [10, 14], 'team_hidden_sizes': [14, 14]}\n",
            "0.5016293525695801\n",
            "----------------------------------------\n",
            "{'dropout_rate': 0.25, 'ff_sizes': [6], 'lr': 0.003, 'num_epochs': 20, 'player_hidden_sizes': [8, 8], 'team_hidden_sizes': [8, 10]}\n",
            "0.5142062306404114\n",
            "----------------------------------------\n",
            "{'dropout_rate': 0.25, 'ff_sizes': [6], 'lr': 0.003, 'num_epochs': 20, 'player_hidden_sizes': [8, 8], 'team_hidden_sizes': [14, 14]}\n",
            "0.5121736526489258\n",
            "----------------------------------------\n",
            "{'dropout_rate': 0.25, 'ff_sizes': [6], 'lr': 0.003, 'num_epochs': 20, 'player_hidden_sizes': [10, 14], 'team_hidden_sizes': [8, 10]}\n",
            "0.5121761560440063\n",
            "----------------------------------------\n",
            "{'dropout_rate': 0.25, 'ff_sizes': [6], 'lr': 0.003, 'num_epochs': 20, 'player_hidden_sizes': [10, 14], 'team_hidden_sizes': [14, 14]}\n",
            "0.5060958862304688\n",
            "----------------------------------------\n",
            "{'dropout_rate': 0.25, 'ff_sizes': [6, 6], 'lr': 0.001, 'num_epochs': 15, 'player_hidden_sizes': [8, 8], 'team_hidden_sizes': [8, 10]}\n",
            "0.4594131112098694\n",
            "----------------------------------------\n",
            "{'dropout_rate': 0.25, 'ff_sizes': [6, 6], 'lr': 0.001, 'num_epochs': 15, 'player_hidden_sizes': [8, 8], 'team_hidden_sizes': [14, 14]}\n",
            "0.4602244794368744\n",
            "----------------------------------------\n",
            "{'dropout_rate': 0.25, 'ff_sizes': [6, 6], 'lr': 0.001, 'num_epochs': 15, 'player_hidden_sizes': [10, 14], 'team_hidden_sizes': [8, 10]}\n",
            "0.4598187506198883\n",
            "----------------------------------------\n",
            "{'dropout_rate': 0.25, 'ff_sizes': [6, 6], 'lr': 0.001, 'num_epochs': 15, 'player_hidden_sizes': [10, 14], 'team_hidden_sizes': [14, 14]}\n",
            "0.47564688324928284\n",
            "----------------------------------------\n",
            "{'dropout_rate': 0.25, 'ff_sizes': [6, 6], 'lr': 0.001, 'num_epochs': 20, 'player_hidden_sizes': [8, 8], 'team_hidden_sizes': [8, 10]}\n",
            "0.458601713180542\n",
            "----------------------------------------\n",
            "{'dropout_rate': 0.25, 'ff_sizes': [6, 6], 'lr': 0.001, 'num_epochs': 20, 'player_hidden_sizes': [8, 8], 'team_hidden_sizes': [14, 14]}\n",
            "0.4926944673061371\n",
            "----------------------------------------\n",
            "{'dropout_rate': 0.25, 'ff_sizes': [6, 6], 'lr': 0.001, 'num_epochs': 20, 'player_hidden_sizes': [10, 14], 'team_hidden_sizes': [8, 10]}\n",
            "0.47686392068862915\n",
            "----------------------------------------\n",
            "{'dropout_rate': 0.25, 'ff_sizes': [6, 6], 'lr': 0.001, 'num_epochs': 20, 'player_hidden_sizes': [10, 14], 'team_hidden_sizes': [14, 14]}\n",
            "0.4902397692203522\n",
            "----------------------------------------\n",
            "{'dropout_rate': 0.25, 'ff_sizes': [6, 6], 'lr': 0.003, 'num_epochs': 15, 'player_hidden_sizes': [8, 8], 'team_hidden_sizes': [8, 10]}\n",
            "0.47444382309913635\n",
            "----------------------------------------\n",
            "{'dropout_rate': 0.25, 'ff_sizes': [6, 6], 'lr': 0.003, 'num_epochs': 15, 'player_hidden_sizes': [8, 8], 'team_hidden_sizes': [14, 14]}\n",
            "0.4723948538303375\n",
            "----------------------------------------\n",
            "{'dropout_rate': 0.25, 'ff_sizes': [6, 6], 'lr': 0.003, 'num_epochs': 15, 'player_hidden_sizes': [10, 14], 'team_hidden_sizes': [8, 10]}\n",
            "0.4703664183616638\n",
            "----------------------------------------\n",
            "{'dropout_rate': 0.25, 'ff_sizes': [6, 6], 'lr': 0.003, 'num_epochs': 15, 'player_hidden_sizes': [10, 14], 'team_hidden_sizes': [14, 14]}\n",
            "0.5056861042976379\n",
            "----------------------------------------\n",
            "{'dropout_rate': 0.25, 'ff_sizes': [6, 6], 'lr': 0.003, 'num_epochs': 20, 'player_hidden_sizes': [8, 8], 'team_hidden_sizes': [8, 10]}\n",
            "0.5142070055007935\n",
            "----------------------------------------\n",
            "{'dropout_rate': 0.25, 'ff_sizes': [6, 6], 'lr': 0.003, 'num_epochs': 20, 'player_hidden_sizes': [8, 8], 'team_hidden_sizes': [14, 14]}\n",
            "0.5101485252380371\n",
            "----------------------------------------\n",
            "{'dropout_rate': 0.25, 'ff_sizes': [6, 6], 'lr': 0.003, 'num_epochs': 20, 'player_hidden_sizes': [10, 14], 'team_hidden_sizes': [8, 10]}\n",
            "0.49227315187454224\n",
            "----------------------------------------\n",
            "{'dropout_rate': 0.25, 'ff_sizes': [6, 6], 'lr': 0.003, 'num_epochs': 20, 'player_hidden_sizes': [10, 14], 'team_hidden_sizes': [14, 14]}\n",
            "0.49514174461364746\n",
            "----------------------------------------\n",
            "{'dropout_rate': 0.5, 'ff_sizes': [6], 'lr': 0.001, 'num_epochs': 15, 'player_hidden_sizes': [8, 8], 'team_hidden_sizes': [8, 10]}\n",
            "0.460224449634552\n",
            "----------------------------------------\n",
            "{'dropout_rate': 0.5, 'ff_sizes': [6], 'lr': 0.001, 'num_epochs': 15, 'player_hidden_sizes': [8, 8], 'team_hidden_sizes': [14, 14]}\n",
            "0.45535629987716675\n",
            "----------------------------------------\n",
            "{'dropout_rate': 0.5, 'ff_sizes': [6], 'lr': 0.001, 'num_epochs': 15, 'player_hidden_sizes': [10, 14], 'team_hidden_sizes': [8, 10]}\n",
            "0.4541392922401428\n",
            "----------------------------------------\n",
            "{'dropout_rate': 0.5, 'ff_sizes': [6], 'lr': 0.001, 'num_epochs': 15, 'player_hidden_sizes': [10, 14], 'team_hidden_sizes': [14, 14]}\n",
            "0.4590074121952057\n",
            "----------------------------------------\n",
            "{'dropout_rate': 0.5, 'ff_sizes': [6], 'lr': 0.001, 'num_epochs': 20, 'player_hidden_sizes': [8, 8], 'team_hidden_sizes': [8, 10]}\n",
            "0.4537335932254791\n",
            "----------------------------------------\n",
            "{'dropout_rate': 0.5, 'ff_sizes': [6], 'lr': 0.001, 'num_epochs': 20, 'player_hidden_sizes': [8, 8], 'team_hidden_sizes': [14, 14]}\n",
            "0.45454493165016174\n",
            "----------------------------------------\n",
            "{'dropout_rate': 0.5, 'ff_sizes': [6], 'lr': 0.001, 'num_epochs': 20, 'player_hidden_sizes': [10, 14], 'team_hidden_sizes': [8, 10]}\n",
            "0.4537335932254791\n",
            "----------------------------------------\n",
            "{'dropout_rate': 0.5, 'ff_sizes': [6], 'lr': 0.001, 'num_epochs': 20, 'player_hidden_sizes': [10, 14], 'team_hidden_sizes': [14, 14]}\n",
            "0.45657333731651306\n",
            "----------------------------------------\n",
            "{'dropout_rate': 0.5, 'ff_sizes': [6], 'lr': 0.003, 'num_epochs': 15, 'player_hidden_sizes': [8, 8], 'team_hidden_sizes': [8, 10]}\n",
            "0.4537335932254791\n",
            "----------------------------------------\n",
            "{'dropout_rate': 0.5, 'ff_sizes': [6], 'lr': 0.003, 'num_epochs': 15, 'player_hidden_sizes': [8, 8], 'team_hidden_sizes': [14, 14]}\n",
            "0.4549531042575836\n",
            "----------------------------------------\n",
            "{'dropout_rate': 0.5, 'ff_sizes': [6], 'lr': 0.003, 'num_epochs': 15, 'player_hidden_sizes': [10, 14], 'team_hidden_sizes': [8, 10]}\n",
            "0.4537335932254791\n",
            "----------------------------------------\n",
            "{'dropout_rate': 0.5, 'ff_sizes': [6], 'lr': 0.003, 'num_epochs': 15, 'player_hidden_sizes': [10, 14], 'team_hidden_sizes': [14, 14]}\n",
            "0.4537335932254791\n",
            "----------------------------------------\n",
            "{'dropout_rate': 0.5, 'ff_sizes': [6], 'lr': 0.003, 'num_epochs': 20, 'player_hidden_sizes': [8, 8], 'team_hidden_sizes': [8, 10]}\n",
            "0.4537335932254791\n",
            "----------------------------------------\n",
            "{'dropout_rate': 0.5, 'ff_sizes': [6], 'lr': 0.003, 'num_epochs': 20, 'player_hidden_sizes': [8, 8], 'team_hidden_sizes': [14, 14]}\n",
            "0.4582034647464752\n",
            "----------------------------------------\n",
            "{'dropout_rate': 0.5, 'ff_sizes': [6], 'lr': 0.003, 'num_epochs': 20, 'player_hidden_sizes': [10, 14], 'team_hidden_sizes': [8, 10]}\n",
            "0.4537335932254791\n",
            "----------------------------------------\n",
            "{'dropout_rate': 0.5, 'ff_sizes': [6], 'lr': 0.003, 'num_epochs': 20, 'player_hidden_sizes': [10, 14], 'team_hidden_sizes': [14, 14]}\n",
            "0.45616763830184937\n",
            "----------------------------------------\n",
            "{'dropout_rate': 0.5, 'ff_sizes': [6, 6], 'lr': 0.001, 'num_epochs': 15, 'player_hidden_sizes': [8, 8], 'team_hidden_sizes': [8, 10]}\n",
            "0.4586074948310852\n",
            "----------------------------------------\n",
            "{'dropout_rate': 0.5, 'ff_sizes': [6, 6], 'lr': 0.001, 'num_epochs': 15, 'player_hidden_sizes': [8, 8], 'team_hidden_sizes': [14, 14]}\n",
            "0.4537335932254791\n",
            "----------------------------------------\n",
            "{'dropout_rate': 0.5, 'ff_sizes': [6, 6], 'lr': 0.001, 'num_epochs': 15, 'player_hidden_sizes': [10, 14], 'team_hidden_sizes': [8, 10]}\n",
            "0.4537335932254791\n",
            "----------------------------------------\n",
            "{'dropout_rate': 0.5, 'ff_sizes': [6, 6], 'lr': 0.001, 'num_epochs': 15, 'player_hidden_sizes': [10, 14], 'team_hidden_sizes': [14, 14]}\n",
            "0.4525165557861328\n",
            "----------------------------------------\n",
            "{'dropout_rate': 0.5, 'ff_sizes': [6, 6], 'lr': 0.001, 'num_epochs': 20, 'player_hidden_sizes': [8, 8], 'team_hidden_sizes': [8, 10]}\n",
            "0.4537335932254791\n",
            "----------------------------------------\n",
            "{'dropout_rate': 0.5, 'ff_sizes': [6, 6], 'lr': 0.001, 'num_epochs': 20, 'player_hidden_sizes': [8, 8], 'team_hidden_sizes': [14, 14]}\n",
            "0.4537335932254791\n",
            "----------------------------------------\n",
            "{'dropout_rate': 0.5, 'ff_sizes': [6, 6], 'lr': 0.001, 'num_epochs': 20, 'player_hidden_sizes': [10, 14], 'team_hidden_sizes': [8, 10]}\n",
            "0.4537335932254791\n",
            "----------------------------------------\n",
            "{'dropout_rate': 0.5, 'ff_sizes': [6, 6], 'lr': 0.001, 'num_epochs': 20, 'player_hidden_sizes': [10, 14], 'team_hidden_sizes': [14, 14]}\n",
            "0.4537335932254791\n",
            "----------------------------------------\n",
            "{'dropout_rate': 0.5, 'ff_sizes': [6, 6], 'lr': 0.003, 'num_epochs': 15, 'player_hidden_sizes': [8, 8], 'team_hidden_sizes': [8, 10]}\n",
            "0.4537335932254791\n",
            "----------------------------------------\n",
            "{'dropout_rate': 0.5, 'ff_sizes': [6, 6], 'lr': 0.003, 'num_epochs': 15, 'player_hidden_sizes': [8, 8], 'team_hidden_sizes': [14, 14]}\n",
            "0.4537335932254791\n",
            "----------------------------------------\n",
            "{'dropout_rate': 0.5, 'ff_sizes': [6, 6], 'lr': 0.003, 'num_epochs': 15, 'player_hidden_sizes': [10, 14], 'team_hidden_sizes': [8, 10]}\n",
            "0.4537335932254791\n",
            "----------------------------------------\n",
            "{'dropout_rate': 0.5, 'ff_sizes': [6, 6], 'lr': 0.003, 'num_epochs': 15, 'player_hidden_sizes': [10, 14], 'team_hidden_sizes': [14, 14]}\n",
            "0.4537335932254791\n",
            "----------------------------------------\n",
            "{'dropout_rate': 0.5, 'ff_sizes': [6, 6], 'lr': 0.003, 'num_epochs': 20, 'player_hidden_sizes': [8, 8], 'team_hidden_sizes': [8, 10]}\n",
            "0.4537335932254791\n",
            "----------------------------------------\n",
            "{'dropout_rate': 0.5, 'ff_sizes': [6, 6], 'lr': 0.003, 'num_epochs': 20, 'player_hidden_sizes': [8, 8], 'team_hidden_sizes': [14, 14]}\n",
            "0.4537335932254791\n",
            "----------------------------------------\n",
            "{'dropout_rate': 0.5, 'ff_sizes': [6, 6], 'lr': 0.003, 'num_epochs': 20, 'player_hidden_sizes': [10, 14], 'team_hidden_sizes': [8, 10]}\n",
            "0.4537335932254791\n",
            "----------------------------------------\n",
            "{'dropout_rate': 0.5, 'ff_sizes': [6, 6], 'lr': 0.003, 'num_epochs': 20, 'player_hidden_sizes': [10, 14], 'team_hidden_sizes': [14, 14]}\n",
            "0.4537335932254791\n",
            "----------------------------------------\n"
          ]
        }
      ]
    },
    {
      "cell_type": "code",
      "source": [
        "mean_accs = []\n",
        "for test_acc in hp_test_accs: \n",
        "  mean_accs.append(torch.tensor(test_acc)[:, -1].mean())\n",
        "\n",
        "best_config_indx = torch.tensor(mean_accs).argmax()\n",
        "best_hp_config = list(product(\n",
        "    dropout_rate_list, \n",
        "    ff_sizes_list, \n",
        "    lr_list, \n",
        "    num_epochs_list, \n",
        "    player_hidden_sizes_list, \n",
        "    team_hidden_sizes_list))[best_config_indx]\n",
        "\n",
        "\n",
        "best_sa_hp = dict(\n",
        "    zip(\n",
        "        ('dropout_rate', 'ff_sizes', 'lr', 'num_epochs', 'player_hidden_sizes', 'team_hidden_sizes'), \n",
        "        best_hp_config\n",
        "    )\n",
        ")\n",
        "best_sa_hp, torch.tensor(mean_accs).max().item()"
      ],
      "metadata": {
        "colab": {
          "base_uri": "https://localhost:8080/"
        },
        "id": "3ZXgFgibcvNC",
        "outputId": "688e9d3b-b0e1-4b69-ee9b-df19862a7317"
      },
      "execution_count": null,
      "outputs": [
        {
          "output_type": "execute_result",
          "data": {
            "text/plain": [
              "({'dropout_rate': 0.25,\n",
              "  'ff_sizes': [6, 6],\n",
              "  'lr': 0.003,\n",
              "  'num_epochs': 20,\n",
              "  'player_hidden_sizes': [8, 8],\n",
              "  'team_hidden_sizes': [8, 10]},\n",
              " 0.5142070055007935)"
            ]
          },
          "metadata": {},
          "execution_count": 276
        }
      ]
    },
    {
      "cell_type": "markdown",
      "source": [
        "# 6.Evaluation"
      ],
      "metadata": {
        "id": "soa5As08Xfh_"
      }
    },
    {
      "cell_type": "markdown",
      "source": [
        "## Part a"
      ],
      "metadata": {
        "id": "DnA9bwctXlsM"
      }
    },
    {
      "cell_type": "markdown",
      "source": [
        "### Accuracy"
      ],
      "metadata": {
        "id": "7AbN690U1Bf8"
      }
    },
    {
      "cell_type": "code",
      "source": [
        "sa_folds_accs_train = []\n",
        "sa_folds_accs_test = []\n",
        "sa_folds_epoch_loss = []\n",
        "feature_size = home_features.shape[1]\n",
        "sa_models = []\n",
        "for train_indcs, test_indcs in sa_cv_splits:\n",
        "  sa_model = SetAgg(\n",
        "      feature_size, \n",
        "      best_sa_hp['player_hidden_sizes'], \n",
        "      best_sa_hp['team_hidden_sizes'],\n",
        "      best_sa_hp['ff_sizes'],  \n",
        "      best_sa_hp['dropout_rate']).double()\n",
        "  \n",
        "  scaled_class_weight = torch.tensor([1., 1., 1.], dtype=torch.double)\n",
        "  \n",
        "  criterion = NLLLoss(scaled_class_weight)\n",
        "  optimizer = Adam(sa_model.parameters(), lr=best_sa_hp['lr'], weight_decay=0)\n",
        "  \n",
        "  train_home_features = home_features[torch.from_numpy(train_indcs)]\n",
        "  train_away_features = away_features[torch.from_numpy(train_indcs)]\n",
        "  train_y = y[torch.from_numpy(train_indcs)]\n",
        "\n",
        "  test_home_features = home_features[torch.from_numpy(test_indcs)]\n",
        "  test_away_features = away_features[torch.from_numpy(test_indcs)]\n",
        "  test_y = y[torch.from_numpy(test_indcs)]\n",
        "\n",
        "  fold_accs_train = []\n",
        "  fold_accs_test = []\n",
        "  fold_epoch_loss = []\n",
        "  for epoch in range(best_sa_hp['num_epochs']):\n",
        "    epoch_loss = 0\n",
        "    for home, away, results in zip(\n",
        "        torch.split(train_home_features, split_size_or_sections=batch_size), \n",
        "        torch.split(train_away_features, split_size_or_sections=batch_size), \n",
        "        torch.split(train_y, split_size_or_sections=batch_size)\n",
        "    ):\n",
        "    \n",
        "      batch_loss = train(sa_model, home, away, results, optimizer, criterion)\n",
        "      epoch_loss += batch_loss\n",
        "    test_acc = eval(sa_model, test_home_features, test_away_features, test_y)\n",
        "    train_acc = eval(sa_model, train_home_features, train_away_features, train_y)\n",
        "    fold_accs_test.append(test_acc)\n",
        "    fold_accs_train.append(train_acc)\n",
        "    fold_epoch_loss.append(epoch_loss)\n",
        "    \n",
        "  sa_folds_accs_train.append(fold_accs_train)\n",
        "  sa_models.append(sa_model)\n",
        "  sa_folds_accs_test.append(fold_accs_test)\n",
        "  sa_folds_epoch_loss.append(fold_epoch_loss)"
      ],
      "metadata": {
        "id": "AmBMm1NJXm_X"
      },
      "execution_count": null,
      "outputs": []
    },
    {
      "cell_type": "code",
      "source": [
        "torch.tensor(sa_folds_accs_test)[:, -1].mean(), torch.tensor(sa_folds_accs_test)[:, -1].std()"
      ],
      "metadata": {
        "colab": {
          "base_uri": "https://localhost:8080/"
        },
        "id": "xGIRQPZn1N53",
        "outputId": "95b42374-b597-4132-b1a5-7c32343672a9"
      },
      "execution_count": null,
      "outputs": [
        {
          "output_type": "execute_result",
          "data": {
            "text/plain": [
              "(tensor(0.5045), tensor(0.0314))"
            ]
          },
          "metadata": {},
          "execution_count": 291
        }
      ]
    },
    {
      "cell_type": "code",
      "source": [
        "for i, m in enumerate(sa_models):\n",
        "  torch.save(m, f'sa_model{i + 1}.pth')"
      ],
      "metadata": {
        "id": "xGL1GzfI3kdH"
      },
      "execution_count": null,
      "outputs": []
    },
    {
      "cell_type": "markdown",
      "source": [
        "### RPS"
      ],
      "metadata": {
        "id": "WSVxN6ZU31rH"
      }
    },
    {
      "cell_type": "code",
      "source": [
        "import torch.nn.functional as F"
      ],
      "metadata": {
        "id": "WcqTlYix40XP"
      },
      "execution_count": null,
      "outputs": []
    },
    {
      "cell_type": "code",
      "source": [
        "def rps(out, true):\n",
        "    oh_true = F.one_hot(torch.tensor(true), num_classes=3).numpy()\n",
        "    return (np.sum((np.cumsum(out, axis=1) - np.cumsum(oh_true, axis=1))**2, axis=1) / (out.shape[1] - 1)).mean()\n"
      ],
      "metadata": {
        "id": "Rp8Mqv2U34LS"
      },
      "execution_count": null,
      "outputs": []
    },
    {
      "cell_type": "code",
      "source": [
        "bookmaker_folds_acc = []\n",
        "bookmaker_folds_rps = []\n",
        "for train_indcs, test_indcs in bc_cv_split:\n",
        "  test_bo = bc_odds[['preGame_odds1', 'preGame_oddsX', 'preGame_odds2']].to_numpy()[torch.from_numpy(test_indcs)]\n",
        "  test_y = bc_y[torch.from_numpy(test_indcs)]\n",
        "\n",
        "  bo_pred = torch.tensor(test_bo.argmin(1))\n",
        "  bookmaker_folds_acc.append(((bo_pred == test_y).sum() / test_y.shape[0]).item())\n",
        "  bookmaker_folds_rps.append(rps(test_bo, test_y))"
      ],
      "metadata": {
        "colab": {
          "base_uri": "https://localhost:8080/"
        },
        "id": "AipwcfhaQG6i",
        "outputId": "e9beff48-82db-403d-bdeb-2c2548c36e8e"
      },
      "execution_count": null,
      "outputs": [
        {
          "output_type": "stream",
          "name": "stderr",
          "text": [
            "/usr/local/lib/python3.7/dist-packages/ipykernel_launcher.py:2: UserWarning: To copy construct from a tensor, it is recommended to use sourceTensor.clone().detach() or sourceTensor.clone().detach().requires_grad_(True), rather than torch.tensor(sourceTensor).\n",
            "  \n"
          ]
        }
      ]
    },
    {
      "cell_type": "code",
      "source": [
        "np.mean(bookmaker_folds_acc), np.std(bookmaker_folds_acc)"
      ],
      "metadata": {
        "colab": {
          "base_uri": "https://localhost:8080/"
        },
        "id": "9Trjo0P6Qbvs",
        "outputId": "61b20c30-bc3d-4d88-e531-df1278c713f5"
      },
      "execution_count": null,
      "outputs": [
        {
          "output_type": "execute_result",
          "data": {
            "text/plain": [
              "(0.4860504388809204, 0.010020412477562407)"
            ]
          },
          "metadata": {},
          "execution_count": 123
        }
      ]
    },
    {
      "cell_type": "code",
      "source": [
        "np.mean(bookmaker_folds_rps), np.std(bookmaker_folds_rps)"
      ],
      "metadata": {
        "colab": {
          "base_uri": "https://localhost:8080/"
        },
        "id": "6we6ZbAQRTtt",
        "outputId": "50a1e58c-ebf3-48b7-bedd-98d74a88d986"
      },
      "execution_count": null,
      "outputs": [
        {
          "output_type": "execute_result",
          "data": {
            "text/plain": [
              "(0.33102888339840303, 0.0038827429926305487)"
            ]
          },
          "metadata": {},
          "execution_count": 124
        }
      ]
    },
    {
      "cell_type": "code",
      "source": [
        "sa_folds_rps_test = []\n",
        "\n",
        "for (train_indcs, test_indcs), sa_model in zip(sa_cv_splits, sa_models):\n",
        "  test_home_features = home_features[torch.from_numpy(test_indcs)]\n",
        "  test_away_features = away_features[torch.from_numpy(test_indcs)]\n",
        "  test_y = y[torch.from_numpy(test_indcs)]\n",
        "\n",
        "  with torch.no_grad() as c:\n",
        "    sa_model.eval()\n",
        "    output = torch.exp(sa_model(test_home_features, test_away_features))\n",
        "  test_rps = rps(output.numpy(), test_y)\n",
        "  sa_folds_rps_test.append(test_rps)"
      ],
      "metadata": {
        "colab": {
          "base_uri": "https://localhost:8080/"
        },
        "id": "nZD1N32x36UE",
        "outputId": "41fc9af5-06f7-4774-d4c2-e0e27956f054"
      },
      "execution_count": null,
      "outputs": [
        {
          "output_type": "stream",
          "name": "stderr",
          "text": [
            "/usr/local/lib/python3.7/dist-packages/ipykernel_launcher.py:2: UserWarning: To copy construct from a tensor, it is recommended to use sourceTensor.clone().detach() or sourceTensor.clone().detach().requires_grad_(True), rather than torch.tensor(sourceTensor).\n",
            "  \n"
          ]
        }
      ]
    },
    {
      "cell_type": "code",
      "source": [
        "np.mean(sa_folds_rps_test), np.std(sa_folds_rps_test)"
      ],
      "metadata": {
        "colab": {
          "base_uri": "https://localhost:8080/"
        },
        "id": "8V04QlrJ5lEu",
        "outputId": "1348479a-b673-472e-9726-ef29cededa5c"
      },
      "execution_count": null,
      "outputs": [
        {
          "output_type": "execute_result",
          "data": {
            "text/plain": [
              "(0.2122002467206415, 0.002672327792981129)"
            ]
          },
          "metadata": {},
          "execution_count": 304
        }
      ]
    },
    {
      "cell_type": "code",
      "source": [
        "null_win = torch.zeros((y.shape[0], 3))\n",
        "null_win[:, 0] = 1"
      ],
      "metadata": {
        "id": "QEFEoITJ6mtZ"
      },
      "execution_count": null,
      "outputs": []
    },
    {
      "cell_type": "code",
      "source": [
        "folds_rps_null_model = []\n",
        "for train_indcs, test_indcs in sa_cv_splits:\n",
        "  test_y = y[torch.from_numpy(test_indcs)]\n",
        "  null_win = torch.zeros((test_y.shape[0], 3))\n",
        "  null_win[:, 0] = 1\n",
        "  folds_rps_null_model.append(rps(null_win.numpy(), test_y))"
      ],
      "metadata": {
        "colab": {
          "base_uri": "https://localhost:8080/"
        },
        "id": "WQV2vTqN7Tp2",
        "outputId": "d4d0ee7c-9559-48c8-a6a9-21597b0d0277"
      },
      "execution_count": null,
      "outputs": [
        {
          "output_type": "stream",
          "name": "stderr",
          "text": [
            "/usr/local/lib/python3.7/dist-packages/ipykernel_launcher.py:2: UserWarning: To copy construct from a tensor, it is recommended to use sourceTensor.clone().detach() or sourceTensor.clone().detach().requires_grad_(True), rather than torch.tensor(sourceTensor).\n",
            "  \n"
          ]
        }
      ]
    },
    {
      "cell_type": "code",
      "source": [
        "np.mean(folds_rps_null_model), np.std(folds_rps_null_model)"
      ],
      "metadata": {
        "colab": {
          "base_uri": "https://localhost:8080/"
        },
        "id": "W1RMzwLf77T8",
        "outputId": "d8169df7-564f-4845-981c-b22a9afa161a"
      },
      "execution_count": null,
      "outputs": [
        {
          "output_type": "execute_result",
          "data": {
            "text/plain": [
              "(0.42025181813684265, 0.00046028608715631625)"
            ]
          },
          "metadata": {},
          "execution_count": 315
        }
      ]
    },
    {
      "cell_type": "markdown",
      "source": [
        "## Part d"
      ],
      "metadata": {
        "id": "3jVNeMiv88A5"
      }
    },
    {
      "cell_type": "code",
      "source": [
        "best_sa_hp = dict(\n",
        "    zip(\n",
        "        ('dropout_rate', 'ff_sizes', 'lr', 'num_epochs', 'player_hidden_sizes', 'team_hidden_sizes'), \n",
        "        best_hp_config\n",
        "    )\n",
        ")"
      ],
      "metadata": {
        "id": "D9oZS9sY89Da"
      },
      "execution_count": null,
      "outputs": []
    },
    {
      "cell_type": "code",
      "source": [
        "best_sa_hp"
      ],
      "metadata": {
        "colab": {
          "base_uri": "https://localhost:8080/"
        },
        "id": "XYngOded9GJb",
        "outputId": "afc4d3e3-ffd6-42d9-a646-7d1d2b4b87fd"
      },
      "execution_count": null,
      "outputs": [
        {
          "output_type": "execute_result",
          "data": {
            "text/plain": [
              "{'dropout_rate': 0.25,\n",
              " 'ff_sizes': [6, 6],\n",
              " 'lr': 0.003,\n",
              " 'num_epochs': 20,\n",
              " 'player_hidden_sizes': [8, 8],\n",
              " 'team_hidden_sizes': [8, 10]}"
            ]
          },
          "metadata": {},
          "execution_count": 321
        }
      ]
    },
    {
      "cell_type": "code",
      "source": [
        "torch.tensor(mean_accs).max().item()"
      ],
      "metadata": {
        "colab": {
          "base_uri": "https://localhost:8080/"
        },
        "id": "Kpppov0x9Kfw",
        "outputId": "e6e91899-d8e1-42ba-99a8-68d43622afc7"
      },
      "execution_count": null,
      "outputs": [
        {
          "output_type": "execute_result",
          "data": {
            "text/plain": [
              "0.5142070055007935"
            ]
          },
          "metadata": {},
          "execution_count": 323
        }
      ]
    },
    {
      "cell_type": "markdown",
      "source": [
        "## Part e"
      ],
      "metadata": {
        "id": "DKDacVYm9Pzf"
      }
    },
    {
      "cell_type": "markdown",
      "source": [
        "The Blade Chest model tries to capture the interactions between teams through two feature vectors each encompassing the offensive and the defensive strength of teams which is similar to the real world analysis. The biggest drawback for this model is its ignorance towards players and team lineup.\n",
        "\n",
        "The Set Agg model's strength lies in its ability to include team players and their previous performances in both spatial and temporal contexts. However, the temporal aspect of modeling could also be modeled through machine learning approaches.\n",
        "\n",
        "One suggestion to improve the Set Agg's ability to capture the evolution of players through time is to use a temporal graph structure wherin each player has a chained structure spanning through time. The spatial context could easily be modeled with graph sturcture, forming a spati-temporal message passing graph."
      ],
      "metadata": {
        "id": "xR-o3Ync9Yr4"
      }
    },
    {
      "cell_type": "markdown",
      "source": [
        "# Visualizations"
      ],
      "metadata": {
        "id": "QGxDbcKvetQo"
      }
    },
    {
      "cell_type": "code",
      "source": [
        "import matplotlib.pyplot as plt"
      ],
      "metadata": {
        "id": "8I40iBn1gZCH"
      },
      "execution_count": null,
      "outputs": []
    },
    {
      "cell_type": "markdown",
      "source": [
        "## Accuracy"
      ],
      "metadata": {
        "id": "7_xt61YjexZq"
      }
    },
    {
      "cell_type": "code",
      "source": [
        "acc_dict = {'Always Home' : 0.4537,\n",
        "'Bookmaker' : 0.4860504388809204,\n",
        "'BladeChest' : 0.4860504388809204,\n",
        "'DeepSet' : 0.5045}\n",
        "\n",
        "x = np.arange(4)\n",
        "\n",
        "fig, ax = plt.subplots()\n",
        "for i in range(4):\n",
        "  ax.bar(\n",
        "      i,\n",
        "      list(acc_dict.values())[i],\n",
        "      width=0.5,\n",
        "      label=list(acc_dict.keys())[i]\n",
        "  )\n",
        "\n",
        "ax.set_ylim((0, 0.6))\n",
        "ax.set_xticks(x)\n",
        "ax.set_xticklabels(list(acc_dict.keys()))\n",
        "\n",
        "ax.legend(prop={'size': 15})\n",
        "fig.set_size_inches((15, 12))\n"
      ],
      "metadata": {
        "colab": {
          "base_uri": "https://localhost:8080/",
          "height": 704
        },
        "id": "35PYCGdpewLE",
        "outputId": "62eafdac-60d6-4ac5-f901-160acc81131b"
      },
      "execution_count": null,
      "outputs": [
        {
          "output_type": "display_data",
          "data": {
            "text/plain": [
              "<Figure size 1080x864 with 1 Axes>"
            ],
            "image/png": "[encoded data removed]"
          },
          "metadata": {
            "needs_background": "light"
          }
        }
      ]
    },
    {
      "cell_type": "markdown",
      "source": [
        "## RPS"
      ],
      "metadata": {
        "id": "y2_c0Ckdiroa"
      }
    },
    {
      "cell_type": "code",
      "source": [
        "acc_dict = {'Always Home' : 0.42025181813684265,\n",
        "'Bookmaker' : 0.33102888339840303,\n",
        "'BladeChest' : 0.28032589512584598,\n",
        "'DeepSet' : 0.2122002467206415}\n",
        "\n",
        "x = np.arange(4)\n",
        "\n",
        "fig, ax = plt.subplots()\n",
        "for i in range(4):\n",
        "  ax.bar(\n",
        "      i,\n",
        "      list(acc_dict.values())[i],\n",
        "      width=0.5,\n",
        "      label=list(acc_dict.keys())[i]\n",
        "  )\n",
        "\n",
        "ax.set_ylim((0, 0.45))\n",
        "ax.set_xticks(x)\n",
        "ax.set_xticklabels(list(acc_dict.keys()))\n",
        "\n",
        "ax.legend(prop={'size': 15})\n",
        "fig.set_size_inches((15, 12))\n"
      ],
      "metadata": {
        "colab": {
          "base_uri": "https://localhost:8080/",
          "height": 704
        },
        "id": "SI8epUKOitSx",
        "outputId": "9e82eff7-67bc-4660-b02f-6cd0a327d02d"
      },
      "execution_count": null,
      "outputs": [
        {
          "output_type": "display_data",
          "data": {
            "text/plain": [
              "<Figure size 1080x864 with 1 Axes>"
            ],
            "image/png": "[encoded data removed]"
          },
          "metadata": {
            "needs_background": "light"
          }
        }
      ]
    }
  ]
}